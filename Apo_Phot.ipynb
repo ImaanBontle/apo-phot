{
 "cells": [
  {
   "cell_type": "markdown",
   "id": "c347606d-8b54-48f5-91eb-e5f3070c3e46",
   "metadata": {},
   "source": [
    "# Preamble\n",
    "This code takes NIRCam photometry images and performs apodised photometry (estimation of the flux through each NIRSpec aperture) on the given list of NIRSpec sources. It does this by overlaying the apertures on the sources, calculating the total flux through the aperture, and subtracting an estimated local background flux in the nearby sky region. It also provides an uncertainty estimate on the fluxes themselves.\n",
    "\n",
    "## Required packages:\n",
    "1. Astropy\n",
    "2. Matplotlib\n",
    "3. Numpy\n",
    "4. Photutils\n",
    "5. Tqdm (for the display of progress bars)\n",
    "6. ipympl (if using jupyter-lab $\\ge$ v3.0)\n",
    "\n",
    "## Navigating this code\n",
    "\n",
    "The code is broken up into three sections.\n",
    "1. **Environment prep.**\n",
    "   \n",
    "   This section prepares the environment and loads all relevant objects.\n",
    "   \n",
    "2. **Generalised code.**\n",
    "   \n",
    "   This is a single set of functions that can be called with one command and will run the apodised photometry from start to finish.\n",
    "   \n",
    "3. **Demo calculations.**\n",
    "\n",
    "   This section illustrates both the motivation and the implementation of each step in the process. This way you can familiarise yourself with the calculations as well as test your dataset for any errors.\n",
    "\n",
    "## Things you will need to do before running the full code:\n",
    "\n",
    "1. **Provide csv tables for each pointing** (called 'visits' in the code) **and for the target acquisition.**\n",
    "\n",
    "   The code assumes the names of the visits have a similar format, with a unique identifier in the name for each visit. These identifiers should be listed in environment prep. Also, the target acquisition table is assumed to have a unique name (with 'TA' somewhere in it) and should be specified there too.\n",
    "   \n",
    "   If needed, you can dump these files from the APT file using the <a href=\"https://www.stsci.edu/scientific-community/software/astronomers-proposal-tool-apt\">APT software</a> using the following steps:\n",
    "   1. Open the apt file.\n",
    "   2. Go to the relevant visit on the left, within the relevant plan.\n",
    "   3. Switch to the MSA Planning Tool on the topbar.\n",
    "   4. Click the Plans tab in the central window.\n",
    "   5. Highlight (click on) the science plan within the Plan Selection section (usually the third of three).\n",
    "   6. Once highlighted, go to the menu bar and click File..., Export..., then choose 'MSA Target Info [.csv]')\n",
    "   \n",
    "2. **Each table should contain:**\n",
    "    - The source IDs and coordinates in RA, Dec.\n",
    "    - The aperture angle\n",
    "    - The offsets of the sources within the aperture (in decimal percentages).\n",
    "\n",
    "3. **Provide a list of identifiers/names for each photometry band image.**\n",
    "\n",
    "It is also recommended that you **run the demo code at least once on a new dataset** before running the full code (always restart the kernel first to clear variables from the demo). There are a few reasons this is a good idea:\n",
    "- You may wish to check all the calculations are working correctly for a new dataset.\n",
    "- Some bands have a different pixel size to the default (F200W and upwards), and it's important to check that radii are being correctly adjusted for this (the radius factors for each image are listed below and can be tweaked).\n",
    "- You may wish to compare the aperture positions against Aladin (can be done in the APT software too, just send each science visit separately to Aladin via the MSA Planning Tool Plans tab).\n",
    "- Additionally, if you have not used this code before, the demo can be helpful for understanding how each step works, especially since you may need to adjust the code to your dataset."
   ]
  },
  {
   "cell_type": "markdown",
   "id": "658e563e-bea8-4599-a4ed-3fdd3c2736e6",
   "metadata": {},
   "source": [
    "# Environment Prep"
   ]
  },
  {
   "cell_type": "code",
   "execution_count": 1,
   "id": "9db410f5-8af9-4a15-b41b-ad779ff0ad59",
   "metadata": {
    "tags": []
   },
   "outputs": [
    {
     "name": "stdout",
     "output_type": "stream",
     "text": [
      "Preparing environment...\n",
      "Done.\n"
     ]
    }
   ],
   "source": [
    "print(\"Preparing environment...\")\n",
    "\n",
    "import time\n",
    "import warnings\n",
    "\n",
    "warnings.filterwarnings(\"ignore\")\n",
    "import math\n",
    "\n",
    "import astropy.table as tbl\n",
    "import matplotlib.patches as patch\n",
    "import matplotlib.pyplot as plt\n",
    "import numpy as np\n",
    "import photutils\n",
    "from astropy import units as u\n",
    "from astropy.coordinates import SkyCoord\n",
    "from astropy.io import fits\n",
    "from astropy.stats import SigmaClip\n",
    "from astropy.visualization import simple_norm\n",
    "from astropy.wcs import WCS\n",
    "from matplotlib.colors import LogNorm\n",
    "from photutils.background import Background2D, MedianBackground, SExtractorBackground\n",
    "from photutils.centroids import (\n",
    "    centroid_1dg,\n",
    "    centroid_2dg,\n",
    "    centroid_com,\n",
    "    centroid_quadratic,\n",
    "    centroid_sources,\n",
    ")\n",
    "from photutils.datasets import make_4gaussians_image\n",
    "from photutils.utils import CutoutImage, calc_total_error\n",
    "from tqdm.autonotebook import tqdm, trange\n",
    "\n",
    "%matplotlib widget\n",
    "# %matplotlib inline\n",
    "\n",
    "print(\"Done.\")"
   ]
  },
  {
   "cell_type": "code",
   "execution_count": 2,
   "id": "bb5abc37-64c9-4958-ad0f-8234cdcc751c",
   "metadata": {},
   "outputs": [
    {
     "name": "stdout",
     "output_type": "stream",
     "text": [
      "Defining user variables...\n",
      "Done.\n"
     ]
    }
   ],
   "source": [
    "print(\"Defining user variables...\")\n",
    "\n",
    "\n",
    "##### Define directories\n",
    "SourceDir = \"../SharedData/NIRSpec/Deep/\"\n",
    "# ImDir = \"D:/SMACS_Images/\"\n",
    "ImDir = \"D:/Jades_images_v0.5/\"\n",
    "AlignDir = \"../SharedData/NIRSpec/SMACS_Data/\"\n",
    "WorkDir = \"../Working_Directory/\"\n",
    "Proj_Name = \"HST_Deep\"\n",
    "!bash -c \"mkdir -p {WorkDir}Apo_Phot/{Proj_Name}/\"\n",
    "\n",
    "\n",
    "\n",
    "##### Define file-parsing parameters\n",
    "### Catalogue: Aperture corners not provided\n",
    "# <prefix><visit>.csv\n",
    "# Source_Prefix = \"2736-obs8-\"\n",
    "### Catalogue: Aperture corners provided\n",
    "# <filename>.fits\n",
    "Source_Name = \"deep_apertures\"\n",
    "### Target Acquisition (can leave blank and use 'AlignFlag=False' instead)\n",
    "# <prefix>TA.csv\n",
    "# Align_Prefix = \"2736-obs8-1-\"\n",
    "### Images files\n",
    "# <prefix><image><suffix>.fits\n",
    "# Im_Prefix = \"FSun_SMACSJ0723_\"\n",
    "Im_Prefix = \"mosaic_\"\n",
    "# Im_Suffix = \"_modB_i2d\"\n",
    "Im_Suffix = \"\"\n",
    "\n",
    "\n",
    "\n",
    "##### Define relevant references\n",
    "### List of NIRCam Images\n",
    "# Images = [\"sw_F090W\", \"sw_F150W\", \"sw_F200W\", \"lw_F277W\", \"lw_F356W\", \"lw_F444W\"]\n",
    "Images = [\"F090W\", \"F115W\", \"F150W\", \"F182M\", \"F200W\", \"F210M\", \"F277W\", \"F335M\", \"F356W\", \"F410M\", \"F430M\", \"F444W\", \"F460M\", \"F480M\"]\n",
    "### List of image extension names\n",
    "SciExt = \"SCI\"\n",
    "ErrExt = \"ERR\"\n",
    "### List of visits (pointings) per image\n",
    "# Visits = [\n",
    "#     \"c1-2e1n1-G235M-F170LP\",\n",
    "#     \"c1-2e1n2-G235M-F170LP\",\n",
    "#     \"c1-2e1n3-G235M-F170LP\",\n",
    "#     \"c1-2e2n1-G395M-F290LP\",\n",
    "#     \"c1-2e2n2-G395M-F290LP\",\n",
    "#     \"c1-2e2n3-G395M-F290LP\",\n",
    "# ]\n",
    "# Visits = [1]\n",
    "Visits = [7, 8, 13]\n",
    "### List of IDs with custom annuli\n",
    "# IDs = [4590, 6355, 10612]\n",
    "### List of custom annulus radii per ID\n",
    "# Radii = [(30, 50), (70, 90), (20, 40)]\n",
    "\n",
    "\n",
    "print(\"Done.\")"
   ]
  },
  {
   "cell_type": "markdown",
   "id": "dadc5e3a-bba7-49a9-9879-719407b6d5f7",
   "metadata": {
    "tags": []
   },
   "source": [
    "# Generalised Code"
   ]
  },
  {
   "cell_type": "markdown",
   "id": "bde157c6-26c2-453c-bb6e-3c9687b651ef",
   "metadata": {},
   "source": [
    "Generalised code for all galaxies (see demo section for explanation of steps)."
   ]
  },
  {
   "cell_type": "code",
   "execution_count": 3,
   "id": "a45020e5-78c4-42f9-8e7b-b5e3b7dbe765",
   "metadata": {},
   "outputs": [
    {
     "name": "stdout",
     "output_type": "stream",
     "text": [
      "Defining functions...\n",
      "Done.\n"
     ]
    }
   ],
   "source": [
    "print(\"Defining functions...\")\n",
    "\n",
    "# Function to grab MSA information from CSV tables\n",
    "def Grab_CSV(Input, Output, File, Row):\n",
    "    ID = Input[File][Row][\"ID\"]\n",
    "    try:\n",
    "        Output[ID][File] = {}\n",
    "    except KeyError:\n",
    "        Output[ID] = {}\n",
    "        Output[ID][File] = {}\n",
    "    finally:\n",
    "        Output[ID][File][\"RA\"] = Input[File][Row][\"Source RA (Degrees)\"] * u.deg\n",
    "        Output[ID][File][\"Dec\"] = Input[File][Row][\"Source Dec (Degrees)\"] * u.deg\n",
    "        Output[ID][File][\"Angle\"] = Input[File][Row][\"Aperture PA (Degrees)\"] * u.deg\n",
    "        Output[ID][File][\"Offset_x\"] = (\n",
    "            Input[File][Row][\"Offset (x)\"]\n",
    "        ) * u.dimensionless_unscaled\n",
    "        Output[ID][File][\"Offset_y\"] = (\n",
    "            Input[File][Row][\"Offset (y)\"]\n",
    "        ) * u.dimensionless_unscaled\n",
    "    return Output\n",
    "\n",
    "\n",
    "# Function to handle data import\n",
    "def Import_Data(ApFlag, AlignFlag):\n",
    "    if ApFlag == False:\n",
    "        CatDict = {}\n",
    "        Catalogue = {}\n",
    "        for visit in Visits:\n",
    "            CatDict[visit] = tbl.Table.read(\n",
    "                f\"{SourceDir}{Source_Prefix}{visit}.csv\"\n",
    "            )\n",
    "            for x in range(0, len(CatDict[visit]), 1):\n",
    "                Catalogue = Grab_CSV(CatDict, Catalogue, visit, x)\n",
    "    elif ApFlag == \"Physical\" or ApFlag == \"Illuminated\":\n",
    "        Catalogue = tbl.Table.read(f\"{SourceDir}{Source_Name}.fits\")\n",
    "        Catalogue.add_index(\"ID\")\n",
    "    AlignCat = {}\n",
    "    if AlignFlag == True:\n",
    "        AlignDict = {}\n",
    "        AlignDict[\"Align\"] = tbl.Table.read(f\"{AlignDir}{Align_Prefix}TA.csv\")\n",
    "        for x in range(0, len(AlignDict[\"Align\"]), 1):\n",
    "            AlignCat = Grab_CSV(AlignDict, AlignCat, \"Align\", x)\n",
    "    return Catalogue, AlignCat\n",
    "\n",
    "\n",
    "# Function to handle image import\n",
    "def Import_Image(image):\n",
    "    ImageDict = {}\n",
    "    hdu_file = fits.open(ImDir + f\"{Im_Prefix}{image}{Im_Suffix}.fits\")\n",
    "    ImageDict[\"header\"] = hdu_file[0].header\n",
    "    DataTypes = [SciExt, ErrExt]\n",
    "    for dtyp in tqdm(DataTypes, desc=\"Extensions\", leave=False):\n",
    "        ImageDict[dtyp] = {}\n",
    "        ImageDict[dtyp][\"data\"] = hdu_file[dtyp].data\n",
    "        ImageDict[dtyp][\"header\"] = hdu_file[dtyp].header\n",
    "    hdu_file.close()\n",
    "    return ImageDict\n",
    "\n",
    "\n",
    "# Function to find aperture corner coordinates\n",
    "def Find_Aperture(\n",
    "    Reference, Reference_Physical, Dimensions, frame_aperture_to_image, wcs\n",
    "):\n",
    "    offset_aper = np.array(\n",
    "        [[Reference[0], Reference[1]], [0, 0], [0, 1], [1, 1], [1, 0]]\n",
    "    )\n",
    "    offset_aper_rel = offset_aper - offset_aper[0]\n",
    "    offset_aper_deg = np.array([item * Dimensions for item in offset_aper_rel])\n",
    "    offset_image_deg = np.array(\n",
    "        [np.matmul(item, frame_aperture_to_image) for item in offset_aper_deg]\n",
    "    )\n",
    "    offset_image = np.array(\n",
    "        [\n",
    "            item * np.array([1 / np.cos(Reference_Physical[1]), 1])\n",
    "            for item in offset_image_deg\n",
    "        ]\n",
    "    )\n",
    "    aperture_image = (\n",
    "        np.array([Reference_Physical - item * u.degree for item in offset_image])\n",
    "        * u.degree\n",
    "    )\n",
    "    aperture_image_sky = np.array(\n",
    "        [SkyCoord(ra=item[0], dec=item[1]) for item in aperture_image]\n",
    "    )\n",
    "    aperture_pixel = np.array([wcs.world_to_pixel(item) for item in aperture_image_sky])\n",
    "    reference_pixel = aperture_pixel[0]\n",
    "    aperture_corners = aperture_pixel[1:5].transpose()\n",
    "    return reference_pixel, aperture_corners\n",
    "\n",
    "\n",
    "# Function to find centre of aperture from corner coordinates\n",
    "def polygon_area(xs, ys):\n",
    "    \"\"\"https://en.wikipedia.org/wiki/Centroid#Of_a_polygon\"\"\"\n",
    "    # https://stackoverflow.com/a/30408825/7128154\n",
    "    return 0.5 * (np.dot(xs, np.roll(ys, 1)) - np.dot(ys, np.roll(xs, 1)))\n",
    "\n",
    "\n",
    "# Function to find area of aperture from corner coordinates\n",
    "def polygon_centroid(xs, ys):\n",
    "    \"\"\"https://en.wikipedia.org/wiki/Centroid#Of_a_polygon\"\"\"\n",
    "    xy = np.array([xs, ys])\n",
    "    c = np.dot(\n",
    "        xy + np.roll(xy, 1, axis=1), xs * np.roll(ys, 1) - np.roll(xs, 1) * ys\n",
    "    ) / (6 * polygon_area(xs, ys))\n",
    "    return c\n",
    "\n",
    "\n",
    "# Function to define dimensions of aperture\n",
    "def aperture_define(corners, angle):\n",
    "    centroid = polygon_centroid(corners[0], corners[1])\n",
    "    height = np.sqrt(\n",
    "        (corners[0][1] - corners[0][0]) ** 2 + (corners[1][1] - corners[1][0]) ** 2\n",
    "    )\n",
    "    width = np.sqrt(\n",
    "        (corners[0][2] - corners[0][1]) ** 2 + (corners[1][2] - corners[1][1]) ** 2\n",
    "    )\n",
    "    aperture_object = photutils.aperture.RectangularAperture(\n",
    "        centroid,\n",
    "        width,\n",
    "        height,\n",
    "        theta=angle,\n",
    "    )\n",
    "    return aperture_object, centroid, width, height\n",
    "\n",
    "\n",
    "# Function to grab Target Acquisition centroids\n",
    "def TA_centroids(ImageDict, wcs, AlignCat):\n",
    "    x_init = y_init = []\n",
    "    for ID in AlignCat.keys():\n",
    "        pixels = wcs.world_to_pixel(\n",
    "            SkyCoord(ra=AlignCat[ID][\"Align\"][\"RA\"], dec=AlignCat[ID][\"Align\"][\"Dec\"])\n",
    "        )\n",
    "        x_init = x_init + [pixels[0]]\n",
    "        y_init = y_init + [pixels[1]]\n",
    "    # Run through centroid fitting\n",
    "    x_init = np.array(x_init)\n",
    "    y_init = np.array(y_init)\n",
    "    x, y = centroid_sources(\n",
    "        ImageDict[SciExt][\"data\"],\n",
    "        x_init,\n",
    "        y_init,\n",
    "        box_size=21,\n",
    "        centroid_func=centroid_2dg,\n",
    "    )\n",
    "    return x, y, x_init, y_init\n",
    "\n",
    "\n",
    "# Function to find shift factor\n",
    "def find_shift(x, y, x_init, y_init):\n",
    "    x_shift = x - x_init\n",
    "    y_shift = y - y_init\n",
    "    return x_shift, y_shift\n",
    "\n",
    "\n",
    "# Function to correct shift\n",
    "def shift_correct(x_shift, y_shift, x_init, y_init):\n",
    "    x_subtr = x_init + np.mean(x_shift)\n",
    "    y_subtr = y_init + np.mean(y_shift)\n",
    "    return x_subtr, y_subtr\n",
    "\n",
    "\n",
    "# Function to find equation of a line\n",
    "def linear_equation(x1, x2, y1, y2):\n",
    "    m = (y1 - y2) / (x1 - x2)\n",
    "    c = -m * x1 + y1\n",
    "    return m, c\n",
    "\n",
    "\n",
    "# Function to find intersect between two lines\n",
    "def intersect(m1, c1, m2, c2):\n",
    "    x_int = (c2 - c1) / (m1 - m2)\n",
    "    y_int = (m1 * x_int) + c1\n",
    "    return x_int, y_int\n",
    "\n",
    "\n",
    "# Function to locate scale centre\n",
    "def scale_centre(x, y, x_subtr, y_subtr):\n",
    "    x_ints = y_ints = []\n",
    "    for i in range(0, len(x), 1):\n",
    "        for j in range(0, len(y), 1):\n",
    "            if i != j:\n",
    "                mi, ci = linear_equation(x[i], x_subtr[i], y[i], y_subtr[i])\n",
    "                mj, cj = linear_equation(x[j], x_subtr[j], y[j], y_subtr[j])\n",
    "                x_int, y_int = intersect(mi, ci, mj, cj)\n",
    "                x_ints = x_ints + [x_int]\n",
    "                y_ints = y_ints + [y_int]\n",
    "    x_int = np.mean(x_ints)\n",
    "    y_int = np.mean(y_ints)\n",
    "    return x_int, y_int\n",
    "\n",
    "\n",
    "# Function to find scale values\n",
    "def find_scale(xs, ys, x_offs, y_offs, x_int, y_int):\n",
    "    x_intarr = np.full(len(xs), x_int)\n",
    "    x_dists = xs - x_intarr\n",
    "    x_offdists = x_offs - x_intarr\n",
    "    x_scalearr = np.divide(x_offdists, x_dists)\n",
    "    x_scale = np.mean(x_scalearr)\n",
    "    y_intarr = np.full(len(ys), y_int)\n",
    "    y_dists = ys - y_intarr\n",
    "    y_offdists = y_offs - y_intarr\n",
    "    y_scalearr = np.divide(y_offdists, y_dists)\n",
    "    y_scale = np.mean(y_scalearr)\n",
    "    return x_scale, y_scale\n",
    "\n",
    "\n",
    "# Function to correct scale\n",
    "def scale_correct(xs, ys, x_shift, y_shift, x_int, y_int):\n",
    "    x_new = (xs - x_int) * x_shift + x_int\n",
    "    y_new = (ys - y_int) * y_shift + y_int\n",
    "    return x_new, y_new\n",
    "\n",
    "\n",
    "# Function to oversee calculation of shift + scale correction\n",
    "def shift_and_scale(ImageDict, wcs, AlignCat):\n",
    "    x, y, x_init, y_init = TA_centroids(ImageDict, wcs, AlignCat)\n",
    "    x_shift, y_shift = find_shift(x, y, x_init, y_init)\n",
    "    x_subtr, y_subtr = shift_correct(x_shift, y_shift, x_init, y_init)\n",
    "    x_int, y_int = scale_centre(x, y, x_subtr, y_subtr)\n",
    "    x_scale, y_scale = find_scale(x_subtr, y_subtr, x, y, x_int, y_int)\n",
    "    return x_shift, x_scale, y_shift, y_scale, x_int, y_int\n",
    "\n",
    "\n",
    "# Function to perform apodised photometry\n",
    "def Find_Photometry(\n",
    "    source_location,\n",
    "    radius,\n",
    "    aperture_centroid,\n",
    "    aperture_width,\n",
    "    aperture_height,\n",
    "    aperture_theta,\n",
    "    data,\n",
    "    error,\n",
    "    bkg_flag,\n",
    "    err_flag,\n",
    "    ImageDict,\n",
    "    pixfact,\n",
    "):\n",
    "    r_in = radius[0] * pixfact\n",
    "    r_out = radius[1] * pixfact\n",
    "    cutout = CutoutImage(\n",
    "        data,\n",
    "        (math.floor(source_location[1]), math.floor(source_location[0])),\n",
    "        (2 * (r_out + 10) + 1, 2 * (r_out + 10) + 1),\n",
    "    ).data\n",
    "    cutout_err = CutoutImage(\n",
    "        error,\n",
    "        (math.floor(source_location[1]), math.floor(source_location[0])),\n",
    "        (2 * (r_out + 10) + 1, 2 * (r_out + 10) + 1),\n",
    "    ).data\n",
    "    cutout_centre = (\n",
    "        np.array([source_location[0], source_location[1]])\n",
    "        - np.array([math.floor(source_location[0]), math.floor(source_location[1])])\n",
    "        + np.array([r_out + 10, r_out + 10])\n",
    "    )\n",
    "    cutout_aperture_centre = (\n",
    "        aperture_centroid\n",
    "        - np.array([math.floor(source_location[0]), math.floor(source_location[1])])\n",
    "        + np.array([r_out + 10, r_out + 10])\n",
    "    )\n",
    "    cutout_annulus = photutils.aperture.CircularAnnulus(\n",
    "        cutout_centre, r_in=r_in, r_out=r_out\n",
    "    )\n",
    "    cutout_aperture = photutils.aperture.RectangularAperture(\n",
    "        cutout_aperture_centre,\n",
    "        aperture_width,\n",
    "        aperture_height,\n",
    "        theta=aperture_theta,\n",
    "    )\n",
    "    if bkg_flag == False:\n",
    "        annu_stats = photutils.ApertureStats(cutout, cutout_annulus)\n",
    "        bkg_value = annu_stats.mean\n",
    "        phot_table = photutils.aperture_photometry(cutout, cutout_aperture)\n",
    "        for col in phot_table.colnames:\n",
    "            phot_table[col].info.format = \"%.8g\"\n",
    "        apflux = phot_table[\"aperture_sum\"][0]\n",
    "        aper_area = aperture.area_overlap(cutout)\n",
    "        total_bkg = bkg_value * aper_area\n",
    "        phot_bkgsub = apflux - total_bkg\n",
    "    elif bkg_flag == True:\n",
    "        sigclip = SigmaClip(sigma=3.0, maxiters=10)\n",
    "        aper_stats = photutils.ApertureStats(cutout, cutout_aperture, sigma_clip=None)\n",
    "        bkg_stats = photutils.ApertureStats(cutout, cutout_annulus, sigma_clip=sigclip)\n",
    "        aper_area = aper_stats.sum_aper_area.value\n",
    "        bkg_value = bkg_stats.sum / bkg_stats.sum_aper_area.value\n",
    "        total_bkg = bkg_value * aper_stats.sum_aper_area.value\n",
    "        apflux = aper_stats.sum\n",
    "        phot_bkgsub = apflux - total_bkg\n",
    "    if err_flag == False:\n",
    "        phot_table = photutils.aperture_photometry(\n",
    "            cutout, cutout_aperture, error=cutout_err\n",
    "        )\n",
    "        for col in phot_table.colnames:\n",
    "            phot_table[col].info.format = \"%.8g\"\n",
    "        phot_err = phot_table[\"aperture_sum_err\"][0]\n",
    "    elif err_flag == True:\n",
    "        effective_gain = ImageDict[\"header\"][\"EFFEXPTM\"]  # electrons/s x seconds\n",
    "        bkg_error = calc_total_error(cutout, cutout_err, effective_gain)\n",
    "        phot_table = photutils.aperture_photometry(\n",
    "            cutout, cutout_aperture, error=bkg_error\n",
    "        )\n",
    "        for col in phot_table.colnames:\n",
    "            phot_table[col].info.format = \"%.8g\"  # for consistent table output\n",
    "        phot_err = phot_table[\"aperture_sum_err\"][0]\n",
    "    elif err_flag == None:\n",
    "        phot_err = 0.0\n",
    "    return apflux, bkg_value, phot_bkgsub, phot_err, aper_area\n",
    "\n",
    "\n",
    "# Function to manage astrometry calculations\n",
    "def Astr_Calcs(\n",
    "    aperture_phys_corners,\n",
    "    aperture_theta,\n",
    "    x_shift,\n",
    "    y_shift,\n",
    "    x_scale,\n",
    "    y_scale,\n",
    "    x_int,\n",
    "    y_int,\n",
    "    center_offset,\n",
    "    aperture_illum_dims,\n",
    "    frame_aperture_to_image,\n",
    "    wcs,\n",
    "    ApFlag,\n",
    "):\n",
    "    (\n",
    "        aperture_phys,\n",
    "        aperture_phys_centroid,\n",
    "        aperture_phys_width_pixel,\n",
    "        aperture_phys_height_pixel,\n",
    "    ) = aperture_define(aperture_phys_corners, aperture_theta)\n",
    "    # Shift-corrected aperture\n",
    "    aperture_shift_x, aperture_shift_y = shift_correct(\n",
    "        x_shift,\n",
    "        y_shift,\n",
    "        aperture_phys_centroid[0],\n",
    "        aperture_phys_centroid[1],\n",
    "    )\n",
    "    # Shift-corrected aperture\n",
    "    aperture_scale_x, aperture_scale_y = scale_correct(\n",
    "        aperture_shift_x,\n",
    "        aperture_shift_y,\n",
    "        x_scale,\n",
    "        y_scale,\n",
    "        x_int,\n",
    "        y_int,\n",
    "    )\n",
    "    if ApFlag == False or ApFlag == \"Physical\":\n",
    "        aperture_scale_centroid_world = (\n",
    "            np.array(wcs.pixel_to_world_values(aperture_scale_x, aperture_scale_y))\n",
    "            * u.degree\n",
    "        )\n",
    "        (centroid_scale_coords_pixels, aperture_scale_corners,) = Find_Aperture(\n",
    "            center_offset,\n",
    "            aperture_scale_centroid_world,\n",
    "            aperture_illum_dims,\n",
    "            frame_aperture_to_image,\n",
    "            wcs,\n",
    "        )\n",
    "    elif ApFlag == \"Illuminated\":\n",
    "        for index in range(0, 4, 1):\n",
    "            (\n",
    "                aperture_phys_corners[0][index],\n",
    "                aperture_phys_corners[1][index],\n",
    "            ) = shift_correct(\n",
    "                x_shift,\n",
    "                y_shift,\n",
    "                aperture_phys_corners[0][index],\n",
    "                aperture_phys_corners[1][index],\n",
    "            )\n",
    "            (\n",
    "                aperture_phys_corners[0][index],\n",
    "                aperture_phys_corners[1][index],\n",
    "            ) = scale_correct(\n",
    "                aperture_phys_corners[0][index],\n",
    "                aperture_phys_corners[1][index],\n",
    "                x_scale,\n",
    "                y_scale,\n",
    "                x_int,\n",
    "                y_int,\n",
    "            )\n",
    "        aperture_scale_corners = aperture_phys_corners\n",
    "        centroid_scale_coords_pixels = np.array([aperture_scale_x, aperture_scale_y])\n",
    "    (\n",
    "        aperture_scale,\n",
    "        aperture_scale_centroid,\n",
    "        aperture_scale_width_pixel,\n",
    "        aperture_scale_height_pixel,\n",
    "    ) = aperture_define(aperture_scale_corners, aperture_theta)\n",
    "    return (\n",
    "        aperture_phys,\n",
    "        aperture_phys_centroid,\n",
    "        aperture_phys_width_pixel,\n",
    "        aperture_phys_height_pixel,\n",
    "        aperture_shift_x,\n",
    "        aperture_shift_y,\n",
    "        aperture_scale_x,\n",
    "        aperture_scale_y,\n",
    "        centroid_scale_coords_pixels,\n",
    "        aperture_scale_corners,\n",
    "        aperture_scale,\n",
    "        aperture_scale_centroid,\n",
    "        aperture_scale_width_pixel,\n",
    "        aperture_scale_height_pixel,\n",
    "    )\n",
    "\n",
    "\n",
    "# Function in case where apertures are not provided (ApFlag=False)\n",
    "def Apertures_Absent(\n",
    "    bkg_flag,\n",
    "    err_flag,\n",
    "    AlignFlag,\n",
    "    ApFlag,\n",
    "    image,\n",
    "    Catalogue,\n",
    "    AlignCat,\n",
    "    ImageDict,\n",
    "    PixRef,\n",
    "    offsetrows,\n",
    "):\n",
    "    aperture_phys_width = (0.27 * u.arcsec).to(u.degree)\n",
    "    aperture_phys_height = (0.53 * u.arcsec).to(u.degree)\n",
    "    aperture_phys_dims = (\n",
    "        np.array([aperture_phys_width.value, aperture_phys_height.value])\n",
    "        * aperture_phys_height.unit\n",
    "    )\n",
    "    aperture_illum_width = (0.20 * u.arcsec).to(u.degree)\n",
    "    aperture_illum_height = (0.46 * u.arcsec).to(u.degree)\n",
    "    aperture_illum_dims = (\n",
    "        np.array([aperture_illum_width.value, aperture_illum_height.value])\n",
    "        * aperture_illum_height.unit\n",
    "    )\n",
    "    center_offset = np.array([0.5, 0.5])\n",
    "    # Looping through images, visits and IDs\n",
    "    wcs = WCS(ImageDict[SciExt][\"header\"])\n",
    "    PixNew = wcs.pixel_shape\n",
    "    pixfact = np.mean(\n",
    "        [newaxis / refaxis for newaxis, refaxis in zip(PixNew, PixRef)]\n",
    "    )\n",
    "    # Where to save photometry for later averaging\n",
    "    ImageDict[\"Averages\"] = {}\n",
    "    # Finding offset+shift correction for image\n",
    "    if AlignFlag == True:\n",
    "        x_shift, x_scale, y_shift, y_scale, x_int, y_int = shift_and_scale(\n",
    "            ImageDict, wcs, AlignCat\n",
    "        )\n",
    "    elif AlignFlag == False:\n",
    "        x_shift, x_scale, y_shift, y_scale, x_int, y_int = 0, 1, 0, 1, 0, 0\n",
    "    for visit in tqdm(Visits, desc=\"Visits\", leave=False):\n",
    "        ImageDict[visit] = {}\n",
    "        rows = []\n",
    "        for ID in tqdm(Catalogue.keys(), desc=\"IDs\", leave=False):\n",
    "            # More required objects\n",
    "            try:\n",
    "                aperture_theta = Catalogue[ID][visit][\"Angle\"]\n",
    "                frame_aperture_to_image = np.array(\n",
    "                    [\n",
    "                        [np.cos(aperture_theta), -np.sin(aperture_theta)],\n",
    "                        [np.sin(aperture_theta), np.cos(aperture_theta)],\n",
    "                    ]\n",
    "                )\n",
    "                frame_image_to_aperture = np.array(\n",
    "                    [\n",
    "                        [np.cos(-aperture_theta), -np.sin(-aperture_theta)],\n",
    "                        [np.sin(-aperture_theta), np.cos(-aperture_theta)],\n",
    "                    ]\n",
    "                )\n",
    "                source_coords_phys = (\n",
    "                    np.array(\n",
    "                        [\n",
    "                            Catalogue[ID][visit][\"RA\"].value,\n",
    "                            Catalogue[ID][visit][\"Dec\"].value,\n",
    "                        ]\n",
    "                    )\n",
    "                    * Catalogue[ID][visit][\"Dec\"].unit\n",
    "                )\n",
    "                source_offset = [\n",
    "                    1 - Catalogue[ID][visit][\"Offset (x)\"],\n",
    "                    Catalogue[ID][visit][\"Offset (y)\"],\n",
    "                ]\n",
    "                # Physical aperture\n",
    "                source_coords_pixels, aperture_phys_corners = Find_Aperture(\n",
    "                    source_offset,\n",
    "                    source_coords_phys,\n",
    "                    aperture_phys_dims,\n",
    "                    frame_aperture_to_image,\n",
    "                    wcs,\n",
    "                )\n",
    "                (\n",
    "                    aperture_phys,\n",
    "                    aperture_phys_centroid,\n",
    "                    aperture_phys_width_pixel,\n",
    "                    aperture_phys_height_pixel,\n",
    "                    aperture_shift_x,\n",
    "                    aperture_shift_y,\n",
    "                    aperture_scale_x,\n",
    "                    aperture_scale_y,\n",
    "                    centroid_scale_coords_pixels,\n",
    "                    aperture_scale_corners,\n",
    "                    aperture_scale,\n",
    "                    aperture_scale_centroid,\n",
    "                    aperture_scale_width_pixel,\n",
    "                    aperture_scale_height_pixel,\n",
    "                ) = Astr_Calcs(\n",
    "                    aperture_phys_corners,\n",
    "                    aperture_theta,\n",
    "                    x_shift,\n",
    "                    y_shift,\n",
    "                    x_scale,\n",
    "                    y_scale,\n",
    "                    x_int,\n",
    "                    y_int,\n",
    "                    center_offset,\n",
    "                    aperture_illum_dims,\n",
    "                    frame_aperture_to_image,\n",
    "                    wcs,\n",
    "                    ApFlag,\n",
    "                )\n",
    "                # Shift-corrected source\n",
    "                source_shift_x, source_shift_y = shift_correct(\n",
    "                    x_shift,\n",
    "                    y_shift,\n",
    "                    source_coords_pixels[0],\n",
    "                    source_coords_pixels[1],\n",
    "                )\n",
    "                # Scale-corrected source\n",
    "                source_scale_x, source_scale_y = scale_correct(\n",
    "                    source_shift_x,\n",
    "                    source_shift_y,\n",
    "                    x_scale,\n",
    "                    y_scale,\n",
    "                    x_int,\n",
    "                    y_int,\n",
    "                )\n",
    "                # Saving data to table\n",
    "                ImageDict[visit][ID] = {}\n",
    "                ImageDict[visit][ID][\"Source Pixel (x)\"] = source_coords_pixels[\n",
    "                    0\n",
    "                ]\n",
    "                ImageDict[visit][ID][\"Source Pixel (y)\"] = source_coords_pixels[\n",
    "                    1\n",
    "                ]\n",
    "                ImageDict[visit][ID][\"Source Shifted (x)\"] = source_shift_x\n",
    "                ImageDict[visit][ID][\"Source Shifted (y)\"] = source_shift_y\n",
    "                ImageDict[visit][ID][\"Source Scaled (x)\"] = source_scale_x\n",
    "                ImageDict[visit][ID][\"Source Scaled (y)\"] = source_scale_y\n",
    "                ImageDict[visit][ID][\n",
    "                    \"Aperture Pixel (x)\"\n",
    "                ] = aperture_phys_centroid[0]\n",
    "                ImageDict[visit][ID][\n",
    "                    \"Aperture Pixel (y)\"\n",
    "                ] = aperture_phys_centroid[1]\n",
    "                ImageDict[visit][ID][\"Aperture Shifted (x)\"] = aperture_shift_x\n",
    "                ImageDict[visit][ID][\"Aperture Shifted (y)\"] = aperture_shift_y\n",
    "                ImageDict[visit][ID][\"Aperture Scaled (x)\"] = aperture_scale_x\n",
    "                ImageDict[visit][ID][\"Aperture Scaled (y)\"] = aperture_scale_y\n",
    "                # Apodised photometry\n",
    "                if (\n",
    "                    0 < source_scale_x < wcs.array_shape[0]\n",
    "                    and 0 < source_scale_y < wcs.array_shape[1]\n",
    "                ):\n",
    "                    data = ImageDict[SciExt][\"data\"]\n",
    "                    error = ImageDict[ErrExt][\"data\"]\n",
    "                    radius = (30, 50)\n",
    "                    try:\n",
    "                        IDs\n",
    "                    except NameError:\n",
    "                        pass\n",
    "                    else:\n",
    "                        for case, replace in zip(IDs, Radii):\n",
    "                            if case == ID:\n",
    "                                radius = replace\n",
    "                                break\n",
    "                    (\n",
    "                        apflux,\n",
    "                        bkg_value,\n",
    "                        phot_bkgsub,\n",
    "                        phot_err,\n",
    "                        aper_area,\n",
    "                    ) = Find_Photometry(\n",
    "                        np.array([source_scale_x, source_scale_y]),\n",
    "                        radius,\n",
    "                        aperture_scale_centroid,\n",
    "                        aperture_scale_width_pixel,\n",
    "                        aperture_scale_height_pixel,\n",
    "                        aperture_theta,\n",
    "                        data,\n",
    "                        error,\n",
    "                        bkg_flag,\n",
    "                        err_flag,\n",
    "                        ImageDict,\n",
    "                        pixfact,\n",
    "                    )\n",
    "                    ImageDict[visit][ID][\"Aperture Flux\"] = apflux\n",
    "                    ImageDict[visit][ID][\"Background\"] = bkg_value\n",
    "                    ImageDict[visit][ID][\"Final Flux\"] = phot_bkgsub\n",
    "                    ImageDict[visit][ID][\"Final Flux Error\"] = phot_err\n",
    "                    # Save values for later averaging\n",
    "                    try:\n",
    "                        ImageDict[\"Averages\"][ID][\"Fluxaverage\"][\n",
    "                            visit\n",
    "                        ] = ImageDict[visit][ID][\"Aperture Flux\"]\n",
    "                    except KeyError:\n",
    "                        ImageDict[\"Averages\"][ID] = {}\n",
    "                        ImageDict[\"Averages\"][ID][\"Fluxaverage\"] = {}\n",
    "                        ImageDict[\"Averages\"][ID][\"Backaverage\"] = {}\n",
    "                        ImageDict[\"Averages\"][ID][\"Finalaverage\"] = {}\n",
    "                        ImageDict[\"Averages\"][ID][\"Finalerr\"] = {}\n",
    "                        ImageDict[\"Averages\"][ID][\"Fluxaverage\"][\n",
    "                            visit\n",
    "                        ] = ImageDict[visit][ID][\"Aperture Flux\"]\n",
    "                    finally:\n",
    "                        ImageDict[\"Averages\"][ID][\"Backaverage\"][\n",
    "                            visit\n",
    "                        ] = ImageDict[visit][ID][\"Background\"]\n",
    "                        ImageDict[\"Averages\"][ID][\"Finalaverage\"][\n",
    "                            visit\n",
    "                        ] = ImageDict[visit][ID][\"Final Flux\"]\n",
    "                        ImageDict[\"Averages\"][ID][\"Finalerr\"][visit] = (\n",
    "                            ImageDict[visit][ID][\"Final Flux Error\"]\n",
    "                        ) ** 2\n",
    "                rows.append(\n",
    "                    [\n",
    "                        ID,\n",
    "                        Catalogue[ID][visit][\"RA\"].value,\n",
    "                        Catalogue[ID][visit][\"Dec\"].value,\n",
    "                        Catalogue[ID][visit][\"Angle\"].value,\n",
    "                        Catalogue[ID][visit][\"Offset (x)\"],\n",
    "                        Catalogue[ID][visit][\"Offset (y)\"],\n",
    "                        ImageDict[visit][ID][\"Source Pixel (x)\"],\n",
    "                        ImageDict[visit][ID][\"Source Pixel (y)\"],\n",
    "                        ImageDict[visit][ID][\"Source Shifted (x)\"],\n",
    "                        ImageDict[visit][ID][\"Source Shifted (y)\"],\n",
    "                        ImageDict[visit][ID][\"Source Scaled (x)\"],\n",
    "                        ImageDict[visit][ID][\"Source Scaled (y)\"],\n",
    "                        ImageDict[visit][ID][\"Aperture Pixel (x)\"],\n",
    "                        ImageDict[visit][ID][\"Aperture Pixel (y)\"],\n",
    "                        ImageDict[visit][ID][\"Aperture Shifted (x)\"],\n",
    "                        ImageDict[visit][ID][\"Aperture Shifted (y)\"],\n",
    "                        ImageDict[visit][ID][\"Aperture Scaled (x)\"],\n",
    "                        ImageDict[visit][ID][\"Aperture Scaled (y)\"],\n",
    "                        aperture_scale_width_pixel,\n",
    "                        aperture_scale_height_pixel,\n",
    "                        aperture_scale_corners[0][0],\n",
    "                        aperture_scale_corners[1][0],\n",
    "                        aperture_scale_corners[0][1],\n",
    "                        aperture_scale_corners[1][1],\n",
    "                        aperture_scale_corners[0][2],\n",
    "                        aperture_scale_corners[1][2],\n",
    "                        aperture_scale_corners[0][3],\n",
    "                        aperture_scale_corners[1][3],\n",
    "                        aper_area,\n",
    "                        radius[0] * pixfact,\n",
    "                        radius[1] * pixfact,\n",
    "                        ImageDict[visit][ID][\"Aperture Flux\"],\n",
    "                        ImageDict[visit][ID][\"Background\"],\n",
    "                        ImageDict[visit][ID][\"Final Flux\"],\n",
    "                        ImageDict[visit][ID][\"Final Flux Error\"],\n",
    "                    ]\n",
    "                )\n",
    "            except KeyError:\n",
    "                continue\n",
    "        Photometry_Table = tbl.Table(\n",
    "            rows=rows,\n",
    "            names=(\n",
    "                \"ID\",\n",
    "                \"RA (degrees)\",\n",
    "                \"Dec (degrees)\",\n",
    "                \"Angle (degrees)\",\n",
    "                \"Offset Fraction (x)\",\n",
    "                \"Offset Fraction (y)\",\n",
    "                \"Source Pixel (x)\",\n",
    "                \"Source Pixel (y)\",\n",
    "                \"Source Shifted (x)\",\n",
    "                \"Source Shifted (y)\",\n",
    "                \"Source Scaled (x)\",\n",
    "                \"Source Scaled (y)\",\n",
    "                \"Aperture Pixel (x)\",\n",
    "                \"Aperture Pixel (y)\",\n",
    "                \"Aperture Shifted (x)\",\n",
    "                \"Aperture Shifted (y)\",\n",
    "                \"Aperture Scaled (x)\",\n",
    "                \"Aperture Scaled (y)\",\n",
    "                \"Aperture Width (pixels)\",\n",
    "                \"Aperture Height (pixels)\",\n",
    "                \"Aperture Corner 1 (x)\",\n",
    "                \"Aperture Corner 1 (y)\",\n",
    "                \"Aperture Corner 2 (x)\",\n",
    "                \"Aperture Corner 2 (y)\",\n",
    "                \"Aperture Corner 3 (x)\",\n",
    "                \"Aperture Corner 3 (y)\",\n",
    "                \"Aperture Corner 4 (x)\",\n",
    "                \"Aperture Corner 4 (y)\",\n",
    "                \"Aperture Area (pixels)\",\n",
    "                \"Annulus Inner Radius (pixels)\",\n",
    "                \"Annulus Outer Radius (pixels)\",\n",
    "                \"Flux Total (counts)\",\n",
    "                \"Background per pixel (counts/pixel2)\",\n",
    "                \"Background Subtracted Flux (counts)\",\n",
    "                \"Flux Error (counts)\",\n",
    "            ),\n",
    "        )\n",
    "        Photometry_Table.sort(\"ID\")\n",
    "        Photometry_Table.write(\n",
    "            f\"{WorkDir}Apo_Phot/{Proj_Name}/{image}_{visit}.fits\", overwrite=True\n",
    "        )\n",
    "    # Average the fluxes per pointing\n",
    "    summaryrows = []\n",
    "    for galaxy in tqdm(\n",
    "        ImageDict[\"Averages\"].keys(),\n",
    "        desc=\"Averaging all pointings\",\n",
    "        leave=False,\n",
    "    ):\n",
    "        Fluxaverage = np.sum(\n",
    "            list(ImageDict[\"Averages\"][galaxy][\"Fluxaverage\"].values())\n",
    "        ) / len(ImageDict[\"Averages\"][galaxy][\"Fluxaverage\"].keys())\n",
    "        Backaverage = np.sum(\n",
    "            list(ImageDict[\"Averages\"][galaxy][\"Backaverage\"].values())\n",
    "        ) / len(ImageDict[\"Averages\"][galaxy][\"Backaverage\"].keys())\n",
    "        Finalaverage = np.sum(\n",
    "            list(ImageDict[\"Averages\"][galaxy][\"Finalaverage\"].values())\n",
    "        ) / len(ImageDict[\"Averages\"][galaxy][\"Finalaverage\"].keys())\n",
    "        Finalerr = np.sqrt(\n",
    "            np.sum(list(ImageDict[\"Averages\"][galaxy][\"Finalerr\"].values()))\n",
    "        )\n",
    "        visitdummy = list(\n",
    "            ImageDict[\"Averages\"][galaxy][\"Finalaverage\"].keys()\n",
    "        )[0]\n",
    "        summaryrows.append(\n",
    "            [\n",
    "                galaxy,\n",
    "                Catalogue[galaxy][visitdummy][\"RA\"].value,\n",
    "                Catalogue[galaxy][visitdummy][\"Dec\"].value,\n",
    "                Fluxaverage,\n",
    "                Backaverage,\n",
    "                Finalaverage,\n",
    "                Finalerr,\n",
    "            ]\n",
    "        )\n",
    "    Photometry_Table_Summary = tbl.Table(\n",
    "        rows=summaryrows,\n",
    "        names=(\n",
    "            \"ID\",\n",
    "            \"RA (degrees)\",\n",
    "            \"Dec (degrees)\",\n",
    "            \"Average Flux (counts)\",\n",
    "            \"Average Background (counts)\",\n",
    "            \"Average Background-Subtracted Flux (counts)\",\n",
    "            \"Error (counts)\",\n",
    "        ),\n",
    "    )\n",
    "    Photometry_Table_Summary.sort(\"ID\")\n",
    "    Photometry_Table_Summary.write(\n",
    "        f\"{WorkDir}Apo_Phot/{Proj_Name}/{image}_summary.fits\", overwrite=True\n",
    "    )\n",
    "    offsetrows.append(\n",
    "        [\n",
    "            image,\n",
    "            np.mean(x_shift),\n",
    "            np.mean(y_shift),\n",
    "            x_scale,\n",
    "            y_scale,\n",
    "            x_int,\n",
    "            y_int,\n",
    "            ImageDict[\"SCI\"][\"header\"][\"PIXAR_A2\"],\n",
    "            ImageDict[\"SCI\"][\"header\"][\"PHOTUJA2\"],\n",
    "        ]\n",
    "    )\n",
    "    return offsetrows\n",
    "\n",
    "\n",
    "# Function in case where apertures are provided (ApFlag=\"Physical\" or ApFlag=\"Illuminated\")\n",
    "def Apertures_Provided(\n",
    "    bkg_flag,\n",
    "    err_flag,\n",
    "    AlignFlag,\n",
    "    ApFlag,\n",
    "    image,\n",
    "    Catalogue,\n",
    "    AlignCat,\n",
    "    ImageDict,\n",
    "    PixRef,\n",
    "    offsetrows,\n",
    "):\n",
    "    aperture_phys_width = (0.27 * u.arcsec).to(u.degree)\n",
    "    aperture_phys_height = (0.53 * u.arcsec).to(u.degree)\n",
    "    aperture_phys_dims = (\n",
    "        np.array([aperture_phys_width.value, aperture_phys_height.value])\n",
    "        * aperture_phys_height.unit\n",
    "    )\n",
    "    aperture_illum_width = (0.20 * u.arcsec).to(u.degree)\n",
    "    aperture_illum_height = (0.46 * u.arcsec).to(u.degree)\n",
    "    aperture_illum_dims = (\n",
    "        np.array([aperture_illum_width.value, aperture_illum_height.value])\n",
    "        * aperture_illum_height.unit\n",
    "    )\n",
    "    center_offset = np.array([0.5, 0.5])\n",
    "    # Looping through visits and IDs\n",
    "    wcs = WCS(ImageDict[SciExt][\"header\"])\n",
    "    PixNew = wcs.pixel_shape\n",
    "    pixfact = np.mean([newaxis / refaxis for newaxis, refaxis in zip(PixNew, PixRef)])\n",
    "    # Where to save photometry for later averaging\n",
    "    ImageDict[\"Averages\"] = {}\n",
    "    # Finding offset+shift correction for image\n",
    "    if AlignFlag == True:\n",
    "        x_shift, x_scale, y_shift, y_scale, x_int, y_int = shift_and_scale(\n",
    "            ImageDict, wcs, AlignCat\n",
    "        )\n",
    "    elif AlignFlag == False:\n",
    "        x_shift, x_scale, y_shift, y_scale, x_int, y_int = 0, 1, 0, 1, 0, 0\n",
    "    for visit in tqdm(Visits, desc=\"Visits\", leave=False):\n",
    "        ImageDict[visit] = {}\n",
    "        rows = []\n",
    "        for x in tqdm(\n",
    "            range(0, len(Catalogue), 1),\n",
    "            desc=\"IDs\",\n",
    "            leave=False,\n",
    "        ):\n",
    "            if Catalogue[\"Visit\"][x] == visit:\n",
    "                # More required objects\n",
    "                ID = int(Catalogue[\"ID\"][x])\n",
    "                try:\n",
    "                    aperture_theta_2 = wcs.world_to_pixel(\n",
    "                        SkyCoord(\n",
    "                            ra=Catalogue[\"RA_2\"][x] * u.deg,\n",
    "                            dec=Catalogue[\"Dec_2\"][x] * u.deg,\n",
    "                        )\n",
    "                    )\n",
    "                    aperture_theta_1 = wcs.world_to_pixel(\n",
    "                        SkyCoord(\n",
    "                            ra=Catalogue[\"RA_1\"][x] * u.deg,\n",
    "                            dec=Catalogue[\"Dec_1\"][x] * u.deg,\n",
    "                        )\n",
    "                    )\n",
    "                    aperture_theta = 90 * u.deg + (\n",
    "                        np.arctan(\n",
    "                            (aperture_theta_2[1] - aperture_theta_1[1])\n",
    "                            / (aperture_theta_2[0] - aperture_theta_1[0])\n",
    "                        )\n",
    "                        * u.rad\n",
    "                    ).to(u.deg)\n",
    "                    frame_aperture_to_image = np.array(\n",
    "                        [\n",
    "                            [np.cos(aperture_theta), -np.sin(aperture_theta)],\n",
    "                            [np.sin(aperture_theta), np.cos(aperture_theta)],\n",
    "                        ]\n",
    "                    )\n",
    "                    frame_image_to_aperture = np.array(\n",
    "                        [\n",
    "                            [np.cos(-aperture_theta), -np.sin(-aperture_theta)],\n",
    "                            [np.sin(-aperture_theta), np.cos(-aperture_theta)],\n",
    "                        ]\n",
    "                    )\n",
    "                    aperture_input_corner = np.array(\n",
    "                        [\n",
    "                            [\n",
    "                                Catalogue[\"RA_1\"][x],\n",
    "                                Catalogue[\"Dec_1\"][x],\n",
    "                            ],\n",
    "                            [\n",
    "                                Catalogue[\"RA_2\"][x],\n",
    "                                Catalogue[\"Dec_2\"][x],\n",
    "                            ],\n",
    "                            [\n",
    "                                Catalogue[\"RA_3\"][x],\n",
    "                                Catalogue[\"Dec_3\"][x],\n",
    "                            ],\n",
    "                            [\n",
    "                                Catalogue[\"RA_4\"][x],\n",
    "                                Catalogue[\"Dec_4\"][x],\n",
    "                            ],\n",
    "                        ]\n",
    "                    )\n",
    "                    aperture_input_sky = np.array(\n",
    "                        [\n",
    "                            SkyCoord(ra=item[0] * u.deg, dec=item[1] * u.deg)\n",
    "                            for item in aperture_input_corner\n",
    "                        ]\n",
    "                    )\n",
    "                    aperture_pixel = np.array(\n",
    "                        [wcs.world_to_pixel(item) for item in aperture_input_sky]\n",
    "                    )\n",
    "                    aperture_phys_corners = aperture_pixel.transpose()\n",
    "                    RA = Catalogue[\"Source_RA\"][x]\n",
    "                    Dec = Catalogue[\"Source_Dec\"][x]\n",
    "                    source_coords_pixels = wcs.world_to_pixel(\n",
    "                        SkyCoord(\n",
    "                            ra=RA * u.deg,\n",
    "                            dec=Dec * u.deg,\n",
    "                        )\n",
    "                    )\n",
    "                    (\n",
    "                        aperture_phys,\n",
    "                        aperture_phys_centroid,\n",
    "                        aperture_phys_width_pixel,\n",
    "                        aperture_phys_height_pixel,\n",
    "                        aperture_shift_x,\n",
    "                        aperture_shift_y,\n",
    "                        aperture_scale_x,\n",
    "                        aperture_scale_y,\n",
    "                        centroid_scale_coords_pixels,\n",
    "                        aperture_scale_corners,\n",
    "                        aperture_scale,\n",
    "                        aperture_scale_centroid,\n",
    "                        aperture_scale_width_pixel,\n",
    "                        aperture_scale_height_pixel,\n",
    "                    ) = Astr_Calcs(\n",
    "                        aperture_phys_corners,\n",
    "                        aperture_theta,\n",
    "                        x_shift,\n",
    "                        y_shift,\n",
    "                        x_scale,\n",
    "                        y_scale,\n",
    "                        x_int,\n",
    "                        y_int,\n",
    "                        center_offset,\n",
    "                        aperture_illum_dims,\n",
    "                        frame_aperture_to_image,\n",
    "                        wcs,\n",
    "                        ApFlag,\n",
    "                    )\n",
    "                    # Shift-corrected source\n",
    "                    source_shift_x, source_shift_y = shift_correct(\n",
    "                        x_shift,\n",
    "                        y_shift,\n",
    "                        source_coords_pixels[0],\n",
    "                        source_coords_pixels[1],\n",
    "                    )\n",
    "                    # Scale-corrected source\n",
    "                    source_scale_x, source_scale_y = scale_correct(\n",
    "                        source_shift_x,\n",
    "                        source_shift_y,\n",
    "                        x_scale,\n",
    "                        y_scale,\n",
    "                        x_int,\n",
    "                        y_int,\n",
    "                    )\n",
    "                    # Saving data to table\n",
    "                    ImageDict[visit][ID] = {}\n",
    "                    ImageDict[visit][ID][\"Source Pixel (x)\"] = source_coords_pixels[0]\n",
    "                    ImageDict[visit][ID][\"Source Pixel (y)\"] = source_coords_pixels[1]\n",
    "                    ImageDict[visit][ID][\"Source Shifted (x)\"] = source_shift_x\n",
    "                    ImageDict[visit][ID][\"Source Shifted (y)\"] = source_shift_y\n",
    "                    ImageDict[visit][ID][\"Source Scaled (x)\"] = source_scale_x\n",
    "                    ImageDict[visit][ID][\"Source Scaled (y)\"] = source_scale_y\n",
    "                    ImageDict[visit][ID][\"Aperture Pixel (x)\"] = aperture_phys_centroid[0]\n",
    "                    ImageDict[visit][ID][\"Aperture Pixel (y)\"] = aperture_phys_centroid[1]\n",
    "                    ImageDict[visit][ID][\"Aperture Shifted (x)\"] = aperture_shift_x\n",
    "                    ImageDict[visit][ID][\"Aperture Shifted (y)\"] = aperture_shift_y\n",
    "                    ImageDict[visit][ID][\"Aperture Scaled (x)\"] = aperture_scale_x\n",
    "                    ImageDict[visit][ID][\"Aperture Scaled (y)\"] = aperture_scale_y\n",
    "                    ImageDict[visit][ID][\n",
    "                        \"Aperture Physical Corners\"\n",
    "                    ] = aperture_phys_corners\n",
    "                    ImageDict[visit][ID][\n",
    "                        \"Aperture Illuminated Corners\"\n",
    "                    ] = aperture_scale_corners\n",
    "                    ImageDict[visit][ID][\n",
    "                        \"Aperture Physical Height\"\n",
    "                    ] = aperture_phys_height_pixel\n",
    "                    ImageDict[visit][ID][\n",
    "                        \"Aperture Physical Width\"\n",
    "                    ] = aperture_phys_width_pixel\n",
    "                    ImageDict[visit][ID][\n",
    "                        \"Aperture Illuminated Height\"\n",
    "                    ] = aperture_scale_height_pixel\n",
    "                    ImageDict[visit][ID][\n",
    "                        \"Aperture Illuminated Width\"\n",
    "                    ] = aperture_scale_width_pixel\n",
    "                    # Apodised photometry\n",
    "                    if (\n",
    "                        0 < aperture_scale_x < wcs.array_shape[0]\n",
    "                        and 0 < aperture_scale_y < wcs.array_shape[1]\n",
    "                    ):\n",
    "                        data = ImageDict[SciExt][\"data\"]\n",
    "                        error = ImageDict[ErrExt][\"data\"]\n",
    "                        radius = (30, 50)\n",
    "                        try:\n",
    "                            IDs\n",
    "                        except NameError:\n",
    "                            pass\n",
    "                        else:\n",
    "                            for case, replace in zip(IDs, Radii):\n",
    "                                if case == ID:\n",
    "                                    radius = replace\n",
    "                                    break\n",
    "                        (\n",
    "                            apflux,\n",
    "                            bkg_value,\n",
    "                            phot_bkgsub,\n",
    "                            phot_err,\n",
    "                            aper_area,\n",
    "                        ) = Find_Photometry(\n",
    "                            np.array([source_scale_x, source_scale_y]),\n",
    "                            radius,\n",
    "                            aperture_scale_centroid,\n",
    "                            aperture_scale_width_pixel,\n",
    "                            aperture_scale_height_pixel,\n",
    "                            aperture_theta,\n",
    "                            data,\n",
    "                            error,\n",
    "                            bkg_flag,\n",
    "                            err_flag,\n",
    "                            ImageDict,\n",
    "                            pixfact,\n",
    "                        )\n",
    "                        ImageDict[visit][ID][\"Aperture Flux\"] = apflux\n",
    "                        ImageDict[visit][ID][\"Background\"] = bkg_value\n",
    "                        ImageDict[visit][ID][\"Final Flux\"] = phot_bkgsub\n",
    "                        ImageDict[visit][ID][\"Final Flux Error\"] = phot_err\n",
    "                        # Save values for later averaging\n",
    "                        try:\n",
    "                            ImageDict[\"Averages\"][ID][\"Fluxaverage\"][visit] = ImageDict[\n",
    "                                visit\n",
    "                            ][ID][\"Aperture_Flux\"]\n",
    "                        except KeyError:\n",
    "                            ImageDict[\"Averages\"][ID] = {}\n",
    "                            ImageDict[\"Averages\"][ID][\"Fluxaverage\"] = {}\n",
    "                            ImageDict[\"Averages\"][ID][\"Backaverage\"] = {}\n",
    "                            ImageDict[\"Averages\"][ID][\"Finalaverage\"] = {}\n",
    "                            ImageDict[\"Averages\"][ID][\"Finalerr\"] = {}\n",
    "                            ImageDict[\"Averages\"][ID][\"Fluxaverage\"][visit] = ImageDict[\n",
    "                                visit\n",
    "                            ][ID][\"Aperture Flux\"]\n",
    "                        finally:\n",
    "                            ImageDict[\"Averages\"][ID][\"Backaverage\"][visit] = ImageDict[\n",
    "                                visit\n",
    "                            ][ID][\"Background\"]\n",
    "                            ImageDict[\"Averages\"][ID][\"Finalaverage\"][\n",
    "                                visit\n",
    "                            ] = ImageDict[visit][ID][\"Final Flux\"]\n",
    "                            ImageDict[\"Averages\"][ID][\"Finalerr\"][visit] = (\n",
    "                                ImageDict[visit][ID][\"Final Flux Error\"]\n",
    "                            ) ** 2\n",
    "                    rows.append(\n",
    "                        [\n",
    "                            ID,\n",
    "                            Catalogue[\"Source_RA\"][x],\n",
    "                            Catalogue[\"Source_Dec\"][x],\n",
    "                            aperture_theta,\n",
    "                            ImageDict[visit][ID][\"Source Pixel (x)\"],\n",
    "                            ImageDict[visit][ID][\"Source Pixel (y)\"],\n",
    "                            ImageDict[visit][ID][\"Source Shifted (x)\"],\n",
    "                            ImageDict[visit][ID][\"Source Shifted (y)\"],\n",
    "                            ImageDict[visit][ID][\"Source Scaled (x)\"],\n",
    "                            ImageDict[visit][ID][\"Source Scaled (y)\"],\n",
    "                            ImageDict[visit][ID][\"Aperture Pixel (x)\"],\n",
    "                            ImageDict[visit][ID][\"Aperture Pixel (y)\"],\n",
    "                            ImageDict[visit][ID][\"Aperture Shifted (x)\"],\n",
    "                            ImageDict[visit][ID][\"Aperture Shifted (y)\"],\n",
    "                            ImageDict[visit][ID][\"Aperture Scaled (x)\"],\n",
    "                            ImageDict[visit][ID][\"Aperture Scaled (y)\"],\n",
    "                            aperture_scale_width_pixel,\n",
    "                            aperture_scale_height_pixel,\n",
    "                            aperture_scale_corners[0][0],\n",
    "                            aperture_scale_corners[1][0],\n",
    "                            aperture_scale_corners[0][1],\n",
    "                            aperture_scale_corners[1][1],\n",
    "                            aperture_scale_corners[0][2],\n",
    "                            aperture_scale_corners[1][2],\n",
    "                            aperture_scale_corners[0][3],\n",
    "                            aperture_scale_corners[1][3],\n",
    "                            aper_area,\n",
    "                            radius[0] * pixfact,\n",
    "                            radius[1] * pixfact,\n",
    "                            ImageDict[visit][ID][\"Aperture Flux\"],\n",
    "                            ImageDict[visit][ID][\"Background\"],\n",
    "                            ImageDict[visit][ID][\"Final Flux\"],\n",
    "                            ImageDict[visit][ID][\"Final Flux Error\"],\n",
    "                        ]\n",
    "                    )\n",
    "                except KeyError:\n",
    "                    continue\n",
    "        Photometry_Table = tbl.Table(\n",
    "            rows=rows,\n",
    "            names=(\n",
    "                \"ID\",\n",
    "                \"RA (degrees)\",\n",
    "                \"Dec (degrees)\",\n",
    "                \"Angle (degrees)\",\n",
    "                \"Source Pixel (x)\",\n",
    "                \"Source Pixel (y)\",\n",
    "                \"Source Shifted (x)\",\n",
    "                \"Source Shifted (y)\",\n",
    "                \"Source Scaled (x)\",\n",
    "                \"Source Scaled (y)\",\n",
    "                \"Aperture Pixel (x)\",\n",
    "                \"Aperture Pixel (y)\",\n",
    "                \"Aperture Shifted (x)\",\n",
    "                \"Aperture Shifted (y)\",\n",
    "                \"Aperture Scaled (x)\",\n",
    "                \"Aperture Scaled (y)\",\n",
    "                \"Aperture Width (pixels)\",\n",
    "                \"Aperture Height (pixels)\",\n",
    "                \"Aperture Corner 1 (x)\",\n",
    "                \"Aperture Corner 1 (y)\",\n",
    "                \"Aperture Corner 2 (x)\",\n",
    "                \"Aperture Corner 2 (y)\",\n",
    "                \"Aperture Corner 3 (x)\",\n",
    "                \"Aperture Corner 3 (y)\",\n",
    "                \"Aperture Corner 4 (x)\",\n",
    "                \"Aperture Corner 4 (y)\",\n",
    "                \"Aperture Area (pixels)\",\n",
    "                \"Annulus Inner Radius (pixels)\",\n",
    "                \"Annulus Outer Radius (pixels)\",\n",
    "                \"Flux Total (counts)\",\n",
    "                \"Background per pixel (counts/pixel2)\",\n",
    "                \"Background Subtracted Flux (counts)\",\n",
    "                \"Flux Error (counts)\",\n",
    "            ),\n",
    "        )\n",
    "        Photometry_Table.sort(\"ID\")\n",
    "        Photometry_Table.write(\n",
    "            f\"{WorkDir}Apo_Phot/{Proj_Name}/{image}_{visit}.fits\", overwrite=True\n",
    "        )\n",
    "    # Average the fluxes per pointing\n",
    "    summaryrows = []\n",
    "    for galaxy in tqdm(\n",
    "        ImageDict[\"Averages\"].keys(),\n",
    "        desc=\"Averaging all pointings\",\n",
    "        leave=False,\n",
    "    ):\n",
    "        Fluxaverage = np.sum(\n",
    "            list(ImageDict[\"Averages\"][galaxy][\"Fluxaverage\"].values())\n",
    "        ) / len(ImageDict[\"Averages\"][galaxy][\"Fluxaverage\"].keys())\n",
    "        Backaverage = np.sum(\n",
    "            list(ImageDict[\"Averages\"][galaxy][\"Backaverage\"].values())\n",
    "        ) / len(ImageDict[\"Averages\"][galaxy][\"Backaverage\"].keys())\n",
    "        Finalaverage = np.sum(\n",
    "            list(ImageDict[\"Averages\"][galaxy][\"Finalaverage\"].values())\n",
    "        ) / len(ImageDict[\"Averages\"][galaxy][\"Finalaverage\"].keys())\n",
    "        Finalerr = np.sqrt(\n",
    "            np.sum(list(ImageDict[\"Averages\"][galaxy][\"Finalerr\"].values()))\n",
    "        )\n",
    "        visit = list(ImageDict[\"Averages\"][galaxy][\"Finalaverage\"].keys())[0]\n",
    "        ID = np.array(Catalogue.loc_indices[galaxy]).flatten()[0]\n",
    "        summaryrows.append(\n",
    "            [\n",
    "                galaxy,\n",
    "                Catalogue[ID][\"Source_RA\"],\n",
    "                Catalogue[ID][\"Source_Dec\"],\n",
    "                Fluxaverage,\n",
    "                Backaverage,\n",
    "                Finalaverage,\n",
    "                Finalerr,\n",
    "            ]\n",
    "        )\n",
    "    Photometry_Table_Summary = tbl.Table(\n",
    "        rows=summaryrows,\n",
    "        names=(\n",
    "            \"ID\",\n",
    "            \"RA (degrees)\",\n",
    "            \"Dec (degrees)\",\n",
    "            \"Average Flux (counts)\",\n",
    "            \"Average Background (counts)\",\n",
    "            \"Average Background-Subtracted Flux (counts)\",\n",
    "            \"Error (counts)\",\n",
    "        ),\n",
    "    )\n",
    "    Photometry_Table_Summary.sort(\"ID\")\n",
    "    Photometry_Table_Summary.write(\n",
    "        f\"{WorkDir}Apo_Phot/{Proj_Name}/{image}_summary.fits\", overwrite=True\n",
    "    )\n",
    "    offsetrows.append(\n",
    "        [\n",
    "            image,\n",
    "            np.mean(x_shift),\n",
    "            np.mean(y_shift),\n",
    "            x_scale,\n",
    "            y_scale,\n",
    "            x_int,\n",
    "            y_int,\n",
    "            ImageDict[\"SCI\"][\"header\"][\"PIXAR_A2\"],\n",
    "            ImageDict[\"SCI\"][\"header\"][\"PHOTUJA2\"],\n",
    "        ]\n",
    "    )\n",
    "    return offsetrows\n",
    "\n",
    "\n",
    "# Function to execute code\n",
    "def Apodised_Photometry(\n",
    "    bkg_flag=True, err_flag=False, ApFlag=False, AlignFlag=False\n",
    "):  # bkg_flag for sigma-clipping, err_flag for Poisson error\n",
    "    # Load images inside function (to aid in clearing RAM)\n",
    "    Catalogue, AlignCat = Import_Data(ApFlag, AlignFlag)\n",
    "    offsetrows = []\n",
    "    for image in tqdm(Images, desc=\"Images\"):\n",
    "        ImageDict = Import_Image(image)\n",
    "        try:\n",
    "            PixRef\n",
    "        except NameError:\n",
    "            PixRef = WCS(ImageDict[SciExt][\"header\"]).pixel_shape\n",
    "        if ApFlag == False:\n",
    "            offsetrows = Apertures_Absent(\n",
    "                bkg_flag,\n",
    "                err_flag,\n",
    "                AlignFlag,\n",
    "                ApFlag,\n",
    "                image,\n",
    "                Catalogue,\n",
    "                AlignCat,\n",
    "                ImageDict,\n",
    "                PixRef,\n",
    "                offsetrows,\n",
    "            )\n",
    "        elif ApFlag == \"Physical\" or ApFlag == \"Illuminated\":\n",
    "            offsetrows = Apertures_Provided(\n",
    "                bkg_flag,\n",
    "                err_flag,\n",
    "                AlignFlag,\n",
    "                ApFlag,\n",
    "                image,\n",
    "                Catalogue,\n",
    "                AlignCat,\n",
    "                ImageDict,\n",
    "                PixRef,\n",
    "                offsetrows,\n",
    "            )\n",
    "        else:\n",
    "            raise SystemExit(\"ApFlag not recognised!\")\n",
    "    Info_Table = tbl.Table(\n",
    "        rows=offsetrows,\n",
    "        names=(\n",
    "            \"Image / Filter\",\n",
    "            \"Shift Correction Factor (x)\",\n",
    "            \"Shift Correction Factor (y)\",\n",
    "            \"Rescale Factor (x)\",\n",
    "            \"Rescale Factor (y)\",\n",
    "            \"Rescale Origin (x)\",\n",
    "            \"Rescale Origin (y)\",\n",
    "            \"Nominal Pixel Area (arcsec2)\",\n",
    "            \"Average Flux per count per Area (uJy/arcsec2/count)\",\n",
    "        ),\n",
    "    )\n",
    "    Info_Table.sort(\"Image / Filter\")\n",
    "    Info_Table.write(f\"{WorkDir}Apo_Phot/{Proj_Name}/Summary.fits\", overwrite=True)\n",
    "    return\n",
    "\n",
    "\n",
    "print(\"Done.\")"
   ]
  },
  {
   "cell_type": "code",
   "execution_count": 4,
   "id": "88a87692-973a-4830-9c4e-79d41714fefa",
   "metadata": {
    "tags": []
   },
   "outputs": [
    {
     "name": "stdout",
     "output_type": "stream",
     "text": [
      "Calculating apodised photometry...\n"
     ]
    },
    {
     "data": {
      "application/vnd.jupyter.widget-view+json": {
       "model_id": "01550344082242bd940edb855bd0a3f8",
       "version_major": 2,
       "version_minor": 0
      },
      "text/plain": [
       "Images:   0%|          | 0/14 [00:00<?, ?it/s]"
      ]
     },
     "metadata": {},
     "output_type": "display_data"
    },
    {
     "data": {
      "application/vnd.jupyter.widget-view+json": {
       "model_id": "",
       "version_major": 2,
       "version_minor": 0
      },
      "text/plain": [
       "Extensions:   0%|          | 0/2 [00:00<?, ?it/s]"
      ]
     },
     "metadata": {},
     "output_type": "display_data"
    },
    {
     "data": {
      "application/vnd.jupyter.widget-view+json": {
       "model_id": "",
       "version_major": 2,
       "version_minor": 0
      },
      "text/plain": [
       "Visits:   0%|          | 0/3 [00:00<?, ?it/s]"
      ]
     },
     "metadata": {},
     "output_type": "display_data"
    },
    {
     "data": {
      "application/vnd.jupyter.widget-view+json": {
       "model_id": "",
       "version_major": 2,
       "version_minor": 0
      },
      "text/plain": [
       "IDs:   0%|          | 0/449 [00:00<?, ?it/s]"
      ]
     },
     "metadata": {},
     "output_type": "display_data"
    },
    {
     "data": {
      "application/vnd.jupyter.widget-view+json": {
       "model_id": "",
       "version_major": 2,
       "version_minor": 0
      },
      "text/plain": [
       "IDs:   0%|          | 0/449 [00:00<?, ?it/s]"
      ]
     },
     "metadata": {},
     "output_type": "display_data"
    },
    {
     "data": {
      "application/vnd.jupyter.widget-view+json": {
       "model_id": "",
       "version_major": 2,
       "version_minor": 0
      },
      "text/plain": [
       "IDs:   0%|          | 0/449 [00:00<?, ?it/s]"
      ]
     },
     "metadata": {},
     "output_type": "display_data"
    },
    {
     "data": {
      "application/vnd.jupyter.widget-view+json": {
       "model_id": "",
       "version_major": 2,
       "version_minor": 0
      },
      "text/plain": [
       "Averaging all pointings:   0%|          | 0/253 [00:00<?, ?it/s]"
      ]
     },
     "metadata": {},
     "output_type": "display_data"
    },
    {
     "data": {
      "application/vnd.jupyter.widget-view+json": {
       "model_id": "",
       "version_major": 2,
       "version_minor": 0
      },
      "text/plain": [
       "Extensions:   0%|          | 0/2 [00:00<?, ?it/s]"
      ]
     },
     "metadata": {},
     "output_type": "display_data"
    },
    {
     "data": {
      "application/vnd.jupyter.widget-view+json": {
       "model_id": "",
       "version_major": 2,
       "version_minor": 0
      },
      "text/plain": [
       "Visits:   0%|          | 0/3 [00:00<?, ?it/s]"
      ]
     },
     "metadata": {},
     "output_type": "display_data"
    },
    {
     "data": {
      "application/vnd.jupyter.widget-view+json": {
       "model_id": "",
       "version_major": 2,
       "version_minor": 0
      },
      "text/plain": [
       "IDs:   0%|          | 0/449 [00:00<?, ?it/s]"
      ]
     },
     "metadata": {},
     "output_type": "display_data"
    },
    {
     "data": {
      "application/vnd.jupyter.widget-view+json": {
       "model_id": "",
       "version_major": 2,
       "version_minor": 0
      },
      "text/plain": [
       "IDs:   0%|          | 0/449 [00:00<?, ?it/s]"
      ]
     },
     "metadata": {},
     "output_type": "display_data"
    },
    {
     "data": {
      "application/vnd.jupyter.widget-view+json": {
       "model_id": "",
       "version_major": 2,
       "version_minor": 0
      },
      "text/plain": [
       "IDs:   0%|          | 0/449 [00:00<?, ?it/s]"
      ]
     },
     "metadata": {},
     "output_type": "display_data"
    },
    {
     "data": {
      "application/vnd.jupyter.widget-view+json": {
       "model_id": "",
       "version_major": 2,
       "version_minor": 0
      },
      "text/plain": [
       "Averaging all pointings:   0%|          | 0/253 [00:00<?, ?it/s]"
      ]
     },
     "metadata": {},
     "output_type": "display_data"
    },
    {
     "data": {
      "application/vnd.jupyter.widget-view+json": {
       "model_id": "",
       "version_major": 2,
       "version_minor": 0
      },
      "text/plain": [
       "Extensions:   0%|          | 0/2 [00:00<?, ?it/s]"
      ]
     },
     "metadata": {},
     "output_type": "display_data"
    },
    {
     "data": {
      "application/vnd.jupyter.widget-view+json": {
       "model_id": "",
       "version_major": 2,
       "version_minor": 0
      },
      "text/plain": [
       "Visits:   0%|          | 0/3 [00:00<?, ?it/s]"
      ]
     },
     "metadata": {},
     "output_type": "display_data"
    },
    {
     "data": {
      "application/vnd.jupyter.widget-view+json": {
       "model_id": "",
       "version_major": 2,
       "version_minor": 0
      },
      "text/plain": [
       "IDs:   0%|          | 0/449 [00:00<?, ?it/s]"
      ]
     },
     "metadata": {},
     "output_type": "display_data"
    },
    {
     "data": {
      "application/vnd.jupyter.widget-view+json": {
       "model_id": "",
       "version_major": 2,
       "version_minor": 0
      },
      "text/plain": [
       "IDs:   0%|          | 0/449 [00:00<?, ?it/s]"
      ]
     },
     "metadata": {},
     "output_type": "display_data"
    },
    {
     "data": {
      "application/vnd.jupyter.widget-view+json": {
       "model_id": "",
       "version_major": 2,
       "version_minor": 0
      },
      "text/plain": [
       "IDs:   0%|          | 0/449 [00:00<?, ?it/s]"
      ]
     },
     "metadata": {},
     "output_type": "display_data"
    },
    {
     "data": {
      "application/vnd.jupyter.widget-view+json": {
       "model_id": "",
       "version_major": 2,
       "version_minor": 0
      },
      "text/plain": [
       "Averaging all pointings:   0%|          | 0/253 [00:00<?, ?it/s]"
      ]
     },
     "metadata": {},
     "output_type": "display_data"
    },
    {
     "data": {
      "application/vnd.jupyter.widget-view+json": {
       "model_id": "",
       "version_major": 2,
       "version_minor": 0
      },
      "text/plain": [
       "Extensions:   0%|          | 0/2 [00:00<?, ?it/s]"
      ]
     },
     "metadata": {},
     "output_type": "display_data"
    },
    {
     "data": {
      "application/vnd.jupyter.widget-view+json": {
       "model_id": "",
       "version_major": 2,
       "version_minor": 0
      },
      "text/plain": [
       "Visits:   0%|          | 0/3 [00:00<?, ?it/s]"
      ]
     },
     "metadata": {},
     "output_type": "display_data"
    },
    {
     "data": {
      "application/vnd.jupyter.widget-view+json": {
       "model_id": "",
       "version_major": 2,
       "version_minor": 0
      },
      "text/plain": [
       "IDs:   0%|          | 0/449 [00:00<?, ?it/s]"
      ]
     },
     "metadata": {},
     "output_type": "display_data"
    },
    {
     "data": {
      "application/vnd.jupyter.widget-view+json": {
       "model_id": "",
       "version_major": 2,
       "version_minor": 0
      },
      "text/plain": [
       "IDs:   0%|          | 0/449 [00:00<?, ?it/s]"
      ]
     },
     "metadata": {},
     "output_type": "display_data"
    },
    {
     "data": {
      "application/vnd.jupyter.widget-view+json": {
       "model_id": "",
       "version_major": 2,
       "version_minor": 0
      },
      "text/plain": [
       "IDs:   0%|          | 0/449 [00:00<?, ?it/s]"
      ]
     },
     "metadata": {},
     "output_type": "display_data"
    },
    {
     "data": {
      "application/vnd.jupyter.widget-view+json": {
       "model_id": "",
       "version_major": 2,
       "version_minor": 0
      },
      "text/plain": [
       "Averaging all pointings:   0%|          | 0/253 [00:00<?, ?it/s]"
      ]
     },
     "metadata": {},
     "output_type": "display_data"
    },
    {
     "data": {
      "application/vnd.jupyter.widget-view+json": {
       "model_id": "",
       "version_major": 2,
       "version_minor": 0
      },
      "text/plain": [
       "Extensions:   0%|          | 0/2 [00:00<?, ?it/s]"
      ]
     },
     "metadata": {},
     "output_type": "display_data"
    },
    {
     "data": {
      "application/vnd.jupyter.widget-view+json": {
       "model_id": "",
       "version_major": 2,
       "version_minor": 0
      },
      "text/plain": [
       "Visits:   0%|          | 0/3 [00:00<?, ?it/s]"
      ]
     },
     "metadata": {},
     "output_type": "display_data"
    },
    {
     "data": {
      "application/vnd.jupyter.widget-view+json": {
       "model_id": "",
       "version_major": 2,
       "version_minor": 0
      },
      "text/plain": [
       "IDs:   0%|          | 0/449 [00:00<?, ?it/s]"
      ]
     },
     "metadata": {},
     "output_type": "display_data"
    },
    {
     "data": {
      "application/vnd.jupyter.widget-view+json": {
       "model_id": "",
       "version_major": 2,
       "version_minor": 0
      },
      "text/plain": [
       "IDs:   0%|          | 0/449 [00:00<?, ?it/s]"
      ]
     },
     "metadata": {},
     "output_type": "display_data"
    },
    {
     "data": {
      "application/vnd.jupyter.widget-view+json": {
       "model_id": "",
       "version_major": 2,
       "version_minor": 0
      },
      "text/plain": [
       "IDs:   0%|          | 0/449 [00:00<?, ?it/s]"
      ]
     },
     "metadata": {},
     "output_type": "display_data"
    },
    {
     "data": {
      "application/vnd.jupyter.widget-view+json": {
       "model_id": "",
       "version_major": 2,
       "version_minor": 0
      },
      "text/plain": [
       "Averaging all pointings:   0%|          | 0/253 [00:00<?, ?it/s]"
      ]
     },
     "metadata": {},
     "output_type": "display_data"
    },
    {
     "data": {
      "application/vnd.jupyter.widget-view+json": {
       "model_id": "",
       "version_major": 2,
       "version_minor": 0
      },
      "text/plain": [
       "Extensions:   0%|          | 0/2 [00:00<?, ?it/s]"
      ]
     },
     "metadata": {},
     "output_type": "display_data"
    },
    {
     "data": {
      "application/vnd.jupyter.widget-view+json": {
       "model_id": "",
       "version_major": 2,
       "version_minor": 0
      },
      "text/plain": [
       "Visits:   0%|          | 0/3 [00:00<?, ?it/s]"
      ]
     },
     "metadata": {},
     "output_type": "display_data"
    },
    {
     "data": {
      "application/vnd.jupyter.widget-view+json": {
       "model_id": "",
       "version_major": 2,
       "version_minor": 0
      },
      "text/plain": [
       "IDs:   0%|          | 0/449 [00:00<?, ?it/s]"
      ]
     },
     "metadata": {},
     "output_type": "display_data"
    },
    {
     "data": {
      "application/vnd.jupyter.widget-view+json": {
       "model_id": "",
       "version_major": 2,
       "version_minor": 0
      },
      "text/plain": [
       "IDs:   0%|          | 0/449 [00:00<?, ?it/s]"
      ]
     },
     "metadata": {},
     "output_type": "display_data"
    },
    {
     "data": {
      "application/vnd.jupyter.widget-view+json": {
       "model_id": "",
       "version_major": 2,
       "version_minor": 0
      },
      "text/plain": [
       "IDs:   0%|          | 0/449 [00:00<?, ?it/s]"
      ]
     },
     "metadata": {},
     "output_type": "display_data"
    },
    {
     "data": {
      "application/vnd.jupyter.widget-view+json": {
       "model_id": "",
       "version_major": 2,
       "version_minor": 0
      },
      "text/plain": [
       "Averaging all pointings:   0%|          | 0/253 [00:00<?, ?it/s]"
      ]
     },
     "metadata": {},
     "output_type": "display_data"
    },
    {
     "data": {
      "application/vnd.jupyter.widget-view+json": {
       "model_id": "",
       "version_major": 2,
       "version_minor": 0
      },
      "text/plain": [
       "Extensions:   0%|          | 0/2 [00:00<?, ?it/s]"
      ]
     },
     "metadata": {},
     "output_type": "display_data"
    },
    {
     "data": {
      "application/vnd.jupyter.widget-view+json": {
       "model_id": "",
       "version_major": 2,
       "version_minor": 0
      },
      "text/plain": [
       "Visits:   0%|          | 0/3 [00:00<?, ?it/s]"
      ]
     },
     "metadata": {},
     "output_type": "display_data"
    },
    {
     "data": {
      "application/vnd.jupyter.widget-view+json": {
       "model_id": "",
       "version_major": 2,
       "version_minor": 0
      },
      "text/plain": [
       "IDs:   0%|          | 0/449 [00:00<?, ?it/s]"
      ]
     },
     "metadata": {},
     "output_type": "display_data"
    },
    {
     "data": {
      "application/vnd.jupyter.widget-view+json": {
       "model_id": "",
       "version_major": 2,
       "version_minor": 0
      },
      "text/plain": [
       "IDs:   0%|          | 0/449 [00:00<?, ?it/s]"
      ]
     },
     "metadata": {},
     "output_type": "display_data"
    },
    {
     "data": {
      "application/vnd.jupyter.widget-view+json": {
       "model_id": "",
       "version_major": 2,
       "version_minor": 0
      },
      "text/plain": [
       "IDs:   0%|          | 0/449 [00:00<?, ?it/s]"
      ]
     },
     "metadata": {},
     "output_type": "display_data"
    },
    {
     "data": {
      "application/vnd.jupyter.widget-view+json": {
       "model_id": "",
       "version_major": 2,
       "version_minor": 0
      },
      "text/plain": [
       "Averaging all pointings:   0%|          | 0/253 [00:00<?, ?it/s]"
      ]
     },
     "metadata": {},
     "output_type": "display_data"
    },
    {
     "data": {
      "application/vnd.jupyter.widget-view+json": {
       "model_id": "",
       "version_major": 2,
       "version_minor": 0
      },
      "text/plain": [
       "Extensions:   0%|          | 0/2 [00:00<?, ?it/s]"
      ]
     },
     "metadata": {},
     "output_type": "display_data"
    },
    {
     "data": {
      "application/vnd.jupyter.widget-view+json": {
       "model_id": "",
       "version_major": 2,
       "version_minor": 0
      },
      "text/plain": [
       "Visits:   0%|          | 0/3 [00:00<?, ?it/s]"
      ]
     },
     "metadata": {},
     "output_type": "display_data"
    },
    {
     "data": {
      "application/vnd.jupyter.widget-view+json": {
       "model_id": "",
       "version_major": 2,
       "version_minor": 0
      },
      "text/plain": [
       "IDs:   0%|          | 0/449 [00:00<?, ?it/s]"
      ]
     },
     "metadata": {},
     "output_type": "display_data"
    },
    {
     "data": {
      "application/vnd.jupyter.widget-view+json": {
       "model_id": "",
       "version_major": 2,
       "version_minor": 0
      },
      "text/plain": [
       "IDs:   0%|          | 0/449 [00:00<?, ?it/s]"
      ]
     },
     "metadata": {},
     "output_type": "display_data"
    },
    {
     "data": {
      "application/vnd.jupyter.widget-view+json": {
       "model_id": "",
       "version_major": 2,
       "version_minor": 0
      },
      "text/plain": [
       "IDs:   0%|          | 0/449 [00:00<?, ?it/s]"
      ]
     },
     "metadata": {},
     "output_type": "display_data"
    },
    {
     "data": {
      "application/vnd.jupyter.widget-view+json": {
       "model_id": "",
       "version_major": 2,
       "version_minor": 0
      },
      "text/plain": [
       "Averaging all pointings:   0%|          | 0/253 [00:00<?, ?it/s]"
      ]
     },
     "metadata": {},
     "output_type": "display_data"
    },
    {
     "data": {
      "application/vnd.jupyter.widget-view+json": {
       "model_id": "9ff497d9b35f431dad81094a35783cb1",
       "version_major": 2,
       "version_minor": 0
      },
      "text/plain": [
       "Extensions:   0%|          | 0/2 [00:00<?, ?it/s]"
      ]
     },
     "metadata": {},
     "output_type": "display_data"
    },
    {
     "data": {
      "application/vnd.jupyter.widget-view+json": {
       "model_id": "a65538c9ccf3485d82194d416de21172",
       "version_major": 2,
       "version_minor": 0
      },
      "text/plain": [
       "Visits:   0%|          | 0/3 [00:00<?, ?it/s]"
      ]
     },
     "metadata": {},
     "output_type": "display_data"
    },
    {
     "data": {
      "application/vnd.jupyter.widget-view+json": {
       "model_id": "c6cf5ace48e9416db8256cc51c12f005",
       "version_major": 2,
       "version_minor": 0
      },
      "text/plain": [
       "IDs:   0%|          | 0/449 [00:00<?, ?it/s]"
      ]
     },
     "metadata": {},
     "output_type": "display_data"
    },
    {
     "data": {
      "application/vnd.jupyter.widget-view+json": {
       "model_id": "ab0e218024774b1ea38e9a001dbe6ca4",
       "version_major": 2,
       "version_minor": 0
      },
      "text/plain": [
       "IDs:   0%|          | 0/449 [00:00<?, ?it/s]"
      ]
     },
     "metadata": {},
     "output_type": "display_data"
    },
    {
     "data": {
      "application/vnd.jupyter.widget-view+json": {
       "model_id": "f21c3456d409407bb28d222430fb913c",
       "version_major": 2,
       "version_minor": 0
      },
      "text/plain": [
       "IDs:   0%|          | 0/449 [00:00<?, ?it/s]"
      ]
     },
     "metadata": {},
     "output_type": "display_data"
    },
    {
     "data": {
      "application/vnd.jupyter.widget-view+json": {
       "model_id": "8b3f547822984eec8c267ad8702d2788",
       "version_major": 2,
       "version_minor": 0
      },
      "text/plain": [
       "Averaging all pointings:   0%|          | 0/253 [00:00<?, ?it/s]"
      ]
     },
     "metadata": {},
     "output_type": "display_data"
    },
    {
     "data": {
      "application/vnd.jupyter.widget-view+json": {
       "model_id": "1459ab1d6d81424f9ba0118c9ef6c01a",
       "version_major": 2,
       "version_minor": 0
      },
      "text/plain": [
       "Extensions:   0%|          | 0/2 [00:00<?, ?it/s]"
      ]
     },
     "metadata": {},
     "output_type": "display_data"
    },
    {
     "data": {
      "application/vnd.jupyter.widget-view+json": {
       "model_id": "2330a731655c4f72b3c5e3c846d2bba7",
       "version_major": 2,
       "version_minor": 0
      },
      "text/plain": [
       "Visits:   0%|          | 0/3 [00:00<?, ?it/s]"
      ]
     },
     "metadata": {},
     "output_type": "display_data"
    },
    {
     "data": {
      "application/vnd.jupyter.widget-view+json": {
       "model_id": "ef7ba191a6554a68aa0f4a41809b7b51",
       "version_major": 2,
       "version_minor": 0
      },
      "text/plain": [
       "IDs:   0%|          | 0/449 [00:00<?, ?it/s]"
      ]
     },
     "metadata": {},
     "output_type": "display_data"
    },
    {
     "data": {
      "application/vnd.jupyter.widget-view+json": {
       "model_id": "13d69cf91381473080fb8b0be953ddd3",
       "version_major": 2,
       "version_minor": 0
      },
      "text/plain": [
       "IDs:   0%|          | 0/449 [00:00<?, ?it/s]"
      ]
     },
     "metadata": {},
     "output_type": "display_data"
    },
    {
     "data": {
      "application/vnd.jupyter.widget-view+json": {
       "model_id": "bf83b31006b4418ab475cd70e0f6595a",
       "version_major": 2,
       "version_minor": 0
      },
      "text/plain": [
       "IDs:   0%|          | 0/449 [00:00<?, ?it/s]"
      ]
     },
     "metadata": {},
     "output_type": "display_data"
    },
    {
     "data": {
      "application/vnd.jupyter.widget-view+json": {
       "model_id": "faa4801e868e496492075813fcf24536",
       "version_major": 2,
       "version_minor": 0
      },
      "text/plain": [
       "Averaging all pointings:   0%|          | 0/253 [00:00<?, ?it/s]"
      ]
     },
     "metadata": {},
     "output_type": "display_data"
    },
    {
     "data": {
      "application/vnd.jupyter.widget-view+json": {
       "model_id": "a8ee1af23aaa4cdebe3e4c5aff40a6e6",
       "version_major": 2,
       "version_minor": 0
      },
      "text/plain": [
       "Extensions:   0%|          | 0/2 [00:00<?, ?it/s]"
      ]
     },
     "metadata": {},
     "output_type": "display_data"
    },
    {
     "data": {
      "application/vnd.jupyter.widget-view+json": {
       "model_id": "ca19ff5044c649eebacf2a811e804fd7",
       "version_major": 2,
       "version_minor": 0
      },
      "text/plain": [
       "Visits:   0%|          | 0/3 [00:00<?, ?it/s]"
      ]
     },
     "metadata": {},
     "output_type": "display_data"
    },
    {
     "data": {
      "application/vnd.jupyter.widget-view+json": {
       "model_id": "9f8e3c29bb654badb1ab8c6659510567",
       "version_major": 2,
       "version_minor": 0
      },
      "text/plain": [
       "IDs:   0%|          | 0/449 [00:00<?, ?it/s]"
      ]
     },
     "metadata": {},
     "output_type": "display_data"
    },
    {
     "data": {
      "application/vnd.jupyter.widget-view+json": {
       "model_id": "6d3c4f7389a14c8b8be7228eb6c4615a",
       "version_major": 2,
       "version_minor": 0
      },
      "text/plain": [
       "IDs:   0%|          | 0/449 [00:00<?, ?it/s]"
      ]
     },
     "metadata": {},
     "output_type": "display_data"
    },
    {
     "data": {
      "application/vnd.jupyter.widget-view+json": {
       "model_id": "ba971503d45f4e588618adba6f1d6d8a",
       "version_major": 2,
       "version_minor": 0
      },
      "text/plain": [
       "IDs:   0%|          | 0/449 [00:00<?, ?it/s]"
      ]
     },
     "metadata": {},
     "output_type": "display_data"
    },
    {
     "data": {
      "application/vnd.jupyter.widget-view+json": {
       "model_id": "7bb023f2054b40d984502df33bf18f64",
       "version_major": 2,
       "version_minor": 0
      },
      "text/plain": [
       "Averaging all pointings:   0%|          | 0/253 [00:00<?, ?it/s]"
      ]
     },
     "metadata": {},
     "output_type": "display_data"
    },
    {
     "data": {
      "application/vnd.jupyter.widget-view+json": {
       "model_id": "d1a1fe3de401433b9d41c3f36905401e",
       "version_major": 2,
       "version_minor": 0
      },
      "text/plain": [
       "Extensions:   0%|          | 0/2 [00:00<?, ?it/s]"
      ]
     },
     "metadata": {},
     "output_type": "display_data"
    },
    {
     "data": {
      "application/vnd.jupyter.widget-view+json": {
       "model_id": "d7d35da4dd95489395750201cc57166d",
       "version_major": 2,
       "version_minor": 0
      },
      "text/plain": [
       "Visits:   0%|          | 0/3 [00:00<?, ?it/s]"
      ]
     },
     "metadata": {},
     "output_type": "display_data"
    },
    {
     "data": {
      "application/vnd.jupyter.widget-view+json": {
       "model_id": "db566d2224644b568e04266c80179163",
       "version_major": 2,
       "version_minor": 0
      },
      "text/plain": [
       "IDs:   0%|          | 0/449 [00:00<?, ?it/s]"
      ]
     },
     "metadata": {},
     "output_type": "display_data"
    },
    {
     "data": {
      "application/vnd.jupyter.widget-view+json": {
       "model_id": "00c852fc2b3a411aa5fd411641b3624b",
       "version_major": 2,
       "version_minor": 0
      },
      "text/plain": [
       "IDs:   0%|          | 0/449 [00:00<?, ?it/s]"
      ]
     },
     "metadata": {},
     "output_type": "display_data"
    },
    {
     "data": {
      "application/vnd.jupyter.widget-view+json": {
       "model_id": "e435498f9a13483e83b85358c0a4385f",
       "version_major": 2,
       "version_minor": 0
      },
      "text/plain": [
       "IDs:   0%|          | 0/449 [00:00<?, ?it/s]"
      ]
     },
     "metadata": {},
     "output_type": "display_data"
    },
    {
     "data": {
      "application/vnd.jupyter.widget-view+json": {
       "model_id": "8f3af847bea3439cbf6a4c59d1d6f24c",
       "version_major": 2,
       "version_minor": 0
      },
      "text/plain": [
       "Averaging all pointings:   0%|          | 0/253 [00:00<?, ?it/s]"
      ]
     },
     "metadata": {},
     "output_type": "display_data"
    },
    {
     "data": {
      "application/vnd.jupyter.widget-view+json": {
       "model_id": "3ac216e2e3be4c14bed65f632b73cd2d",
       "version_major": 2,
       "version_minor": 0
      },
      "text/plain": [
       "Extensions:   0%|          | 0/2 [00:00<?, ?it/s]"
      ]
     },
     "metadata": {},
     "output_type": "display_data"
    },
    {
     "data": {
      "application/vnd.jupyter.widget-view+json": {
       "model_id": "123d28bcb344494a9732e99ef4403749",
       "version_major": 2,
       "version_minor": 0
      },
      "text/plain": [
       "Visits:   0%|          | 0/3 [00:00<?, ?it/s]"
      ]
     },
     "metadata": {},
     "output_type": "display_data"
    },
    {
     "data": {
      "application/vnd.jupyter.widget-view+json": {
       "model_id": "2bffa4de19eb47ddb40a9163ebf4d800",
       "version_major": 2,
       "version_minor": 0
      },
      "text/plain": [
       "IDs:   0%|          | 0/449 [00:00<?, ?it/s]"
      ]
     },
     "metadata": {},
     "output_type": "display_data"
    },
    {
     "data": {
      "application/vnd.jupyter.widget-view+json": {
       "model_id": "56d4a207feb84a36a40e766b2b88348a",
       "version_major": 2,
       "version_minor": 0
      },
      "text/plain": [
       "IDs:   0%|          | 0/449 [00:00<?, ?it/s]"
      ]
     },
     "metadata": {},
     "output_type": "display_data"
    },
    {
     "data": {
      "application/vnd.jupyter.widget-view+json": {
       "model_id": "d0ef7a9094a6485bbe0aa5800f9f71bd",
       "version_major": 2,
       "version_minor": 0
      },
      "text/plain": [
       "IDs:   0%|          | 0/449 [00:00<?, ?it/s]"
      ]
     },
     "metadata": {},
     "output_type": "display_data"
    },
    {
     "data": {
      "application/vnd.jupyter.widget-view+json": {
       "model_id": "fec2c894734f465e88b75f23843faa54",
       "version_major": 2,
       "version_minor": 0
      },
      "text/plain": [
       "Averaging all pointings:   0%|          | 0/253 [00:00<?, ?it/s]"
      ]
     },
     "metadata": {},
     "output_type": "display_data"
    },
    {
     "data": {
      "application/vnd.jupyter.widget-view+json": {
       "model_id": "0ed90281dccc4d26ac724db5f4ba7ba7",
       "version_major": 2,
       "version_minor": 0
      },
      "text/plain": [
       "Extensions:   0%|          | 0/2 [00:00<?, ?it/s]"
      ]
     },
     "metadata": {},
     "output_type": "display_data"
    },
    {
     "data": {
      "application/vnd.jupyter.widget-view+json": {
       "model_id": "32737f5cb0eb48c38beafb7b46aa2644",
       "version_major": 2,
       "version_minor": 0
      },
      "text/plain": [
       "Visits:   0%|          | 0/3 [00:00<?, ?it/s]"
      ]
     },
     "metadata": {},
     "output_type": "display_data"
    },
    {
     "data": {
      "application/vnd.jupyter.widget-view+json": {
       "model_id": "a431b4cc893e44fd9bd17d642e92cc1d",
       "version_major": 2,
       "version_minor": 0
      },
      "text/plain": [
       "IDs:   0%|          | 0/449 [00:00<?, ?it/s]"
      ]
     },
     "metadata": {},
     "output_type": "display_data"
    },
    {
     "data": {
      "application/vnd.jupyter.widget-view+json": {
       "model_id": "7c3e898af0084e7c8a2604eb85430aee",
       "version_major": 2,
       "version_minor": 0
      },
      "text/plain": [
       "IDs:   0%|          | 0/449 [00:00<?, ?it/s]"
      ]
     },
     "metadata": {},
     "output_type": "display_data"
    },
    {
     "data": {
      "application/vnd.jupyter.widget-view+json": {
       "model_id": "5913ad81bbbd42aba900115d923fdc9d",
       "version_major": 2,
       "version_minor": 0
      },
      "text/plain": [
       "IDs:   0%|          | 0/449 [00:00<?, ?it/s]"
      ]
     },
     "metadata": {},
     "output_type": "display_data"
    },
    {
     "data": {
      "application/vnd.jupyter.widget-view+json": {
       "model_id": "e28f3adfbe1841889043b72a602a90c8",
       "version_major": 2,
       "version_minor": 0
      },
      "text/plain": [
       "Averaging all pointings:   0%|          | 0/253 [00:00<?, ?it/s]"
      ]
     },
     "metadata": {},
     "output_type": "display_data"
    },
    {
     "name": "stdout",
     "output_type": "stream",
     "text": [
      "Done.\n"
     ]
    }
   ],
   "source": [
    "print(\"Calculating apodised photometry...\")\n",
    "\n",
    "Apodised_Photometry(ApFlag=\"Illuminated\", AlignFlag=False)\n",
    "\n",
    "print(\"Done.\")"
   ]
  },
  {
   "cell_type": "markdown",
   "id": "96366637-b9b1-4a5b-bc28-fd4f9edae068",
   "metadata": {
    "tags": []
   },
   "source": [
    "# Demo Calculations (illustration of core principles)"
   ]
  },
  {
   "cell_type": "markdown",
   "id": "969ac934-c4f0-442f-bc81-08e6c60ca0e1",
   "metadata": {},
   "source": [
    "## Plotting the image"
   ]
  },
  {
   "cell_type": "markdown",
   "id": "a7135c50-00e2-4182-ab8e-4a4de562ec23",
   "metadata": {},
   "source": [
    "Here, we illustrate the principles of the apodised photometry for a **test galaxy 10612** in the **image F200W** for the **pointing c1-2e1n1**.\n",
    "\n",
    "We begin by **plotting the image** for demonstration purposes, alongside image relevant statistics."
   ]
  },
  {
   "cell_type": "code",
   "execution_count": null,
   "id": "07b92431-03a1-4491-994a-cb5044ea9197",
   "metadata": {
    "tags": []
   },
   "outputs": [],
   "source": [
    "print(\"Calculating image statistics...\")\n",
    "\n",
    "# print(\"Min:\", np.min(Longlist['F150W'][\"sci\"][\"data\"]))\n",
    "# print(\"Max:\", np.max(Longlist['F150W'][\"sci\"][\"data\"]))\n",
    "# print(\"Mean:\", np.mean(Longlist[\"F150W\"][\"sci\"][\"data\"]))\n",
    "# print(\"Stdev:\", np.std(Longlist[\"F150W\"][\"sci\"][\"data\"]))\n",
    "# print(\n",
    "#     \"Q01:\",\n",
    "#     np.percentile(\n",
    "#         Longlist[\"F150W\"][\"sci\"][\"data\"][\n",
    "#             ~np.isnan(Longlist[\"F150W\"][\"sci\"][\"data\"])\n",
    "#         ],\n",
    "#         [1],\n",
    "#     )[0],\n",
    "# )\n",
    "# print(\n",
    "#     \"Q99:\",\n",
    "#     np.percentile(\n",
    "#         Longlist[\"F150W\"][\"sci\"][\"data\"][\n",
    "#             ~np.isnan(Longlist[\"F150W\"][\"sci\"][\"data\"])\n",
    "#         ],\n",
    "#         [99],\n",
    "#     )[0],\n",
    "# )\n",
    "\n",
    "print(\"Plotting raw image...\")\n",
    "\n",
    "plt.close(\"all\")\n",
    "norm = simple_norm(Longlist[\"F150W\"][\"SCI\"][\"data\"], \"sqrt\", percent=99)\n",
    "plt.imshow(Longlist[\"F150W\"][\"SCI\"][\"data\"], norm=norm, interpolation=\"nearest\")\n",
    "plt.colorbar()\n",
    "plt.title(\"F150W\")\n",
    "\n",
    "print(\"Done.\")"
   ]
  },
  {
   "cell_type": "markdown",
   "id": "0f88379e-d742-484c-8641-a579cd08e97e",
   "metadata": {},
   "source": [
    "## Overlaying the Aperture and Annulus"
   ]
  },
  {
   "cell_type": "markdown",
   "id": "054dc517-5f87-4717-b622-0af46c43f4c2",
   "metadata": {},
   "source": [
    "Next, we demonstrate the **plotting of the aperture** in the image, as well as **the annulus** that would be used to subtract the background. The four corners of the aperture are required for this step, and we have provided the rough source coordinates for reference. All values were measured by eye from Aladin (not the final approach, demo purposes only)."
   ]
  },
  {
   "cell_type": "code",
   "execution_count": null,
   "id": "c331a604-3f09-42f0-83e5-07539bcac360",
   "metadata": {},
   "outputs": [],
   "source": [
    "print(\"Calculating test data...\")\n",
    "\n",
    "# Test coordinates, measured by eye, source 10612, image F200W, visit c1-2e1n1\n",
    "source_coords_test = (3071.48, 5670.81)\n",
    "aperture_coords_test = [\n",
    "    (3078.42, 5682.96),\n",
    "    (3084.03, 5675.98),\n",
    "    (3070.17, 5664.73),\n",
    "    (3064.55, 5671.72),\n",
    "]\n",
    "\n",
    "# # Test coordinates, measured by eye, source 9483, image F200W, visit c1-2e1n1\n",
    "# source_coords_test = (4312, 3923)\n",
    "# aperture_coords_test = [\n",
    "#     (4309, 3930),\n",
    "#     (4315, 3923),\n",
    "#     (4301, 3912),\n",
    "#     (4295, 3919),\n",
    "# ]\n",
    "\n",
    "# Functions to calculate area and centre of aperture from corner coordinates\n",
    "def polygon_area(xs, ys):\n",
    "    \"\"\"https://en.wikipedia.org/wiki/Centroid#Of_a_polygon\"\"\"\n",
    "    # https://stackoverflow.com/a/30408825/7128154\n",
    "    return 0.5 * (np.dot(xs, np.roll(ys, 1)) - np.dot(ys, np.roll(xs, 1)))\n",
    "\n",
    "\n",
    "def polygon_centroid(xs, ys):\n",
    "    \"\"\"https://en.wikipedia.org/wiki/Centroid#Of_a_polygon\"\"\"\n",
    "    xy = np.array([xs, ys])\n",
    "    c = np.dot(\n",
    "        xy + np.roll(xy, 1, axis=1), xs * np.roll(ys, 1) - np.roll(xs, 1) * ys\n",
    "    ) / (6 * polygon_area(xs, ys))\n",
    "    return c\n",
    "\n",
    "\n",
    "print(\"\\nDefining test aperture...\")\n",
    "\n",
    "# Find aperture dimensions\n",
    "aperture_points = np.array(aperture_coords_test).transpose().tolist()\n",
    "aperture_centroid = polygon_centroid(aperture_points[0], aperture_points[1])\n",
    "aperture_width = np.sqrt(\n",
    "    (aperture_points[0][1] - aperture_points[0][0]) ** 2\n",
    "    + (aperture_points[1][1] - aperture_points[1][0]) ** 2\n",
    ")\n",
    "aperture_height = np.sqrt(\n",
    "    (aperture_points[0][2] - aperture_points[0][1]) ** 2\n",
    "    + (aperture_points[1][2] - aperture_points[1][1]) ** 2\n",
    ")\n",
    "aperture_theta = np.arctan(\n",
    "    (aperture_points[1][1] - aperture_points[1][0])\n",
    "    / (aperture_points[0][1] - aperture_points[0][0])\n",
    ")\n",
    "\n",
    "# Define aperture for photutils\n",
    "aperture = photutils.aperture.RectangularAperture(\n",
    "    aperture_centroid, aperture_width, aperture_height, theta=aperture_theta\n",
    ")\n",
    "print(aperture)\n",
    "\n",
    "print(\"\\nDefining annulus...\")\n",
    "\n",
    "# Define annulus for photutils\n",
    "annulus = photutils.aperture.CircularAnnulus(aperture_centroid, r_in=20, r_out=40)\n",
    "print(annulus)\n",
    "\n",
    "print(\"\\nPlotting test aperture...\")\n",
    "\n",
    "plt.close(\"all\")\n",
    "norm = simple_norm(Longlist[\"sw_F200W\"][\"sci\"][\"data\"], \"sqrt\", percent=99)\n",
    "plt.imshow(Longlist[\"sw_F200W\"][\"sci\"][\"data\"], norm=norm, interpolation=\"nearest\")\n",
    "plt.xlim(2970, 3170)\n",
    "plt.ylim(5570, 5770)\n",
    "\n",
    "ap_patches = aperture.plot(color=\"white\", lw=2, label=\"Photometry aperture\")\n",
    "ann_patches = annulus.plot(color=\"red\", lw=2, label=\"Background annulus\")\n",
    "handles = (ap_patches[0], ann_patches[0])\n",
    "plt.legend(\n",
    "    loc=(0.17, 0.05),\n",
    "    facecolor=\"#458989\",\n",
    "    labelcolor=\"white\",\n",
    "    handles=handles,\n",
    "    prop={\"weight\": \"bold\", \"size\": 11},\n",
    ")\n",
    "plt.colorbar()\n",
    "plt.title(\"F200W\")\n",
    "\n",
    "print(\"Done\")"
   ]
  },
  {
   "cell_type": "markdown",
   "id": "12266c65-648e-45ad-9f29-21f8dd148d28",
   "metadata": {},
   "source": [
    "## Interpretting the 'Source Offset' Parameter"
   ]
  },
  {
   "cell_type": "markdown",
   "id": "89ca3b02-b09f-4eb6-b703-834626f9d8a6",
   "metadata": {},
   "source": [
    "Ultimately, we want to **use the data from the CSV table** (imported in Environment Prep) to find our apertures, rather than measuring individually by eye from Aladin, as this would be time-consuming and error-prone. However, to do this, there is a huge snag, which is that very little information is actually provided to us, and we will require some ingenuity to circumvent this.\n",
    "\n",
    "**We have immediate access to the following information**:\n",
    "- The source coordinates in RA, Dec (CSV)\n",
    "- The source offset (x,y) within the aperture from 0 to 1 (CSV)\n",
    "- The aperture position angle in degrees (CSV)\n",
    "- The aperture dimensions in arcseconds (STSci website)\n",
    "\n",
    "Essentially, we will need to use the source coordinates as a reference for the aperture's sky position. Assuming the source offset is a percentage from the corner of the aperture, we can then use the angular size and rotation of the aperture to get a precise location.\n",
    "\n",
    "**Let us show that the offset is likely to be a percentage from the aperture corner.** We plot our test galaxy below using the measured pixel coordinates compared to the predicted CSV offsets. If we see only roughly complete overlap (allowing for errors in the pixel estimates), then our interpretation is likely correct."
   ]
  },
  {
   "cell_type": "code",
   "execution_count": null,
   "id": "30a40cd9-f3a8-48e8-81d4-68c705e82383",
   "metadata": {},
   "outputs": [],
   "source": [
    "print(\"Comparing extracted vs planned offsets...\")\n",
    "\n",
    "# Source offset from aperture centre in pixel coordinates\n",
    "source_offset_old = source_coords_test - aperture_centroid\n",
    "# Rotate into aperture frame i.e. undo aperture rotation\n",
    "frame_image_to_aperture = np.array(\n",
    "    [\n",
    "        [np.cos(aperture_theta), -np.sin(aperture_theta)],\n",
    "        [np.sin(aperture_theta), np.cos(aperture_theta)],\n",
    "    ]\n",
    ")\n",
    "source_offset_new = np.matmul(source_offset_old, frame_image_to_aperture)\n",
    "# Express as percentage of aperture dimensions\n",
    "source_offset_rel = source_offset_new * np.array(\n",
    "    [1 / aperture_width, 1 / aperture_height]\n",
    ")\n",
    "# Finally, calculate offset from corner of aperture\n",
    "source_offset = source_offset_rel + np.array([0.5, 0.5])\n",
    "print(\"Extracted: \", source_offset)\n",
    "print(\n",
    "    \"Planned: \",\n",
    "    [\n",
    "        Longlist[10612][\"c1-2e1n1-G235M-F170LP\"][\"Offset_x\"],\n",
    "        Longlist[10612][\"c1-2e1n1-G235M-F170LP\"][\"Offset_y\"],\n",
    "    ],\n",
    ")\n",
    "\n",
    "# Plot this visually\n",
    "plt.close(\"all\")\n",
    "plt.scatter(\n",
    "    Longlist[10612][\"c1-2e1n1-G235M-F170LP\"][\"Offset_x\"],\n",
    "    (Longlist[10612][\"c1-2e1n1-G235M-F170LP\"][\"Offset_y\"])\n",
    "    * (aperture_height / aperture_width),\n",
    ")\n",
    "plt.scatter(1 - source_offset[0], (1 - source_offset[1]) * (aperture_height / aperture_width))\n",
    "plt.xlim(0, 1)\n",
    "plt.ylim(0, (aperture_height / aperture_width))\n",
    "plt.gca().set_aspect(\"equal\", adjustable=\"box\")\n",
    "\n",
    "print(\"Done.\")"
   ]
  },
  {
   "cell_type": "markdown",
   "id": "d39a98e4-054a-40ea-818a-32a1707fc06c",
   "metadata": {},
   "source": [
    "## Constructing the Aperture from the CSV File"
   ]
  },
  {
   "cell_type": "markdown",
   "id": "0f33eee7-dd81-4b75-8e68-3829b0cc0b66",
   "metadata": {},
   "source": [
    "Great, this works!\n",
    "\n",
    "**To construct our aperture, we will follow these steps:**\n",
    "1. Create a unit square aperture with the source located at the origin (*requires source offset*)\n",
    "2. Transform the square aperture into the correct rectangular aperture (*requires aperture dimensions*)\n",
    "3. Rotate from the aperture frame to the image frame (*requires aperture position angle*)\n",
    "4. Change aperture's dimensions from physical degrees to RA, Dec (*requires source Dec*)\n",
    "5. Shift the origin from the source to the image, to get the correct sky position (*requires source RA, Dec*)\n",
    "6. Transform coordinates from RA, Dec to pixels, to allow for final photometry.\n",
    "\n",
    "However, *we must be careful to differentiate between the physical aperture and the illuminated aperture.* The **illuminated aperture** is relevant for our **final photometry** and is smaller, but the **offsets** are only relevant for the **physical aperture**. This means, once we have the aperture centre, we will need to *repeat the above steps for the illuminated aperture* (this time using the aperture centre as our origin for simplicity)."
   ]
  },
  {
   "cell_type": "code",
   "execution_count": null,
   "id": "3bfcbb18-e53a-469f-ad6b-ff2bce0fec31",
   "metadata": {},
   "outputs": [],
   "source": [
    "print(\"Constructing physical aperture...\")\n",
    "\n",
    "# From now on, we want to calculate fluxes with the accurate APT offset.\n",
    "\n",
    "# Function to find aperture corner coordinates\n",
    "def Find_Aperture(Reference, Reference_Physical, Dimensions):\n",
    "    # Define a unit square with the origin on the reference\n",
    "    offset_aper = np.array(\n",
    "        [[Reference[0], Reference[1]], [0, 0], [1, 0], [1, 1], [0, 1]]\n",
    "    )\n",
    "    # Shift origin to reference offset location\n",
    "    offset_aper_rel = offset_aper - offset_aper[0]\n",
    "    # Transform unit square to aperture physical size\n",
    "    offset_aper_deg = np.array([item * Dimensions for item in offset_aper_rel])\n",
    "    # Rotate into image frame\n",
    "    offset_image_deg = np.array(\n",
    "        [np.matmul(item, frame_aperture_to_image) for item in offset_aper_deg]\n",
    "    )\n",
    "    # Transform to RA, Dec coordinates (RA depends on reference Dec)\n",
    "    offset_image = np.array(\n",
    "        [\n",
    "            item * np.array([1 / np.cos(Reference_Physical[1]), 1])\n",
    "            for item in offset_image_deg\n",
    "        ]\n",
    "    )\n",
    "    # Switch from an offset to a location on the sky\n",
    "    aperture_image = (\n",
    "        np.array([Reference_Physical - item * u.degree for item in offset_image])\n",
    "        * u.degree\n",
    "    )\n",
    "    # Save as SkyCoords for input into world coordinate system\n",
    "    aperture_image_sky = np.array(\n",
    "        [SkyCoord(ra=item[0], dec=item[1]) for item in aperture_image]\n",
    "    )\n",
    "    # Transform from celestial to pixel coordinates\n",
    "    aperture_pixel = np.array([wcs.world_to_pixel(item) for item in aperture_image_sky])\n",
    "    # Save reference and aperture pixel positions\n",
    "    reference_pixel = aperture_pixel[0]\n",
    "    aperture_corners = aperture_pixel[1:5].transpose()\n",
    "    return reference_pixel, aperture_corners\n",
    "\n",
    "\n",
    "# Functions to calculate area and centre of aperture from corner coordinates\n",
    "def polygon_area(xs, ys):\n",
    "    \"\"\"https://en.wikipedia.org/wiki/Centroid#Of_a_polygon\"\"\"\n",
    "    # https://stackoverflow.com/a/30408825/7128154\n",
    "    return 0.5 * (np.dot(xs, np.roll(ys, 1)) - np.dot(ys, np.roll(xs, 1)))\n",
    "\n",
    "\n",
    "def polygon_centroid(xs, ys):\n",
    "    \"\"\"https://en.wikipedia.org/wiki/Centroid#Of_a_polygon\"\"\"\n",
    "    xy = np.array([xs, ys])\n",
    "    c = np.dot(\n",
    "        xy + np.roll(xy, 1, axis=1), xs * np.roll(ys, 1) - np.roll(xs, 1) * ys\n",
    "    ) / (6 * polygon_area(xs, ys))\n",
    "    return c\n",
    "\n",
    "\n",
    "# Functions to define dimensions of aperture\n",
    "def aperture_define(corners, angle):\n",
    "    centroid = polygon_centroid(corners[0], corners[1])\n",
    "    width = np.sqrt(\n",
    "        (corners[0][1] - corners[0][0]) ** 2 + (corners[1][1] - corners[1][0]) ** 2\n",
    "    )\n",
    "    height = np.sqrt(\n",
    "        (corners[0][2] - corners[0][1]) ** 2 + (corners[1][2] - corners[1][1]) ** 2\n",
    "    )\n",
    "\n",
    "    aperture_object = photutils.aperture.RectangularAperture(\n",
    "        centroid,\n",
    "        width,\n",
    "        height,\n",
    "        theta=angle,\n",
    "    )\n",
    "    return aperture_object, centroid, width, height\n",
    "\n",
    "\n",
    "# Define the world coordinate system and other relevant values.\n",
    "wcs = WCS(Longlist[\"sw_F090W\"][\"sci\"][\"header\"])\n",
    "aperture_phys_width = (0.27 * u.arcsec).to(u.degree)\n",
    "aperture_phys_height = (0.53 * u.arcsec).to(u.degree)\n",
    "aperture_phys_dims = (\n",
    "    np.array([aperture_phys_width.value, aperture_phys_height.value])\n",
    "    * aperture_phys_height.unit\n",
    ")  # These are in physical degrees, not celestial degrees (lack of dependence on declination).\n",
    "# The aperture appears to cover more RA as we move away from equator, since RA/pixel increases.\n",
    "# The angular size remains fixed in the image, but in celestial coordinates, it appears to cover\n",
    "# more sky in the RA-direction i.e. the sky image is actually distorted with respect to celestial\n",
    "# coordinates. So we will later need to 'expand' our RA-direction angle when shifting to celestial\n",
    "# coordinates, to account for to the fact that more RA is contained within an angular degree.\n",
    "aperture_theta = Longlist[10612][\"c1-2e1n1-G235M-F170LP\"][\"Angle\"]\n",
    "source_coords_phys = (\n",
    "    np.array(\n",
    "        [\n",
    "            Longlist[10612][\"c1-2e1n1-G235M-F170LP\"][\"RA\"].value,\n",
    "            Longlist[10612][\"c1-2e1n1-G235M-F170LP\"][\"Dec\"].value,\n",
    "        ]\n",
    "    )\n",
    "    * Longlist[10612][\"c1-2e1n1-G235M-F170LP\"][\"Dec\"].unit\n",
    ")\n",
    "source_offset = [\n",
    "    1 - Longlist[10612][\"c1-2e1n1-G235M-F170LP\"][\"Offset_x\"],\n",
    "    Longlist[10612][\"c1-2e1n1-G235M-F170LP\"][\"Offset_y\"],\n",
    "] # Whether to use '1 - offset' or just 'offset' depends on your choice of the initial corner\n",
    "frame_aperture_to_image = np.array(\n",
    "    [\n",
    "        [np.cos(aperture_theta), -np.sin(aperture_theta)],\n",
    "        [np.sin(aperture_theta), np.cos(aperture_theta)],\n",
    "    ]\n",
    ")\n",
    "frame_image_to_aperture = np.array(\n",
    "    [\n",
    "        [np.cos(-aperture_theta), -np.sin(-aperture_theta)],\n",
    "        [np.sin(-aperture_theta), np.cos(-aperture_theta)],\n",
    "    ]\n",
    ")\n",
    "\n",
    "# Find physical aperture\n",
    "source_coords_pixels, aperture_phys_corners = Find_Aperture(\n",
    "    source_offset, source_coords_phys, aperture_phys_dims\n",
    ")\n",
    "(\n",
    "    aperture_phys,\n",
    "    aperture_phys_centroid,\n",
    "    aperture_phys_width_pixel,\n",
    "    aperture_phys_height_pixel,\n",
    ") = aperture_define(aperture_phys_corners, aperture_theta)\n",
    "\n",
    "print(aperture_phys)\n",
    "\n",
    "print(\"\\nConstructing illuminated aperture...\")\n",
    "# Need to also find the corners of the illuminated area (use centroid as reference and repeat)\n",
    "aperture_centroid_world = (\n",
    "    np.array(\n",
    "        wcs.pixel_to_world_values(aperture_phys_centroid[0], aperture_phys_centroid[1])\n",
    "    )\n",
    "    * u.degree\n",
    ")\n",
    "aperture_illum_width = (0.20 * u.arcsec).to(u.degree)\n",
    "aperture_illum_height = (0.46 * u.arcsec).to(u.degree)\n",
    "aperture_illum_dims = (\n",
    "    np.array([aperture_illum_width.value, aperture_illum_height.value])\n",
    "    * aperture_illum_height.unit\n",
    ")\n",
    "center_offset = np.array([0.5, 0.5])\n",
    "\n",
    "centroid_coords_pixels, aperture_illum_corners = Find_Aperture(\n",
    "    center_offset, aperture_centroid_world, aperture_illum_dims\n",
    ")\n",
    "(\n",
    "    aperture_illum,\n",
    "    aperture_illum_centroid,\n",
    "    aperture_illum_width_pixel,\n",
    "    aperture_illum_height_pixel,\n",
    ") = aperture_define(aperture_illum_corners, aperture_theta)\n",
    "print(aperture_illum)\n",
    "\n",
    "print(\"\\nDefining annulus...\")\n",
    "# Define annulus for photutils\n",
    "annulus = photutils.aperture.CircularAnnulus(source_coords_pixels, r_in=20, r_out=40)\n",
    "print(annulus)\n",
    "\n",
    "print(\"\\nPlotting aperture...\")\n",
    "\n",
    "plt.close(\"all\")\n",
    "norm = simple_norm(Longlist[\"sw_F200W\"][\"sci\"][\"data\"], \"sqrt\", percent=99)\n",
    "plt.imshow(Longlist[\"sw_F200W\"][\"sci\"][\"data\"], norm=norm, interpolation=\"nearest\")\n",
    "plt.xlim(3020, 3120)\n",
    "plt.ylim(5620, 5720)\n",
    "\n",
    "ap_patches = aperture.plot(color=\"white\", lw=2, label=\"Estimated aperture\")\n",
    "ap_patches2 = aperture_phys.plot(color=\"red\", lw=2, label=\"Physical aperture\")\n",
    "ap_patches3 = aperture_illum.plot(color=\"green\", lw=2, label=\"Illuminated aperture\")\n",
    "ann_patches = annulus.plot(color=\"orange\", lw=2, label=\"Background annulus\")\n",
    "handles = (ap_patches[0], ap_patches2[0], ap_patches3[0], ann_patches[0])\n",
    "plt.legend(\n",
    "    loc=(0.17, 0.05),\n",
    "    facecolor=\"#458989\",\n",
    "    labelcolor=\"white\",\n",
    "    handles=handles,\n",
    "    prop={\"weight\": \"bold\", \"size\": 11},\n",
    ")\n",
    "plt.colorbar()\n",
    "\n",
    "print(\"Done.\")"
   ]
  },
  {
   "cell_type": "markdown",
   "id": "63b658f0-1331-49ee-bff3-f32e12185795",
   "metadata": {},
   "source": [
    "## Correcting for Misalignments and Incorrect Scalings in the Image"
   ]
  },
  {
   "cell_type": "markdown",
   "id": "d0d0c4ee-9eda-41d4-8b25-85a1b065c845",
   "metadata": {},
   "source": [
    "This is good enough!\n",
    "\n",
    "Lastly, before we can perform our aperture photometry, we need to **account for any possible offsets or mis-scalings** in our pixel coordinates which might cause the image to deviate from the celestial coordinates.\n",
    "\n",
    "To correct this, we will\n",
    "1. Look at the alignment stars\n",
    "2. Remove the average offset compared to their best-fit centroids\n",
    "3. Add a rescaling if there is any obvious pixel scaling issue."
   ]
  },
  {
   "cell_type": "markdown",
   "id": "477babac-db54-4a85-8d60-de1631a06d88",
   "metadata": {},
   "source": [
    "### Pixel Offset"
   ]
  },
  {
   "cell_type": "markdown",
   "id": "4722518a-43c1-42b2-8e26-e609d627ed3d",
   "metadata": {},
   "source": [
    "First, we look for any pixel offset."
   ]
  },
  {
   "cell_type": "code",
   "execution_count": null,
   "id": "db617442-018a-4ca5-ba12-f90738508114",
   "metadata": {},
   "outputs": [],
   "source": [
    "print(\"Calculating alignment object centroids...\")\n",
    "\n",
    "# Grab pixel coordinates of alignment objects\n",
    "x_init = y_init = []\n",
    "for ID in Align.keys():\n",
    "    pixels = wcs.world_to_pixel(\n",
    "        SkyCoord(ra=Align[ID][\"Align\"][\"RA\"], dec=Align[ID][\"Align\"][\"Dec\"])\n",
    "    )\n",
    "    x_init = x_init + [pixels[0]]\n",
    "    y_init = y_init + [pixels[1]]\n",
    "# Find their centroids using these coordinates as initial estimates\n",
    "x_init = np.array(x_init)\n",
    "y_init = np.array(y_init)\n",
    "x, y = centroid_sources(\n",
    "    Longlist[\"sw_F090W\"][\"sci\"][\"data\"],\n",
    "    x_init,\n",
    "    y_init,\n",
    "    box_size=21,\n",
    "    centroid_func=centroid_2dg,\n",
    ")\n",
    "\n",
    "print(\"Calculating shifts...\")\n",
    "\n",
    "x_shift = x - x_init\n",
    "y_shift = y - y_init\n",
    "shift_total = np.sqrt((x_shift) ** 2 + (y_shift) ** 2)\n",
    "# Exaggerate offsets visually for plotting\n",
    "x_shift_plot = x_init + 100 * x_shift\n",
    "y_shift_plot = y_init + 100 * y_shift\n",
    "\n",
    "print(\"Plotting shifts...\")\n",
    "\n",
    "plt.close(\"all\")\n",
    "plt.scatter(x_init, y_init, label=\"SMACS coordinates\")\n",
    "plt.scatter(x_shift_plot, y_shift_plot, label=\"Centroid coordinates\")\n",
    "plt.legend(frameon=True)\n",
    "plt.title(\"Before shift correction\")\n",
    "\n",
    "print(\"Done.\")"
   ]
  },
  {
   "cell_type": "markdown",
   "id": "c6ff31b1-ca4f-4db2-8926-4046c86f3534",
   "metadata": {},
   "source": [
    "### Pixel Scaling"
   ]
  },
  {
   "cell_type": "markdown",
   "id": "167d73bd-71f8-4590-9222-deb940a2fd07",
   "metadata": {},
   "source": [
    "Clearly, there is a systematic offset. We will subtract this out, and then determine if there is any systematic pixel scaling issue. (The latter should look as if the sources are pointing towards a particular location on the sky.)"
   ]
  },
  {
   "cell_type": "code",
   "execution_count": null,
   "id": "19ae119b-7d56-43eb-8d13-ec653be9b6ec",
   "metadata": {},
   "outputs": [],
   "source": [
    "print(\"Subtracting shifts...\")\n",
    "\n",
    "x_subtr = x_init + np.mean(x_shift)\n",
    "y_subtr = y_init + np.mean(y_shift)\n",
    "\n",
    "# Exaggerate offsets visually for plotting\n",
    "x_shift_new = x - x_subtr\n",
    "y_shift_new = y - y_subtr\n",
    "x_shift_new_plot = x_subtr + 100 * x_shift_new\n",
    "y_shift_new_plot = y_subtr + 100 * y_shift_new\n",
    "\n",
    "print(\"Finding average scaling centre...\")\n",
    "\n",
    "# Function to find equation of a line\n",
    "def linear_equation(x1, x2, y1, y2):\n",
    "    m = (y1 - y2) / (x1 - x2)\n",
    "    c = -m * x1 + y1\n",
    "    return m, c\n",
    "\n",
    "\n",
    "# Function to find intersect between two lines\n",
    "def intersect(m1, c1, m2, c2):\n",
    "    x_int = (c2 - c1) / (m1 - m2)\n",
    "    y_int = (m1 * x_int) + c1\n",
    "    return x_int, y_int\n",
    "\n",
    "\n",
    "# Using lines given by centroids and predicted locations, find all possible intersection points\n",
    "x_ints = y_ints = []\n",
    "for i in range(0, len(x), 1):\n",
    "    for j in range(0, len(y), 1):\n",
    "        if i != j:\n",
    "            mi, ci = linear_equation(x[i], x_subtr[i], y[i], y_subtr[i])\n",
    "            mj, cj = linear_equation(x[j], x_subtr[j], y[j], y_subtr[j])\n",
    "            x_int, y_int = intersect(mi, ci, mj, cj)\n",
    "            x_ints = x_ints + [x_int]\n",
    "            y_ints = y_ints + [y_int]\n",
    "\n",
    "# Get the average intersection and plot location\n",
    "x_int = np.mean(x_ints)\n",
    "y_int = np.mean(y_ints)\n",
    "\n",
    "print(\"Plotting shifted positions...\")\n",
    "\n",
    "plt.close(\"all\")\n",
    "plt.scatter(x_subtr, y_subtr, label=\"Shift-corrected coordinates\")\n",
    "plt.scatter(x_shift_new_plot, y_shift_new_plot, label=\"Centroid coordinates\")\n",
    "plt.scatter(x_int, y_int, label=\"Average scaling centre\")\n",
    "plt.legend(frameon=True)\n",
    "plt.title(\"After shift correction\")\n",
    "\n",
    "print(\"Done.\")"
   ]
  },
  {
   "cell_type": "markdown",
   "id": "89428fbb-6ed7-4524-a00f-bb772ee4b783",
   "metadata": {},
   "source": [
    "### Final Result"
   ]
  },
  {
   "cell_type": "code",
   "execution_count": null,
   "id": "bb9a2f2e-4818-4300-b420-811f49a96ca2",
   "metadata": {},
   "outputs": [],
   "source": [
    "print(\"Correcting for scaling...\")\n",
    "\n",
    "\n",
    "# Function to find rescaling factor\n",
    "def find_scale(xs, ys, x_offs, y_offs, x_int, y_int):\n",
    "    x_intarr = np.full(len(xs), x_int)\n",
    "    x_dists = xs - x_intarr\n",
    "    x_offdists = x_offs - x_intarr\n",
    "    x_scalearr = np.divide(x_offdists, x_dists)\n",
    "    x_scale = np.mean(x_scalearr)\n",
    "    y_intarr = np.full(len(ys), y_int)\n",
    "    y_dists = ys - y_intarr\n",
    "    y_offdists = y_offs - y_intarr\n",
    "    y_scalearr = np.divide(y_offdists, y_dists)\n",
    "    y_scale = np.mean(y_scalearr)\n",
    "    return x_scale, y_scale\n",
    "\n",
    "\n",
    "# Function to perform rescaling on sources\n",
    "def scale_correct(xs, ys, x_scale, y_scale, x_int, y_int):\n",
    "    x_intarr = np.full(len(xs), x_int)\n",
    "    y_intarr = np.full(len(ys), y_int)\n",
    "    x_new = (xs - x_intarr) * x_scale + x_intarr\n",
    "    y_new = (ys - y_intarr) * y_scale + y_intarr\n",
    "    return x_new, y_new\n",
    "\n",
    "\n",
    "\n",
    "x_scale, y_scale = find_scale(x_subtr, y_subtr, x, y, x_int, y_int)\n",
    "x_new, y_new = scale_correct(x_subtr, y_subtr, x_scale, y_scale, x_int, y_int)\n",
    "\n",
    "print(\"Plotting scale-corrected reference...\")\n",
    "\n",
    "x_scale_new = x - x_new\n",
    "y_scale_new = y - y_new\n",
    "x_scale_new_plot = x_new + 100 * x_scale_new\n",
    "y_scale_new_plot = y_new + 100 * y_scale_new\n",
    "\n",
    "plt.close(\"all\")\n",
    "plt.scatter(x_new, y_new, label=\"Scale-corrected coordinates\")\n",
    "plt.scatter(x_scale_new_plot, y_scale_new_plot, label=\"Centroid coordinates\")\n",
    "plt.scatter(x_int, y_int, label=\"Average scale centre\")\n",
    "plt.legend(frameon=True)\n",
    "plt.title(\"After scale correction\")\n",
    "\n",
    "print(\"Done.\")"
   ]
  },
  {
   "cell_type": "markdown",
   "id": "7aff2bdd-5aaa-4fdd-92d5-8c6c3d7880b2",
   "metadata": {},
   "source": [
    "### Effect on Aperture"
   ]
  },
  {
   "cell_type": "markdown",
   "id": "18bf8b2d-73c4-44b7-a52e-967cc5a8c51f",
   "metadata": {},
   "source": [
    "Now that we have our corrections, we can reposition our aperture centroids appropriately. The difference will be subtle but enough to alter the results."
   ]
  },
  {
   "cell_type": "code",
   "execution_count": null,
   "id": "9aab4834-e6c1-4cdb-ad32-9b4c5749e46b",
   "metadata": {},
   "outputs": [],
   "source": [
    "print(\"Correcting test aperture...\")\n",
    "\n",
    "# Correct aperture centres\n",
    "aperture_shifted_x = aperture_phys_centroid[0] + np.mean(x_shift)\n",
    "aperture_shifted_y = aperture_phys_centroid[1] + np.mean(y_shift)\n",
    "aperture_scaled_x, aperture_scaled_y = scale_correct(\n",
    "    np.array([aperture_shifted_x]),\n",
    "    np.array([aperture_shifted_y]),\n",
    "    x_scale,\n",
    "    y_scale,\n",
    "    x_int,\n",
    "    y_int,\n",
    ")\n",
    "\n",
    "\n",
    "aperture_shift_centroid_world = (\n",
    "    np.array(wcs.pixel_to_world_values(aperture_shifted_x, aperture_shifted_y)) * u.degree\n",
    ")\n",
    "aperture_scale_centroid_world = (\n",
    "    np.array(wcs.pixel_to_world_values(aperture_scaled_x[0], aperture_scaled_y[0]))\n",
    "    * u.degree\n",
    ")\n",
    "\n",
    "print(\"\\nDefining offset aperture...\")\n",
    "centroid_shift_coords_pixels, aperture_shift_illum_corners = Find_Aperture(\n",
    "    center_offset, aperture_shift_centroid_world, aperture_illum_dims\n",
    ")\n",
    "(\n",
    "    aperture_shift_illum,\n",
    "    aperture_shift_illum_centroid,\n",
    "    aperture_shift_illum_width_pixel,\n",
    "    aperture_shift_illum_height_pixel,\n",
    ") = aperture_define(aperture_shift_illum_corners, aperture_theta)\n",
    "print(aperture_shift_illum)\n",
    "\n",
    "print(\"\\nDefining shifted aperture...\")\n",
    "centroid_scale_coords_pixels, aperture_scale_illum_corners = Find_Aperture(\n",
    "    center_offset, aperture_scale_centroid_world, aperture_illum_dims\n",
    ")\n",
    "(\n",
    "    aperture_scale_illum,\n",
    "    aperture_scale_illum_centroid,\n",
    "    aperture_scale_illum_width_pixel,\n",
    "    aperture_scale_illum_height_pixel,\n",
    ") = aperture_define(aperture_scale_illum_corners, aperture_theta)\n",
    "print(aperture_scale_illum)\n",
    "\n",
    "print(\"\\nPlotting apertures...\")\n",
    "\n",
    "x_source, y_source = centroid_sources(\n",
    "    Longlist[\"sw_F200W\"][\"sci\"][\"data\"],\n",
    "    source_coords_pixels[0],\n",
    "    source_coords_pixels[1],\n",
    "    box_size=21,\n",
    "    centroid_func=centroid_2dg,\n",
    ")\n",
    "source_scaled_x, source_scaled_y = scale_correct(\n",
    "    np.array([source_coords_pixels[0] + np.mean(x_shift)]),\n",
    "    np.array([source_coords_pixels[1] + np.mean(y_shift)]),\n",
    "    x_scale,\n",
    "    y_scale,\n",
    "    x_int,\n",
    "    y_int,\n",
    ")\n",
    "\n",
    "plt.close(\"all\")\n",
    "norm = simple_norm(Longlist[\"sw_F200W\"][\"sci\"][\"data\"], \"sqrt\", percent=99)\n",
    "plt.imshow(Longlist[\"sw_F200W\"][\"sci\"][\"data\"], norm=norm, interpolation=\"nearest\")\n",
    "plt.xlim(3060, 3085)\n",
    "plt.ylim(5660, 5685)\n",
    "\n",
    "ap_patches = aperture_illum.plot(color=\"white\", lw=2, label=\"Illuminated aperture\")\n",
    "ap_patches2 = aperture_shift_illum.plot(\n",
    "    color=\"red\", lw=2, label=\"Shift-corrected aperture\"\n",
    ")\n",
    "ap_patches3 = aperture_scale_illum.plot(\n",
    "    color=\"green\", lw=2, label=\"Scale-corrected aperture\"\n",
    ")\n",
    "handles = (ap_patches[0], ap_patches2[0], ap_patches3[0])\n",
    "plt.legend(\n",
    "    loc=(0.17, 0.05),\n",
    "    facecolor=\"#458989\",\n",
    "    labelcolor=\"white\",\n",
    "    handles=handles,\n",
    "    prop={\"weight\": \"bold\", \"size\": 11},\n",
    ")\n",
    "plt.colorbar()\n",
    "\n",
    "print(\"Done.\")"
   ]
  },
  {
   "cell_type": "markdown",
   "id": "5291bd9d-5317-4ec0-b51b-9836c99dcf72",
   "metadata": {},
   "source": [
    "## Calculating Apodised Photometry"
   ]
  },
  {
   "cell_type": "markdown",
   "id": "c40004a4-8ffe-4c25-90bf-37fdd5cede69",
   "metadata": {},
   "source": [
    "Lastly, we can perform our aperture photometry. We want to calculate the total flux through the aperture and then subtract the background flux. This can be done in one of two ways:\n",
    "1. Using an annulus to estimate the background flux.\n",
    "2. Identical to 1, but using a sigma-threshold to remove other sources from contributing to the background.\n",
    "\n",
    "Additionally, we can estimate the flux error using the error extension. One can also use a Poisson error calculation if the error image does not already account for this. We will output all possible values below and the final code allows you to choose between these (default are the sigma-subtracted background and the non-Poisson error calculation)."
   ]
  },
  {
   "cell_type": "code",
   "execution_count": null,
   "id": "d481867e-7e2a-4341-916a-0c754ba04ece",
   "metadata": {},
   "outputs": [],
   "source": [
    "print(\"Calculating background flux...\")\n",
    "\n",
    "# Simple mean\n",
    "data = Longlist[\"sw_F090W\"][\"sci\"][\"data\"]\n",
    "error = Longlist[\"sw_F090W\"][\"err\"][\"data\"]\n",
    "annulus = photutils.aperture.CircularAnnulus(\n",
    "    np.array([source_scaled_x[0], source_scaled_y[0]]), r_in=30, r_out=50\n",
    ")\n",
    "annu_stats = photutils.ApertureStats(data, annulus)\n",
    "bkg_mean = annu_stats.mean\n",
    "\n",
    "phot_table = photutils.aperture_photometry(data, aperture_scale_illum)\n",
    "for col in phot_table.colnames:\n",
    "    phot_table[col].info.format = \"%.8g\"  # for consistent table output\n",
    "aperture_area = aperture_scale_illum.area_overlap(data)\n",
    "\n",
    "total_bkg = bkg_mean * aperture_area\n",
    "print(\"1. Total aperture flux: \", phot_table[\"aperture_sum\"][0])\n",
    "phot_bkgsub = phot_table[\"aperture_sum\"] - total_bkg\n",
    "\n",
    "phot_table[\"total_bkg\"] = total_bkg\n",
    "phot_table[\"aperture_sum_bkgsub\"] = phot_bkgsub\n",
    "for col in phot_table.colnames:\n",
    "    phot_table[col].info.format = \"%.8g\"  # for consistent table output\n",
    "print(\"2. Simple background-subtracted flux: \", phot_bkgsub[0])\n",
    "print(\"3. Simple background: \", total_bkg)\n",
    "\n",
    "# Sigma-clipped mean\n",
    "# Define sigma-clipping rules\n",
    "sigclip = SigmaClip(sigma=3.0, maxiters=10)\n",
    "\n",
    "# Calculate statistics in aperture and annulus\n",
    "aper_stats = photutils.ApertureStats(data, aperture_scale_illum, sigma_clip=None)\n",
    "bkg_stats = photutils.ApertureStats(data, annulus, sigma_clip=sigclip)\n",
    "\n",
    "# Calculate total background flux in aperture\n",
    "total_bkg = bkg_stats.median * aper_stats.sum_aper_area.value\n",
    "# print(bkg_stats.median)\n",
    "\n",
    "# Find total flux after subtraction\n",
    "apersum_bkgsub = aper_stats.sum - total_bkg\n",
    "\n",
    "print(\"4. Sigma-clipped background-subtracted flux: \", apersum_bkgsub)\n",
    "print(\"5. Sigma-clipped background: \", total_bkg)\n",
    "\n",
    "phot_table = photutils.aperture_photometry(data, aperture_scale_illum, error=error)\n",
    "for col in phot_table.colnames:\n",
    "    phot_table[col].info.format = \"%.8g\"  # for consistent table output\n",
    "print(\"6. Non-poisson flux error: \", phot_table[\"aperture_sum_err\"][0])\n",
    "\n",
    "effective_gain = Longlist[\"sw_F200W\"][\"header\"][\"EFFEXPTM\"]  # if flux is electrons/s, then this gives total electrons\n",
    "bkg_error = calc_total_error(data, error, effective_gain)\n",
    "phot_table = photutils.aperture_photometry(data, aperture_scale_illum, error=bkg_error)\n",
    "for col in phot_table.colnames:\n",
    "    phot_table[col].info.format = \"%.8g\"  # for consistent table output\n",
    "print(\"7. Flux error including poisson error: \", phot_table[\"aperture_sum_err\"][0])\n",
    "print(\"Done.\")"
   ]
  }
 ],
 "metadata": {
  "kernelspec": {
   "display_name": "Python 3 (ipykernel)",
   "language": "python",
   "name": "python3"
  },
  "language_info": {
   "codemirror_mode": {
    "name": "ipython",
    "version": 3
   },
   "file_extension": ".py",
   "mimetype": "text/x-python",
   "name": "python",
   "nbconvert_exporter": "python",
   "pygments_lexer": "ipython3",
   "version": "3.11.0"
  },
  "toc-autonumbering": true,
  "toc-showcode": false,
  "toc-showmarkdowntxt": false
 },
 "nbformat": 4,
 "nbformat_minor": 5
}
