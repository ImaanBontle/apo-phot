{
 "cells": [
  {
   "cell_type": "markdown",
   "id": "8bccdc4a-29b2-4e6b-ac12-9542fb81b0eb",
   "metadata": {},
   "source": [
    "This notebook is a template to prepare the input aperture corners for apodised photometry. This means you will likely need to adapt the code for your own purposes.\n",
    "\n",
    "You will need to provide a table of apertures with columns \"RA_i\", \"Dec_i\" in degrees for each ith corner of the aperture, as well as a column with the source \"ID\". If multiple observations are made for each ID, you can optionally only list the ID in the first instance, provided each observation is grouped together.\n",
    "\n",
    "You will also need to provide a table of each source with \"RA\", \"Dec\" and \"ID\" columns.\n",
    "\n",
    "You may find commands like \":%s/\\<search\\>/\\<replace\\>/g\" in Vim or \"esc+x; string-replace; \\<search\\>; \\<replace\\>\" in eMACS useful in preparing these files."
   ]
  },
  {
   "cell_type": "code",
   "execution_count": 1,
   "id": "2cf7c840-39ed-4616-a7df-43cb42f2d523",
   "metadata": {},
   "outputs": [
    {
     "name": "stdout",
     "output_type": "stream",
     "text": [
      "Preparing environment...\n",
      "Done.\n"
     ]
    }
   ],
   "source": [
    "print(\"Preparing environment...\")\n",
    "\n",
    "import astropy.table as tbl\n",
    "import numpy as np\n",
    "\n",
    "print(\"Done.\")"
   ]
  },
  {
   "cell_type": "code",
   "execution_count": 8,
   "id": "28cea049-be08-43dd-adfa-f4f21ac707be",
   "metadata": {
    "tags": []
   },
   "outputs": [],
   "source": [
    "aperture_table = tbl.Table.read(\n",
    "    \"../../SharedData/NIRSpec/Medium/ds9_slit_regions.dat\", format=\"ascii.csv\"\n",
    ")\n",
    "source_table = tbl.Table.read(\n",
    "    \"../../SharedData/NIRSpec/Medium/ds9_targ_regions.dat\", format=\"ascii.csv\"\n",
    ")\n",
    "output_table = tbl.join(aperture_table, source_table, keys=\"ID\")\n",
    "output_table.add_column(1, name=\"Visit\")"
   ]
  },
  {
   "cell_type": "code",
   "execution_count": 9,
   "id": "fc8a5a77-d7ff-4e89-995e-5a9c08102ded",
   "metadata": {
    "tags": []
   },
   "outputs": [
    {
     "data": {
      "text/html": [
       "<div><i>Table length=143</i>\n",
       "<table id=\"table2623220603216\" class=\"table-striped table-bordered table-condensed\">\n",
       "<thead><tr><th>RA_1</th><th>Dec_1</th><th>RA_2</th><th>Dec_2</th><th>RA_3</th><th>Dec_3</th><th>RA_4</th><th>Dec_4</th><th>ID</th><th>Source_RA</th><th>Source_Dec</th><th>Visit</th></tr></thead>\n",
       "<thead><tr><th>float64</th><th>float64</th><th>float64</th><th>float64</th><th>float64</th><th>float64</th><th>float64</th><th>float64</th><th>int32</th><th>float64</th><th>float64</th><th>int32</th></tr></thead>\n",
       "<tr><td>53.1462454</td><td>-27.769601</td><td>53.1460986</td><td>-27.7696078</td><td>53.1461027</td><td>-27.7696633</td><td>53.1462495</td><td>-27.7696565</td><td>4028</td><td>53.1461433</td><td>-27.7696165</td><td>1</td></tr>\n",
       "<tr><td>53.1540719</td><td>-27.7704383</td><td>53.1539245</td><td>-27.7704451</td><td>53.1539286</td><td>-27.7705007</td><td>53.1540761</td><td>-27.7704939</td><td>4081</td><td>53.1540398</td><td>-27.7704472</td><td>1</td></tr>\n",
       "<tr><td>53.1522122</td><td>-27.761218</td><td>53.1520649</td><td>-27.7612251</td><td>53.1520689</td><td>-27.7612807</td><td>53.1522162</td><td>-27.7612735</td><td>7236</td><td>53.1521909</td><td>-27.7612526</td><td>1</td></tr>\n",
       "<tr><td>53.1561388</td><td>-27.7617039</td><td>53.1559912</td><td>-27.761711</td><td>53.1559953</td><td>-27.7617666</td><td>53.1561429</td><td>-27.7617595</td><td>7511</td><td>53.1560982</td><td>-27.7617165</td><td>1</td></tr>\n",
       "<tr><td>53.1433424</td><td>-27.7713108</td><td>53.1431958</td><td>-27.7713176</td><td>53.1431999</td><td>-27.7713731</td><td>53.1433465</td><td>-27.7713663</td><td>8109</td><td>53.1432748</td><td>-27.7713267</td><td>1</td></tr>\n",
       "<tr><td>53.1483937</td><td>-27.7713018</td><td>53.1482468</td><td>-27.7713086</td><td>53.1482509</td><td>-27.7713641</td><td>53.1483978</td><td>-27.7713573</td><td>9141</td><td>53.1483778</td><td>-27.7713067</td><td>1</td></tr>\n",
       "<tr><td>53.1186092</td><td>-27.7708952</td><td>53.1184645</td><td>-27.770902</td><td>53.1184685</td><td>-27.7709572</td><td>53.1186132</td><td>-27.7709504</td><td>12127</td><td>53.1185194</td><td>-27.7709408</td><td>1</td></tr>\n",
       "<tr><td>53.1323917</td><td>-27.7706231</td><td>53.132246</td><td>-27.7706299</td><td>53.13225</td><td>-27.7706853</td><td>53.1323957</td><td>-27.7706785</td><td>12146</td><td>53.1323168</td><td>-27.7706709</td><td>1</td></tr>\n",
       "<tr><td>53.1396256</td><td>-27.7664669</td><td>53.1394794</td><td>-27.7664739</td><td>53.1394834</td><td>-27.7665293</td><td>53.1396297</td><td>-27.7665224</td><td>12350</td><td>53.1395244</td><td>-27.7665096</td><td>1</td></tr>\n",
       "<tr><td>53.1347801</td><td>-27.7643805</td><td>53.1346342</td><td>-27.7643875</td><td>53.1346382</td><td>-27.7644429</td><td>53.1347841</td><td>-27.7644358</td><td>12443</td><td>53.1346403</td><td>-27.764405</td><td>1</td></tr>\n",
       "<tr><td>...</td><td>...</td><td>...</td><td>...</td><td>...</td><td>...</td><td>...</td><td>...</td><td>...</td><td>...</td><td>...</td><td>...</td></tr>\n",
       "<tr><td>53.0926104</td><td>-27.762423</td><td>53.0924675</td><td>-27.7624301</td><td>53.0924714</td><td>-27.762485</td><td>53.0926142</td><td>-27.7624779</td><td>58093</td><td>53.092537</td><td>-27.762472</td><td>1</td></tr>\n",
       "<tr><td>53.1124962</td><td>-27.7595805</td><td>53.112352</td><td>-27.7595877</td><td>53.1123558</td><td>-27.7596427</td><td>53.1125</td><td>-27.7596356</td><td>58656</td><td>53.112367</td><td>-27.7596</td><td>1</td></tr>\n",
       "<tr><td>53.1100599</td><td>-27.7554685</td><td>53.1099159</td><td>-27.7554758</td><td>53.1099197</td><td>-27.7555308</td><td>53.1100637</td><td>-27.7555235</td><td>58658</td><td>53.109972</td><td>-27.755517</td><td>1</td></tr>\n",
       "<tr><td>53.0952701</td><td>-27.760587</td><td>53.0951271</td><td>-27.7605941</td><td>53.0951309</td><td>-27.760649</td><td>53.0952739</td><td>-27.7606419</td><td>58850</td><td>53.095171</td><td>-27.760609</td><td>1</td></tr>\n",
       "<tr><td>53.1054653</td><td>-27.7234469</td><td>53.1053215</td><td>-27.7234551</td><td>53.105325</td><td>-27.7235101</td><td>53.1054688</td><td>-27.7235019</td><td>58930</td><td>53.105382</td><td>-27.723466</td><td>1</td></tr>\n",
       "<tr><td>53.1421386</td><td>-27.7686691</td><td>53.1419921</td><td>-27.768676</td><td>53.1419962</td><td>-27.7687315</td><td>53.1421427</td><td>-27.7687246</td><td>106696</td><td>53.1420288</td><td>-27.7686882</td><td>1</td></tr>\n",
       "<tr><td>53.146917</td><td>-27.7695696</td><td>53.1467701</td><td>-27.7695764</td><td>53.1467742</td><td>-27.769632</td><td>53.1469211</td><td>-27.7696251</td><td>106704</td><td>53.1468811</td><td>-27.7695847</td><td>1</td></tr>\n",
       "<tr><td>53.1107134</td><td>-27.7553612</td><td>53.1105694</td><td>-27.7553685</td><td>53.1105732</td><td>-27.7554235</td><td>53.1107172</td><td>-27.7554162</td><td>107500</td><td>53.110702</td><td>-27.7553756</td><td>1</td></tr>\n",
       "<tr><td>53.1127699</td><td>-27.7516175</td><td>53.1126257</td><td>-27.7516249</td><td>53.1126295</td><td>-27.7516799</td><td>53.1127737</td><td>-27.7516725</td><td>107512</td><td>53.1127103</td><td>-27.7516449</td><td>1</td></tr>\n",
       "<tr><td>53.1385672</td><td>-27.7703344</td><td>53.138421</td><td>-27.7703412</td><td>53.1384251</td><td>-27.7703966</td><td>53.1385713</td><td>-27.7703898</td><td>107523</td><td>53.1385404</td><td>-27.7703556</td><td>1</td></tr>\n",
       "</table></div>"
      ],
      "text/plain": [
       "<Table length=143>\n",
       "   RA_1       Dec_1       RA_2       Dec_2    ... Source_RA   Source_Dec Visit\n",
       " float64     float64    float64     float64   ...  float64     float64   int32\n",
       "---------- ----------- ---------- ----------- ... ---------- ----------- -----\n",
       "53.1462454  -27.769601 53.1460986 -27.7696078 ... 53.1461433 -27.7696165     1\n",
       "53.1540719 -27.7704383 53.1539245 -27.7704451 ... 53.1540398 -27.7704472     1\n",
       "53.1522122  -27.761218 53.1520649 -27.7612251 ... 53.1521909 -27.7612526     1\n",
       "53.1561388 -27.7617039 53.1559912  -27.761711 ... 53.1560982 -27.7617165     1\n",
       "53.1433424 -27.7713108 53.1431958 -27.7713176 ... 53.1432748 -27.7713267     1\n",
       "53.1483937 -27.7713018 53.1482468 -27.7713086 ... 53.1483778 -27.7713067     1\n",
       "53.1186092 -27.7708952 53.1184645  -27.770902 ... 53.1185194 -27.7709408     1\n",
       "53.1323917 -27.7706231  53.132246 -27.7706299 ... 53.1323168 -27.7706709     1\n",
       "53.1396256 -27.7664669 53.1394794 -27.7664739 ... 53.1395244 -27.7665096     1\n",
       "53.1347801 -27.7643805 53.1346342 -27.7643875 ... 53.1346403  -27.764405     1\n",
       "       ...         ...        ...         ... ...        ...         ...   ...\n",
       "53.0926104  -27.762423 53.0924675 -27.7624301 ...  53.092537  -27.762472     1\n",
       "53.1124962 -27.7595805  53.112352 -27.7595877 ...  53.112367    -27.7596     1\n",
       "53.1100599 -27.7554685 53.1099159 -27.7554758 ...  53.109972  -27.755517     1\n",
       "53.0952701  -27.760587 53.0951271 -27.7605941 ...  53.095171  -27.760609     1\n",
       "53.1054653 -27.7234469 53.1053215 -27.7234551 ...  53.105382  -27.723466     1\n",
       "53.1421386 -27.7686691 53.1419921  -27.768676 ... 53.1420288 -27.7686882     1\n",
       " 53.146917 -27.7695696 53.1467701 -27.7695764 ... 53.1468811 -27.7695847     1\n",
       "53.1107134 -27.7553612 53.1105694 -27.7553685 ...  53.110702 -27.7553756     1\n",
       "53.1127699 -27.7516175 53.1126257 -27.7516249 ... 53.1127103 -27.7516449     1\n",
       "53.1385672 -27.7703344  53.138421 -27.7703412 ... 53.1385404 -27.7703556     1"
      ]
     },
     "execution_count": 9,
     "metadata": {},
     "output_type": "execute_result"
    }
   ],
   "source": [
    "output_table"
   ]
  },
  {
   "cell_type": "code",
   "execution_count": 10,
   "id": "c1ef6fdd-f9ab-4683-a109-d9b11d2b39ba",
   "metadata": {},
   "outputs": [],
   "source": [
    "output_table.write('../../SharedData/NIRSpec/MEDIUM/medium_apertures.fits', overwrite=True)"
   ]
  },
  {
   "cell_type": "code",
   "execution_count": null,
   "id": "89705357-8787-42b1-91e7-a26894a2fd7c",
   "metadata": {},
   "outputs": [],
   "source": []
  }
 ],
 "metadata": {
  "kernelspec": {
   "display_name": "Python 3 (ipykernel)",
   "language": "python",
   "name": "python3"
  },
  "language_info": {
   "codemirror_mode": {
    "name": "ipython",
    "version": 3
   },
   "file_extension": ".py",
   "mimetype": "text/x-python",
   "name": "python",
   "nbconvert_exporter": "python",
   "pygments_lexer": "ipython3",
   "version": "3.11.0"
  }
 },
 "nbformat": 4,
 "nbformat_minor": 5
}
