{
 "cells": [
  {
   "cell_type": "markdown",
   "id": "8bccdc4a-29b2-4e6b-ac12-9542fb81b0eb",
   "metadata": {},
   "source": [
    "This notebook is a template to prepare the input aperture corners for apodised photometry. This means you will likely need to adapt the code for your own purposes.\n",
    "\n",
    "You will need to provide a table of apertures with columns \"RA_i\", \"Dec_i\" in degrees for each ith corner of the aperture, as well as a column with the source \"ID\". If multiple observations are made for each ID, you can optionally only list the ID in the first instance, provided each observation is grouped together.\n",
    "\n",
    "You will also need to provide a table of each source with \"RA\", \"Dec\" and \"ID\" columns.\n",
    "\n",
    "You may find commands like \":%s/\\<search\\>/\\<replace\\>/g\" in Vim or \"esc+x; string-replace; \\<search\\>; \\<replace\\>\" in eMACS useful in preparing these files."
   ]
  },
  {
   "cell_type": "code",
   "execution_count": 12,
   "id": "2cf7c840-39ed-4616-a7df-43cb42f2d523",
   "metadata": {},
   "outputs": [
    {
     "name": "stdout",
     "output_type": "stream",
     "text": [
      "Preparing environment...\n",
      "Done.\n"
     ]
    }
   ],
   "source": [
    "print(\"Preparing environment...\")\n",
    "\n",
    "import astropy.table as tbl\n",
    "import numpy as np\n",
    "\n",
    "print(\"Done.\")"
   ]
  },
  {
   "cell_type": "code",
   "execution_count": 28,
   "id": "28cea049-be08-43dd-adfa-f4f21ac707be",
   "metadata": {
    "tags": []
   },
   "outputs": [],
   "source": [
    "aperture_table = tbl.Table.read(\n",
    "    \"../../SharedData/NIRSpec/MEDIUM/ds9_slit_regions.dat\", format=\"ascii.csv\"\n",
    ")\n",
    "source_table = tbl.Table.read(\n",
    "    \"../../SharedData/NIRSpec/MEDIUM/ds9_targ_regions.dat\", format=\"ascii.csv\"\n",
    ")\n",
    "for x in range(0, len(aperture_table), 5):\n",
    "    for y in range(1, 5, 1):\n",
    "        aperture_table[\"ID\"][x+y] = aperture_table[\"ID\"][x]\n",
    "output_table = tbl.join(aperture_table, source_table, keys=\"ID\")"
   ]
  },
  {
   "cell_type": "code",
   "execution_count": 29,
   "id": "c43d7468-8776-43c2-ba5e-a15dd49a530f",
   "metadata": {},
   "outputs": [
    {
     "data": {
      "text/html": [
       "<div><i>Table length=715</i>\n",
       "<table id=\"table2270232193312\" class=\"table-striped table-bordered table-condensed\">\n",
       "<thead><tr><th>RA_1</th><th>Dec_1</th><th>RA_2</th><th>Dec_2</th><th>RA_3</th><th>Dec_3</th><th>RA_4</th><th>Dec_4</th><th>ID</th><th>Source_RA</th><th>Source_Dec</th></tr></thead>\n",
       "<thead><tr><th>float64</th><th>float64</th><th>float64</th><th>float64</th><th>float64</th><th>float64</th><th>float64</th><th>float64</th><th>int32</th><th>float64</th><th>float64</th></tr></thead>\n",
       "<tr><td>53.1465811</td><td>-27.7695853</td><td>53.1464343</td><td>-27.7695921</td><td>53.1464384</td><td>-27.7696477</td><td>53.1465852</td><td>-27.7696408</td><td>4028</td><td>53.1461433</td><td>-27.7696165</td></tr>\n",
       "<tr><td>53.1462454</td><td>-27.769601</td><td>53.1460986</td><td>-27.7696078</td><td>53.1461027</td><td>-27.7696633</td><td>53.1462495</td><td>-27.7696565</td><td>4028</td><td>53.1461433</td><td>-27.7696165</td></tr>\n",
       "<tr><td>53.1460775</td><td>-27.7696088</td><td>53.1459308</td><td>-27.7696157</td><td>53.1459349</td><td>-27.7696712</td><td>53.1460816</td><td>-27.7696643</td><td>4028</td><td>53.1461433</td><td>-27.7696165</td></tr>\n",
       "<tr><td>53.1459097</td><td>-27.7696166</td><td>53.1457629</td><td>-27.7696235</td><td>53.145767</td><td>-27.769679</td><td>53.1459138</td><td>-27.7696722</td><td>4028</td><td>53.1461433</td><td>-27.7696165</td></tr>\n",
       "<tr><td>53.1464133</td><td>-27.7695931</td><td>53.1462665</td><td>-27.7696</td><td>53.1462706</td><td>-27.7696555</td><td>53.1464174</td><td>-27.7696486</td><td>4028</td><td>53.1461433</td><td>-27.7696165</td></tr>\n",
       "<tr><td>53.1537348</td><td>-27.7704539</td><td>53.1535874</td><td>-27.7704607</td><td>53.1535915</td><td>-27.7705163</td><td>53.1537389</td><td>-27.7705095</td><td>4081</td><td>53.1540398</td><td>-27.7704472</td></tr>\n",
       "<tr><td>53.1544091</td><td>-27.7704227</td><td>53.1542617</td><td>-27.7704295</td><td>53.1542658</td><td>-27.7704852</td><td>53.1544132</td><td>-27.7704783</td><td>4081</td><td>53.1540398</td><td>-27.7704472</td></tr>\n",
       "<tr><td>53.1542405</td><td>-27.7704305</td><td>53.1540931</td><td>-27.7704373</td><td>53.1540972</td><td>-27.7704929</td><td>53.1542446</td><td>-27.7704861</td><td>4081</td><td>53.1540398</td><td>-27.7704472</td></tr>\n",
       "<tr><td>53.1540719</td><td>-27.7704383</td><td>53.1539245</td><td>-27.7704451</td><td>53.1539286</td><td>-27.7705007</td><td>53.1540761</td><td>-27.7704939</td><td>4081</td><td>53.1540398</td><td>-27.7704472</td></tr>\n",
       "<tr><td>53.1539034</td><td>-27.7704461</td><td>53.153756</td><td>-27.7704529</td><td>53.1537601</td><td>-27.7705085</td><td>53.1539075</td><td>-27.7705017</td><td>4081</td><td>53.1540398</td><td>-27.7704472</td></tr>\n",
       "<tr><td>...</td><td>...</td><td>...</td><td>...</td><td>...</td><td>...</td><td>...</td><td>...</td><td>...</td><td>...</td><td>...</td></tr>\n",
       "<tr><td>53.1124403</td><td>-27.7516344</td><td>53.1122961</td><td>-27.7516418</td><td>53.1122999</td><td>-27.7516968</td><td>53.112444</td><td>-27.7516894</td><td>107512</td><td>53.1127103</td><td>-27.7516449</td></tr>\n",
       "<tr><td>53.1129348</td><td>-27.7516091</td><td>53.1127906</td><td>-27.7516164</td><td>53.1127944</td><td>-27.7516714</td><td>53.1129386</td><td>-27.7516641</td><td>107512</td><td>53.1127103</td><td>-27.7516449</td></tr>\n",
       "<tr><td>53.1130997</td><td>-27.7516006</td><td>53.1129555</td><td>-27.751608</td><td>53.1129592</td><td>-27.751663</td><td>53.1131035</td><td>-27.7516556</td><td>107512</td><td>53.1127103</td><td>-27.7516449</td></tr>\n",
       "<tr><td>53.1127699</td><td>-27.7516175</td><td>53.1126257</td><td>-27.7516249</td><td>53.1126295</td><td>-27.7516799</td><td>53.1127737</td><td>-27.7516725</td><td>107512</td><td>53.1127103</td><td>-27.7516449</td></tr>\n",
       "<tr><td>53.1126051</td><td>-27.7516259</td><td>53.1124609</td><td>-27.7516333</td><td>53.1124647</td><td>-27.7516883</td><td>53.1126089</td><td>-27.7516809</td><td>107512</td><td>53.1127103</td><td>-27.7516449</td></tr>\n",
       "<tr><td>53.1384</td><td>-27.7703422</td><td>53.1382539</td><td>-27.770349</td><td>53.138258</td><td>-27.7704044</td><td>53.1384041</td><td>-27.7703976</td><td>107523</td><td>53.1385404</td><td>-27.7703556</td></tr>\n",
       "<tr><td>53.1382329</td><td>-27.77035</td><td>53.1380867</td><td>-27.7703568</td><td>53.1380908</td><td>-27.7704122</td><td>53.138237</td><td>-27.7704054</td><td>107523</td><td>53.1385404</td><td>-27.7703556</td></tr>\n",
       "<tr><td>53.1385672</td><td>-27.7703344</td><td>53.138421</td><td>-27.7703412</td><td>53.1384251</td><td>-27.7703966</td><td>53.1385713</td><td>-27.7703898</td><td>107523</td><td>53.1385404</td><td>-27.7703556</td></tr>\n",
       "<tr><td>53.1389016</td><td>-27.7703187</td><td>53.1387554</td><td>-27.7703256</td><td>53.1387595</td><td>-27.770381</td><td>53.1389057</td><td>-27.7703742</td><td>107523</td><td>53.1385404</td><td>-27.7703556</td></tr>\n",
       "<tr><td>53.1387344</td><td>-27.7703265</td><td>53.1385882</td><td>-27.7703334</td><td>53.1385923</td><td>-27.7703888</td><td>53.1387385</td><td>-27.770382</td><td>107523</td><td>53.1385404</td><td>-27.7703556</td></tr>\n",
       "</table></div>"
      ],
      "text/plain": [
       "<Table length=715>\n",
       "   RA_1       Dec_1       RA_2       Dec_2    ...   ID   Source_RA   Source_Dec\n",
       " float64     float64    float64     float64   ... int32   float64     float64  \n",
       "---------- ----------- ---------- ----------- ... ------ ---------- -----------\n",
       "53.1465811 -27.7695853 53.1464343 -27.7695921 ...   4028 53.1461433 -27.7696165\n",
       "53.1462454  -27.769601 53.1460986 -27.7696078 ...   4028 53.1461433 -27.7696165\n",
       "53.1460775 -27.7696088 53.1459308 -27.7696157 ...   4028 53.1461433 -27.7696165\n",
       "53.1459097 -27.7696166 53.1457629 -27.7696235 ...   4028 53.1461433 -27.7696165\n",
       "53.1464133 -27.7695931 53.1462665    -27.7696 ...   4028 53.1461433 -27.7696165\n",
       "53.1537348 -27.7704539 53.1535874 -27.7704607 ...   4081 53.1540398 -27.7704472\n",
       "53.1544091 -27.7704227 53.1542617 -27.7704295 ...   4081 53.1540398 -27.7704472\n",
       "53.1542405 -27.7704305 53.1540931 -27.7704373 ...   4081 53.1540398 -27.7704472\n",
       "53.1540719 -27.7704383 53.1539245 -27.7704451 ...   4081 53.1540398 -27.7704472\n",
       "53.1539034 -27.7704461  53.153756 -27.7704529 ...   4081 53.1540398 -27.7704472\n",
       "       ...         ...        ...         ... ...    ...        ...         ...\n",
       "53.1124403 -27.7516344 53.1122961 -27.7516418 ... 107512 53.1127103 -27.7516449\n",
       "53.1129348 -27.7516091 53.1127906 -27.7516164 ... 107512 53.1127103 -27.7516449\n",
       "53.1130997 -27.7516006 53.1129555  -27.751608 ... 107512 53.1127103 -27.7516449\n",
       "53.1127699 -27.7516175 53.1126257 -27.7516249 ... 107512 53.1127103 -27.7516449\n",
       "53.1126051 -27.7516259 53.1124609 -27.7516333 ... 107512 53.1127103 -27.7516449\n",
       "   53.1384 -27.7703422 53.1382539  -27.770349 ... 107523 53.1385404 -27.7703556\n",
       "53.1382329   -27.77035 53.1380867 -27.7703568 ... 107523 53.1385404 -27.7703556\n",
       "53.1385672 -27.7703344  53.138421 -27.7703412 ... 107523 53.1385404 -27.7703556\n",
       "53.1389016 -27.7703187 53.1387554 -27.7703256 ... 107523 53.1385404 -27.7703556\n",
       "53.1387344 -27.7703265 53.1385882 -27.7703334 ... 107523 53.1385404 -27.7703556"
      ]
     },
     "execution_count": 29,
     "metadata": {},
     "output_type": "execute_result"
    }
   ],
   "source": [
    "output_table"
   ]
  },
  {
   "cell_type": "code",
   "execution_count": 32,
   "id": "c1ef6fdd-f9ab-4683-a109-d9b11d2b39ba",
   "metadata": {},
   "outputs": [],
   "source": [
    "output_table.write('../../SharedData/NIRSpec/MEDIUM/medium_apertures.fits', overwrite=True)"
   ]
  },
  {
   "cell_type": "code",
   "execution_count": null,
   "id": "fc8a5a77-d7ff-4e89-995e-5a9c08102ded",
   "metadata": {},
   "outputs": [],
   "source": []
  }
 ],
 "metadata": {
  "kernelspec": {
   "display_name": "Python 3 (ipykernel)",
   "language": "python",
   "name": "python3"
  },
  "language_info": {
   "codemirror_mode": {
    "name": "ipython",
    "version": 3
   },
   "file_extension": ".py",
   "mimetype": "text/x-python",
   "name": "python",
   "nbconvert_exporter": "python",
   "pygments_lexer": "ipython3",
   "version": "3.10.7"
  }
 },
 "nbformat": 4,
 "nbformat_minor": 5
}
