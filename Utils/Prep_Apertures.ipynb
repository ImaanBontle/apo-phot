{
 "cells": [
  {
   "cell_type": "markdown",
   "id": "8bccdc4a-29b2-4e6b-ac12-9542fb81b0eb",
   "metadata": {},
   "source": [
    "This notebook is a template to prepare the input aperture corners for apodised photometry. This means you will likely need to adapt the code for your own purposes.\n",
    "\n",
    "You will need to provide a table of apertures with columns \"RA_i\", \"Dec_i\" in degrees for each ith corner of the aperture, as well as a column with the source \"ID\". If multiple observations are made for each ID, you can optionally only list the ID in the first instance, provided each observation is grouped together.\n",
    "\n",
    "You will also need to provide a table of each source with \"RA\", \"Dec\" and \"ID\" columns.\n",
    "\n",
    "You may find commands like \":%s/\\<search\\>/\\<replace\\>/g\" in Vim or \"esc+x; string-replace; \\<search\\>; \\<replace\\>\" in eMACS useful in preparing these files."
   ]
  },
  {
   "cell_type": "code",
   "execution_count": null,
   "id": "2cf7c840-39ed-4616-a7df-43cb42f2d523",
   "metadata": {},
   "outputs": [],
   "source": [
    "print(\"Preparing environment...\")\n",
    "\n",
    "import astropy.table as tbl\n",
    "import numpy as np\n",
    "import platform\n",
    "\n",
    "print(\"Done.\")"
   ]
  },
  {
   "cell_type": "code",
   "execution_count": null,
   "id": "28cea049-be08-43dd-adfa-f4f21ac707be",
   "metadata": {
    "tags": []
   },
   "outputs": [],
   "source": [
    "def GetDirStruct():\n",
    "    match platform.system():\n",
    "        case \"Windows\":\n",
    "            dirPrefix = \"D:/\"\n",
    "        case \"Linux\" | \"Ubuntu\":\n",
    "            dirPrefix = \"/mnt/d/\"\n",
    "        case \"macOS\" | \"Darwin\":\n",
    "            dirPrefix = \"/Volumes/Storage/\"\n",
    "        case _:\n",
    "            raise Exception(f\"OS not recognised: \\\"{platform.system()}\\\". Please define a custom switch inside GetDirStruct().\")\n",
    "    return dirPrefix\n",
    "\n",
    "sourceDir = \"HST_Deep/for_emma_v2a_clean2/prism_trial_01_v2a_clean2/m_check_output/triple_1/\"\n",
    "projDir = \"NIRSpec/\"\n",
    "outputDir = \"Deep/\"\n",
    "Pointings = [7, 8, 13]\n",
    "output_list = []\n",
    "\n",
    "dirPrefix = GetDirStruct()\n",
    "\n",
    "for pointing in Pointings:\n",
    "    aperture_table = tbl.Table.read(\n",
    "        f\"{dirPrefix}/Astrometry/{sourceDir}/pointing_{pointing}/ds9_slit_regions.txt\", format=\"ascii\"\n",
    "    )\n",
    "    source_table = tbl.Table.read(\n",
    "        f\"{dirPrefix}/Astrometry/{sourceDir}/pointing_{pointing}/ds9_targ_regions.txt\", format=\"ascii\"\n",
    "    )\n",
    "    output_table = tbl.join(aperture_table, source_table, keys=\"ID\")\n",
    "    output_table.add_column(pointing, name=\"Visit\")\n",
    "    output_list += [output_table]\n",
    "output_table = tbl.vstack(output_list).group_by(\"ID\")"
   ]
  },
  {
   "cell_type": "code",
   "execution_count": null,
   "id": "c4157145-2169-49bc-b836-de7ac3bae300",
   "metadata": {},
   "outputs": [],
   "source": [
    "output_table"
   ]
  },
  {
   "cell_type": "code",
   "execution_count": null,
   "id": "c1ef6fdd-f9ab-4683-a109-d9b11d2b39ba",
   "metadata": {},
   "outputs": [],
   "source": [
    "output_table.write(f'{dirPrefix}/{projDir}/{outputDir}/deep_apertures.fits', overwrite=True)"
   ]
  },
  {
   "cell_type": "code",
   "execution_count": null,
   "id": "89705357-8787-42b1-91e7-a26894a2fd7c",
   "metadata": {},
   "outputs": [],
   "source": []
  }
 ],
 "metadata": {
  "kernelspec": {
   "display_name": "Python 3 (ipykernel)",
   "language": "python",
   "name": "python3"
  },
  "language_info": {
   "codemirror_mode": {
    "name": "ipython",
    "version": 3
   },
   "file_extension": ".py",
   "mimetype": "text/x-python",
   "name": "python",
   "nbconvert_exporter": "python",
   "pygments_lexer": "ipython3",
   "version": "3.10.6"
  }
 },
 "nbformat": 4,
 "nbformat_minor": 5
}
