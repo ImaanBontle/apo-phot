{
 "cells": [
  {
   "cell_type": "markdown",
   "id": "8bccdc4a-29b2-4e6b-ac12-9542fb81b0eb",
   "metadata": {},
   "source": [
    "This notebook is a template to prepare the input aperture corners for apodised photometry. This means you will likely need to adapt the code for your own purposes.\n",
    "\n",
    "You will need to provide a table of apertures with columns \"RA_i\", \"Dec_i\" in degrees for each ith corner of the aperture, as well as a column with the source \"ID\". If multiple observations are made for each ID, you can optionally only list the ID in the first instance, provided each observation is grouped together.\n",
    "\n",
    "You will also need to provide a table of each source with \"RA\", \"Dec\" and \"ID\" columns.\n",
    "\n",
    "You may find commands like \":%s/\\<search\\>/\\<replace\\>/g\" in Vim or \"esc+x; string-replace; \\<search\\>; \\<replace\\>\" in eMACS useful in preparing these files."
   ]
  },
  {
   "cell_type": "code",
   "execution_count": 5,
   "id": "2cf7c840-39ed-4616-a7df-43cb42f2d523",
   "metadata": {},
   "outputs": [
    {
     "name": "stdout",
     "output_type": "stream",
     "text": [
      "Preparing environment...\n",
      "Done.\n"
     ]
    }
   ],
   "source": [
    "print(\"Preparing environment...\")\n",
    "\n",
    "import astropy.table as tbl\n",
    "import numpy as np\n",
    "\n",
    "print(\"Done.\")"
   ]
  },
  {
   "cell_type": "code",
   "execution_count": 6,
   "id": "28cea049-be08-43dd-adfa-f4f21ac707be",
   "metadata": {
    "tags": []
   },
   "outputs": [],
   "source": [
    "Pointings = [7, 8, 13]\n",
    "output_list = []\n",
    "for pointing in Pointings:\n",
    "    aperture_table = tbl.Table.read(\n",
    "        f\"../../SharedData/NIRSpec/Deep/pointing_{pointing}/ds9_slit_regions.dat\", format=\"ascii.csv\"\n",
    "    )\n",
    "    source_table = tbl.Table.read(\n",
    "        f\"../../SharedData/NIRSpec/Deep/pointing_{pointing}/ds9_targ_regions.dat\", format=\"ascii.csv\"\n",
    "    )\n",
    "    output_table = tbl.join(aperture_table, source_table, keys=\"ID\")\n",
    "    output_table.add_column(pointing, name=\"Visit\")\n",
    "    output_list += [output_table]\n",
    "output_table = tbl.vstack(output_list).group_by(\"ID\")"
   ]
  },
  {
   "cell_type": "code",
   "execution_count": 8,
   "id": "dfbd2c62-8e97-4a5e-a389-f636f8055c1a",
   "metadata": {},
   "outputs": [],
   "source": [
    "output_table.add_index(\"ID\")"
   ]
  },
  {
   "cell_type": "code",
   "execution_count": 15,
   "id": "c4157145-2169-49bc-b836-de7ac3bae300",
   "metadata": {},
   "outputs": [
    {
     "data": {
      "text/html": [
       "<div><i>Table length=462</i>\n",
       "<table id=\"table2608080534480\" class=\"table-striped table-bordered table-condensed\">\n",
       "<thead><tr><th>RA_1</th><th>Dec_1</th><th>RA_2</th><th>Dec_2</th><th>RA_3</th><th>Dec_3</th><th>RA_4</th><th>Dec_4</th><th>ID</th><th>Source_RA</th><th>Source_Dec</th><th>Visit</th></tr></thead>\n",
       "<thead><tr><th>float64</th><th>float64</th><th>float64</th><th>float64</th><th>float64</th><th>float64</th><th>float64</th><th>float64</th><th>int32</th><th>float64</th><th>float64</th><th>int32</th></tr></thead>\n",
       "<tr><td>53.1635435</td><td>-27.8244393</td><td>53.1633981</td><td>-27.8244166</td><td>53.163388</td><td>-27.8244716</td><td>53.1635334</td><td>-27.8244943</td><td>2178</td><td>53.1634961</td><td>-27.8244449</td><td>7</td></tr>\n",
       "<tr><td>53.1635418</td><td>-27.8244381</td><td>53.1633965</td><td>-27.8244155</td><td>53.1633864</td><td>-27.8244705</td><td>53.1635317</td><td>-27.8244932</td><td>2178</td><td>53.1634961</td><td>-27.8244449</td><td>13</td></tr>\n",
       "<tr><td>53.1573495</td><td>-27.8237783</td><td>53.1572046</td><td>-27.8237557</td><td>53.1571945</td><td>-27.8238106</td><td>53.1573393</td><td>-27.8238332</td><td>2332</td><td>53.1572367</td><td>-27.8237743</td><td>7</td></tr>\n",
       "<tr><td>53.1573487</td><td>-27.8237794</td><td>53.1572038</td><td>-27.8237568</td><td>53.1571937</td><td>-27.8238117</td><td>53.1573386</td><td>-27.8238343</td><td>2332</td><td>53.1572367</td><td>-27.8237743</td><td>8</td></tr>\n",
       "<tr><td>53.1649648</td><td>-27.8232125</td><td>53.1648193</td><td>-27.8231899</td><td>53.1648092</td><td>-27.8232449</td><td>53.1649546</td><td>-27.8232675</td><td>2430</td><td>53.1648972</td><td>-27.8232244</td><td>13</td></tr>\n",
       "<tr><td>53.1617948</td><td>-27.8227974</td><td>53.1616496</td><td>-27.8227748</td><td>53.1616395</td><td>-27.8228298</td><td>53.1617847</td><td>-27.8228524</td><td>2528</td><td>53.1617525</td><td>-27.8228098</td><td>8</td></tr>\n",
       "<tr><td>53.1545731</td><td>-27.8222067</td><td>53.1544284</td><td>-27.8221842</td><td>53.1544183</td><td>-27.8222391</td><td>53.154563</td><td>-27.8222616</td><td>2651</td><td>53.1545657</td><td>-27.8222115</td><td>8</td></tr>\n",
       "<tr><td>53.146268</td><td>-27.8221281</td><td>53.146124</td><td>-27.8221057</td><td>53.1461139</td><td>-27.8221605</td><td>53.1462579</td><td>-27.8221829</td><td>2671</td><td>53.1461551</td><td>-27.8221255</td><td>13</td></tr>\n",
       "<tr><td>53.1664722</td><td>-27.8215437</td><td>53.1663267</td><td>-27.8215211</td><td>53.1663165</td><td>-27.8215761</td><td>53.1664621</td><td>-27.8215987</td><td>2773</td><td>53.1663378</td><td>-27.8215552</td><td>7</td></tr>\n",
       "<tr><td>53.1664707</td><td>-27.8215427</td><td>53.1663251</td><td>-27.8215201</td><td>53.166315</td><td>-27.8215751</td><td>53.1664605</td><td>-27.8215977</td><td>2773</td><td>53.1663378</td><td>-27.8215552</td><td>13</td></tr>\n",
       "<tr><td>...</td><td>...</td><td>...</td><td>...</td><td>...</td><td>...</td><td>...</td><td>...</td><td>...</td><td>...</td><td>...</td><td>...</td></tr>\n",
       "<tr><td>53.1589098</td><td>-27.8245536</td><td>53.1587648</td><td>-27.824531</td><td>53.1587547</td><td>-27.8245859</td><td>53.1588997</td><td>-27.8246085</td><td>10106241</td><td>53.1588173</td><td>-27.8245487</td><td>13</td></tr>\n",
       "<tr><td>53.1664395</td><td>-27.8245111</td><td>53.166294</td><td>-27.8244884</td><td>53.1662838</td><td>-27.8245434</td><td>53.1664294</td><td>-27.8245661</td><td>10106242</td><td>53.1663284</td><td>-27.8245201</td><td>8</td></tr>\n",
       "<tr><td>53.1208813</td><td>-27.7980082</td><td>53.1207394</td><td>-27.7979868</td><td>53.1207291</td><td>-27.798041</td><td>53.120871</td><td>-27.7980624</td><td>10106443</td><td>53.1207542</td><td>-27.7980213</td><td>7</td></tr>\n",
       "<tr><td>53.1208772</td><td>-27.7980088</td><td>53.1207354</td><td>-27.7979874</td><td>53.1207251</td><td>-27.7980417</td><td>53.120867</td><td>-27.7980631</td><td>10106443</td><td>53.1207542</td><td>-27.7980213</td><td>8</td></tr>\n",
       "<tr><td>53.1640896</td><td>-27.7995361</td><td>53.1639445</td><td>-27.7995143</td><td>53.1639341</td><td>-27.7995691</td><td>53.1640792</td><td>-27.7995908</td><td>10106979</td><td>53.1639754</td><td>-27.7995717</td><td>8</td></tr>\n",
       "<tr><td>53.1374229</td><td>-27.7625855</td><td>53.1372801</td><td>-27.762565</td><td>53.1372694</td><td>-27.7626195</td><td>53.1374122</td><td>-27.76264</td><td>10107514</td><td>53.1373793</td><td>-27.7625938</td><td>7</td></tr>\n",
       "<tr><td>53.1294894</td><td>-27.7603162</td><td>53.1293471</td><td>-27.7602957</td><td>53.1293364</td><td>-27.7603501</td><td>53.1294787</td><td>-27.7603706</td><td>10107531</td><td>53.1294416</td><td>-27.7603166</td><td>8</td></tr>\n",
       "<tr><td>53.1105936</td><td>-27.8146328</td><td>53.1104522</td><td>-27.814611</td><td>53.110442</td><td>-27.8146654</td><td>53.1105835</td><td>-27.8146872</td><td>10110675</td><td>53.110566</td><td>-27.814633</td><td>7</td></tr>\n",
       "<tr><td>53.1105889</td><td>-27.8146337</td><td>53.1104475</td><td>-27.8146119</td><td>53.1104373</td><td>-27.8146663</td><td>53.1105788</td><td>-27.8146881</td><td>10110675</td><td>53.110566</td><td>-27.814633</td><td>8</td></tr>\n",
       "<tr><td>53.110592</td><td>-27.8146342</td><td>53.1104506</td><td>-27.8146124</td><td>53.1104404</td><td>-27.8146668</td><td>53.1105819</td><td>-27.8146886</td><td>10110675</td><td>53.110566</td><td>-27.814633</td><td>13</td></tr>\n",
       "</table></div>"
      ],
      "text/plain": [
       "<Table length=462>\n",
       "   RA_1       Dec_1       RA_2       Dec_2    ... Source_RA   Source_Dec Visit\n",
       " float64     float64    float64     float64   ...  float64     float64   int32\n",
       "---------- ----------- ---------- ----------- ... ---------- ----------- -----\n",
       "53.1635435 -27.8244393 53.1633981 -27.8244166 ... 53.1634961 -27.8244449     7\n",
       "53.1635418 -27.8244381 53.1633965 -27.8244155 ... 53.1634961 -27.8244449    13\n",
       "53.1573495 -27.8237783 53.1572046 -27.8237557 ... 53.1572367 -27.8237743     7\n",
       "53.1573487 -27.8237794 53.1572038 -27.8237568 ... 53.1572367 -27.8237743     8\n",
       "53.1649648 -27.8232125 53.1648193 -27.8231899 ... 53.1648972 -27.8232244    13\n",
       "53.1617948 -27.8227974 53.1616496 -27.8227748 ... 53.1617525 -27.8228098     8\n",
       "53.1545731 -27.8222067 53.1544284 -27.8221842 ... 53.1545657 -27.8222115     8\n",
       " 53.146268 -27.8221281  53.146124 -27.8221057 ... 53.1461551 -27.8221255    13\n",
       "53.1664722 -27.8215437 53.1663267 -27.8215211 ... 53.1663378 -27.8215552     7\n",
       "53.1664707 -27.8215427 53.1663251 -27.8215201 ... 53.1663378 -27.8215552    13\n",
       "       ...         ...        ...         ... ...        ...         ...   ...\n",
       "53.1589098 -27.8245536 53.1587648  -27.824531 ... 53.1588173 -27.8245487    13\n",
       "53.1664395 -27.8245111  53.166294 -27.8244884 ... 53.1663284 -27.8245201     8\n",
       "53.1208813 -27.7980082 53.1207394 -27.7979868 ... 53.1207542 -27.7980213     7\n",
       "53.1208772 -27.7980088 53.1207354 -27.7979874 ... 53.1207542 -27.7980213     8\n",
       "53.1640896 -27.7995361 53.1639445 -27.7995143 ... 53.1639754 -27.7995717     8\n",
       "53.1374229 -27.7625855 53.1372801  -27.762565 ... 53.1373793 -27.7625938     7\n",
       "53.1294894 -27.7603162 53.1293471 -27.7602957 ... 53.1294416 -27.7603166     8\n",
       "53.1105936 -27.8146328 53.1104522  -27.814611 ...  53.110566  -27.814633     7\n",
       "53.1105889 -27.8146337 53.1104475 -27.8146119 ...  53.110566  -27.814633     8\n",
       " 53.110592 -27.8146342 53.1104506 -27.8146124 ...  53.110566  -27.814633    13"
      ]
     },
     "execution_count": 15,
     "metadata": {},
     "output_type": "execute_result"
    }
   ],
   "source": [
    "output_table"
   ]
  },
  {
   "cell_type": "code",
   "execution_count": 21,
   "id": "26a25982-7a5a-432a-852a-72ac81535a95",
   "metadata": {},
   "outputs": [
    {
     "data": {
      "text/plain": [
       "array([[8, 9]], dtype=int64)"
      ]
     },
     "execution_count": 21,
     "metadata": {},
     "output_type": "execute_result"
    }
   ],
   "source": [
    "np.array([output_table.loc_indices[2773]])"
   ]
  },
  {
   "cell_type": "code",
   "execution_count": 4,
   "id": "c1ef6fdd-f9ab-4683-a109-d9b11d2b39ba",
   "metadata": {},
   "outputs": [],
   "source": [
    "output_table.write('../../SharedData/NIRSpec/Deep/deep_apertures.fits', overwrite=True)"
   ]
  },
  {
   "cell_type": "code",
   "execution_count": null,
   "id": "89705357-8787-42b1-91e7-a26894a2fd7c",
   "metadata": {},
   "outputs": [],
   "source": []
  }
 ],
 "metadata": {
  "kernelspec": {
   "display_name": "Python 3 (ipykernel)",
   "language": "python",
   "name": "python3"
  },
  "language_info": {
   "codemirror_mode": {
    "name": "ipython",
    "version": 3
   },
   "file_extension": ".py",
   "mimetype": "text/x-python",
   "name": "python",
   "nbconvert_exporter": "python",
   "pygments_lexer": "ipython3",
   "version": "3.11.0"
  }
 },
 "nbformat": 4,
 "nbformat_minor": 5
}
