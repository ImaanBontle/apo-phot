{
 "cells": [
  {
   "cell_type": "code",
   "execution_count": 1,
   "id": "b041040d-3945-45b5-a057-185a0eb4292c",
   "metadata": {},
   "outputs": [
    {
     "name": "stdout",
     "output_type": "stream",
     "text": [
      "Preparing environment...\n",
      "Done.\n"
     ]
    }
   ],
   "source": [
    "print(\"Preparing environment...\")\n",
    "\n",
    "import platform\n",
    "\n",
    "import matplotlib.pyplot as plt\n",
    "import numpy as np\n",
    "import scipy as sp\n",
    "from astropy import table as tbl\n",
    "from astropy import units as u\n",
    "from astropy.io import fits\n",
    "from scipy import constants as c\n",
    "from scipy import interpolate\n",
    "from tqdm.auto import tqdm\n",
    "\n",
    "# %matplotlib widget\n",
    "\n",
    "print(\"Done.\")"
   ]
  },
  {
   "cell_type": "code",
   "execution_count": 80,
   "id": "9d15e82a-4c21-4acf-a9d1-84a20a4516de",
   "metadata": {},
   "outputs": [],
   "source": [
    "### All functions\n",
    "\n",
    "# Function to use appropriate OS directory structure\n",
    "def GetDirStruct():\n",
    "    match platform.system():\n",
    "        case \"Windows\":\n",
    "            dirPrefix = \"D:/\"\n",
    "        case \"Linux\" | \"Ubuntu\":\n",
    "            dirPrefix = \"/mnt/d/\"\n",
    "        case \"macOS\" | \"Darwin\":\n",
    "            dirPrefix = \"/Volumes/Storage/\"\n",
    "        case _:\n",
    "            raise Exception(f\"OS not recognised: \\\"{platform.system()}\\\". Please define a custom switch inside GetDirStruct().\")\n",
    "    return dirPrefix\n",
    "\n",
    "\n",
    "# Function to grab list of spectra in a directory\n",
    "def GetSpec():\n",
    "    dirPrefix = GetDirStruct()\n",
    "    specDir = dirPrefix + specFolder\n",
    "    specList = !bash -c \"ls {specDir}*1D.fits\"\n",
    "    specList = [file.split('/')[-1] for file in specList]\n",
    "    specNames = [file.split('_')[0] for file in specList]\n",
    "    return specDir, specList, specNames\n",
    "\n",
    "\n",
    "# Function to import files to dictionary\n",
    "def ImportSpec(specDir, specList, specNames):\n",
    "    specData = {}\n",
    "    for file, name in tqdm(zip(specList, specNames), desc=\"Importing spectra\", total=len(specList)):\n",
    "        specRaw = fits.open(specDir + file)\n",
    "        specFlux = specRaw[1].data * u.Jy\n",
    "        specWave = specRaw[9].data * u.m\n",
    "        specData[name] = tbl.QTable([specWave, specFlux], names=(\"Wavelength\", \"Flux\"))\n",
    "        specRaw.close()\n",
    "    return specData\n",
    "\n",
    "\n",
    "# Function to plot the spectra\n",
    "def PlotSpec(specData, specList, specNames):\n",
    "    !bash -c \"mkdir -p ../../Working_Directory/Apo_Phot_Utils/{outputFolder}plots\"\n",
    "    for file, name in tqdm(zip(specList, specNames), desc=\"Plotting galaxies\", total=len(specList)):\n",
    "        plt.plot(specData[name][\"Wavelength\"], specData[name][\"Flux\"])\n",
    "        plt.xscale('log')\n",
    "        plt.savefig(f\"../../Working_Directory/Apo_Phot_Utils/{outputFolder}plots/{name}.png\")\n",
    "        plt.close()\n",
    "    return\n",
    "\n",
    "# Function to grab list of filter curves\n",
    "def GetFilter():\n",
    "    dirPrefix = GetDirStruct()\n",
    "    filterDir = dirPrefix + filterFolder\n",
    "    filterList = !bash -c \"ls {filterDir}\"\n",
    "    filterList = [file.split('/')[-1] for file in filterList]\n",
    "    filterNames = [file.split('_')[0] for file in filterList]\n",
    "    return filterDir, filterList, filterNames\n",
    "\n",
    "# Function to import filters to a dictionary\n",
    "def ImportFilter(filterDir, filterList, filterNames):\n",
    "    filterData = {}\n",
    "    for file, name in tqdm(zip(filterList, filterNames), desc=\"Importing filters\", total=len(filterList)):\n",
    "        filterData[name] = tbl.QTable.read(filterDir + file, format=\"ascii\")\n",
    "        filterData[name][\"Microns\"].unit = u.um\n",
    "        filterData[name].rename_column(\"Microns\", \"Wavelength\")\n",
    "    return filterData\n",
    "\n",
    "# Function to grab list of photometry tables\n",
    "def GetPhot():\n",
    "    photList = !bash -c \"ls {photDir}*_summary.fits\"\n",
    "    photList = [file.split('/')[-1] for file in photList]\n",
    "    photNames = [file.split('_')[0] for file in photList]\n",
    "    return photList, photNames\n",
    "\n",
    "# Function to grab photometry files\n",
    "def ImportPhot(photList, photNames):\n",
    "    photData = {}\n",
    "    for file, name in tqdm(zip(photList, photNames), desc=\"Importing photometry\", total=len(photList)):\n",
    "        photData[name] = tbl.QTable.read(photDir + file)\n",
    "        photData[name].keep_columns([\"ID\", \"Actual Flux\", \"Flux Error\"])\n",
    "    return photData\n",
    "\n",
    "# Function to parse tables and set any rows with NaNs to zero, to avoid errors\n",
    "def RemoveNaNs(tableObj):\n",
    "    for col in tableObj.colnames:\n",
    "        for x in range(0, len(tableObj[col]), 1):\n",
    "            if np.isnan(tableObj[col][x]):\n",
    "                tableObj[col][x] = 0\n",
    "    return tableObj\n",
    "\n",
    "# Function to interpolate datapoints\n",
    "def InterpFunc(funcXs, funcYs):\n",
    "    funcCubic = interpolate.interp1d(funcXs, funcYs, kind='cubic')\n",
    "    return funcCubic\n",
    "\n",
    "# Function to find grid overlap for convolutions of target using input\n",
    "def FindGrid(targetGrid, inputGrid, inputData):\n",
    "    # Sort all arrays\n",
    "    idxSorted = np.argsort(inputGrid)\n",
    "    sortedGrid = inputGrid[idxSorted]\n",
    "    sortedTarget = np.sort(targetGrid)\n",
    "    # Find first value in input that overlaps with target\n",
    "    if sortedGrid[0] < sortedTarget[0]:\n",
    "        idxLeft = np.searchsorted(sortedGrid, sortedTarget[0], side=\"right\")\n",
    "        if inputGrid[idxLeft-1] == sortedTarget[0]:\n",
    "            idxLeft -= 1\n",
    "    else:\n",
    "        idxLeft = 0\n",
    "    # Find last value in input that overlaps with target\n",
    "    if sortedGrid[-1] > sortedTarget[-1]:   \n",
    "        idxRight = np.searchsorted(sortedGrid, sortedTarget[-1], side=\"left\")\n",
    "        if inputGrid[idxRight] != sortedTarget[-1]:\n",
    "            idxRight -= 1\n",
    "    else:\n",
    "        idxRight = -1\n",
    "    # Return the section of input that overlaps target\n",
    "    overlapGrid = sortedGrid[idxLeft:idxRight]\n",
    "    overlapData = inputData[idxSorted][idxLeft:idxRight]\n",
    "    return overlapGrid, overlapData\n",
    "\n",
    "# Function to manage convolution calculation from first array onto second array\n",
    "def ConvolveFunc(firstXs, firstYs, secondXs, secondYs):\n",
    "    # Interpolate datapoints of first array\n",
    "    firstInterp = InterpFunc(firstXs.to(u.m), firstYs)\n",
    "    # Find relevant convolution grid for first array based on second array\n",
    "    secondOverlapGrid, secondOverlapData = FindGrid(firstXs, secondXs, secondYs)\n",
    "    # Convolve first array onto second array's grid\n",
    "    firstConvolved = firstInterp(secondOverlapGrid.to(u.m))\n",
    "    return firstConvolved, secondOverlapGrid, secondOverlapData\n",
    "\n",
    "# Function to convolve spectra and filters onto same grid\n",
    "def MergeGrids(specFile, filterFile):\n",
    "    specWave = specFile[\"Wavelength\"]\n",
    "    specFlux = specFile[\"Flux\"]\n",
    "    filterWave = filterFile[\"Wavelength\"]\n",
    "    filterThrough = filterFile[\"Throughput\"]\n",
    "    # Find mutual overlaps\n",
    "    specConvolved, filterOverlapGrid, filterOverlapData = ConvolveFunc(specWave, specFlux, filterWave, filterThrough)\n",
    "    filterConvolved, specOverlapGrid, specOverlapData = ConvolveFunc(filterWave, filterThrough, specWave, specFlux)\n",
    "    # Save as tables\n",
    "    specTable = tbl.Table([np.append(specOverlapGrid, filterOverlapGrid).to(u.m), np.append(specOverlapData, specConvolved*u.Jy)], names=(\"Wavelength\", \"Flux\"))\n",
    "    specTable.sort(\"Wavelength\")\n",
    "    filterTable = tbl.Table([np.append(filterOverlapGrid, specOverlapGrid).to(u.m), np.append(filterOverlapData, filterConvolved)], names=(\"Wavelength\", \"Throughput\"))\n",
    "    filterTable.sort(\"Wavelength\")\n",
    "    # Join tables\n",
    "    mergedTable = tbl.join(specTable, filterTable, keys=\"Wavelength\")\n",
    "    return mergedTable\n",
    "\n",
    "# Function to shift flux to photon space\n",
    "def ShiftPhotonSpace(mergedTable):\n",
    "    mergedTable[\"Flux\"] *= mergedTable[\"Wavelength\"]\n",
    "    return mergedTable\n",
    "\n",
    "# Function to integrate two functions on the same grid\n",
    "def IntegFunc(firstYs, secondYs, commonGrid):\n",
    "    funcIntegrated = np.trapz(firstYs * secondYs, x=commonGrid)\n",
    "    return funcIntegrated\n",
    "\n",
    "# Function to normalise the throughput to the correct zero-point\n",
    "def NormaliseValue(specTable, specValue):\n",
    "    specThrough = specTable[\"Throughput\"]\n",
    "    specGrid = specTable[\"Wavelength\"]\n",
    "    # norm_ref = 10**(48.6/(-2.5)) # reference zero magnitude\n",
    "    normRef = 1 * u.Jy.to(u.W / ((u.m)**2 * u.Hz)) * 10**(-6) # reference flat-value in f_nu\n",
    "    normYs = normRef * c.c / specGrid**2 * specGrid # not squared, f_lambda in photon_space\n",
    "    normValue = IntegFunc(specThrough, normYs, specGrid)\n",
    "    specNormed = specValue / normValue\n",
    "    return specNormed\n",
    "\n",
    "# Function to calculate throughput on a merged grid\n",
    "def CalcThroughput(mergedTable):\n",
    "    mergedWave = mergedTable[\"Wavelength\"]\n",
    "    mergedFlux = mergedTable[\"Flux\"]\n",
    "    mergedThrough = mergedTable[\"Throughput\"]\n",
    "    mergedOut = IntegFunc(mergedFlux, mergedThrough, mergedWave)\n",
    "    return mergedOut\n",
    "\n",
    "# Function to find throughput given a spectrum and filter\n",
    "def FindThroughput(specFile, filterFile):\n",
    "    # Convolve onto the same grid\n",
    "    mergedTable = MergeGrids(specFile, filterFile)\n",
    "    # Shift to photon space\n",
    "    mergedTable = ShiftPhotonSpace(mergedTable)\n",
    "    # Integrate through the filter\n",
    "    return CalcThroughput(mergedTable), mergedTable\n",
    "\n",
    "def BalmerBreak(specFile, specName, redshiftFile):\n",
    "    # Define regions\n",
    "    balmerLeftRange = np.array([3500, 3650]) * u.angstrom\n",
    "    balmerRightRange = np.array([3800, 3950]) * u.angstrom\n",
    "    # Grab relevant grids\n",
    "    for row in range(0, len(redshiftFile), 1):\n",
    "        if int(specName) == int(redshiftFile[row][redshiftID]) and redshiftFile[row][redshiftZ] > 0:\n",
    "            redshiftFactor = 1 + redshiftFile[row][redshiftZ]\n",
    "            break\n",
    "        else:\n",
    "            redshiftFactor = np.nan\n",
    "    if redshiftFactor != 0:\n",
    "        balmerLeftWave, balmerLeftSpec = FindGrid(balmerLeftRange, specFile[\"Wavelength\"]/redshiftFactor, specFile[\"Flux\"]*redshiftFactor)\n",
    "        balmerRightWave, balmerRightSpec = FindGrid(balmerRightRange, specFile[\"Wavelength\"]/redshiftFactor, specFile[\"Flux\"]*redshiftFactor)\n",
    "        # Shift to photon space\n",
    "        balmerLeftSpec *= balmerLeftWave\n",
    "        balmerRightSpec *= balmerRightWave\n",
    "        # Calculate average flux\n",
    "        balmerLeftVal = np.sum(balmerLeftSpec) / len(balmerLeftSpec)\n",
    "        balmerRightVal = np.sum(balmerRightSpec) / len(balmerRightSpec)\n",
    "        # Calculate ratio\n",
    "        balmerRatio = balmerRightVal/balmerLeftVal\n",
    "        balmerVals = [balmerLeftVal, balmerRightVal, balmerRatio]\n",
    "    return balmerVals\n",
    "\n",
    "# Function to loop through filters and balmer breaks for one spectrum\n",
    "def HandleSpectrum(specFile, specName, filterData, redshiftFile):\n",
    "    specValues = []\n",
    "    for filter in filterData.values():\n",
    "        specValue, specTable = FindThroughput(specFile, filter)\n",
    "        specValues += [NormaliseValue(specTable, specValue)]\n",
    "    specValues += BalmerBreak(specFile, specName, redshiftFile)\n",
    "    return specValues\n",
    "\n",
    "# Function to loop through each spectrum and save values to a table\n",
    "def LoopSpectra(specData, filterData, redshiftFile):\n",
    "    !bash -c \"mkdir -p ../../Working_Directory/Apo_Phot_Utils/{outputFolder}\"\n",
    "    rows = []\n",
    "    for specName, specFull in tqdm(zip(specData.keys(), specData.values()), desc=\"Galaxies\", total=len(specData.keys())):\n",
    "        rows += [[int(specName)] + HandleSpectrum(specFull, specName, filterData, redshiftFile)]\n",
    "    names = [\"ID\"] + list(filterData.keys()) + [\"Balmer_left\", \"Balmer_right\", \"Balmer_ratio\"]\n",
    "    outTable = tbl.Table(rows=rows, names=names)\n",
    "    outTable.write(f\"../../Working_Directory/Apo_Phot_Utils/{outputFolder}throughputs.fits\", overwrite=True)\n",
    "    return\n",
    "\n",
    "# Function to join photometry into master table\n",
    "def JoinPhot(photData, photNames):\n",
    "    for name in photNames:\n",
    "        try:\n",
    "            photTable\n",
    "        except NameError:\n",
    "            photTable = tbl.Table(photData[name])\n",
    "        else:\n",
    "            photTable = tbl.join(photTable, photData[name], keys=\"ID\")\n",
    "        photTable.rename_column(\"Actual Flux\", f\"{name} Flux\")\n",
    "        photTable.rename_column(\"Flux Error\", f\"{name} Error\")\n",
    "    return photTable"
   ]
  },
  {
   "cell_type": "code",
   "execution_count": 15,
   "id": "bd93cbe8-a069-4aed-bab7-f29853b2717b",
   "metadata": {
    "collapsed": true,
    "jupyter": {
     "outputs_hidden": true,
     "source_hidden": true
    },
    "tags": []
   },
   "outputs": [
    {
     "name": "stdout",
     "output_type": "stream",
     "text": [
      "Importing data...\n",
      "Cleaning data...\n"
     ]
    },
    {
     "data": {
      "application/vnd.jupyter.widget-view+json": {
       "model_id": "f1d1c5b7ca124712ae009b20dba71d49",
       "version_major": 2,
       "version_minor": 0
      },
      "text/plain": [
       "Cleaning spectra:   0%|          | 0/253 [00:00<?, ?it/s]"
      ]
     },
     "metadata": {},
     "output_type": "display_data"
    },
    {
     "data": {
      "application/vnd.jupyter.widget-view+json": {
       "model_id": "c5843dd743fd43debf55710c430a64a2",
       "version_major": 2,
       "version_minor": 0
      },
      "text/plain": [
       "Cleaning filters:   0%|          | 0/30 [00:00<?, ?it/s]"
      ]
     },
     "metadata": {},
     "output_type": "display_data"
    },
    {
     "name": "stdout",
     "output_type": "stream",
     "text": [
      "Plotting images...\n"
     ]
    },
    {
     "data": {
      "application/vnd.jupyter.widget-view+json": {
       "model_id": "dc81c987e1ba4f69827fcf199bb97776",
       "version_major": 2,
       "version_minor": 0
      },
      "text/plain": [
       "Plotting galaxies:   0%|          | 0/253 [00:00<?, ?it/s]"
      ]
     },
     "metadata": {},
     "output_type": "display_data"
    },
    {
     "ename": "KeyboardInterrupt",
     "evalue": "",
     "output_type": "error",
     "traceback": [
      "\u001b[0;31m---------------------------------------------------------------------------\u001b[0m",
      "\u001b[0;31mKeyboardInterrupt\u001b[0m                         Traceback (most recent call last)",
      "Input \u001b[0;32mIn [15]\u001b[0m, in \u001b[0;36m<cell line: 45>\u001b[0;34m()\u001b[0m\n\u001b[1;32m     41\u001b[0m     filterFile \u001b[38;5;241m=\u001b[39m RemoveNaNs(filterFile)\n\u001b[1;32m     43\u001b[0m \u001b[38;5;28mprint\u001b[39m(\u001b[38;5;124m\"\u001b[39m\u001b[38;5;124mPlotting images...\u001b[39m\u001b[38;5;124m\"\u001b[39m)\n\u001b[0;32m---> 45\u001b[0m \u001b[43mPlotSpec\u001b[49m\u001b[43m(\u001b[49m\u001b[43mspecData\u001b[49m\u001b[43m,\u001b[49m\u001b[43m \u001b[49m\u001b[43mspecList\u001b[49m\u001b[43m,\u001b[49m\u001b[43m \u001b[49m\u001b[43mspecNames\u001b[49m\u001b[43m)\u001b[49m\n\u001b[1;32m     47\u001b[0m \u001b[38;5;28mprint\u001b[39m(\u001b[38;5;124m\"\u001b[39m\u001b[38;5;124mCalculating throughputs...\u001b[39m\u001b[38;5;124m\"\u001b[39m)\n\u001b[1;32m     49\u001b[0m LoopSpectra(specData, filterData, redshiftFile)\n",
      "Input \u001b[0;32mIn [14]\u001b[0m, in \u001b[0;36mPlotSpec\u001b[0;34m(specData, specList, specNames)\u001b[0m\n\u001b[1;32m     43\u001b[0m     plt\u001b[38;5;241m.\u001b[39mplot(specData[name][\u001b[38;5;124m\"\u001b[39m\u001b[38;5;124mWavelength\u001b[39m\u001b[38;5;124m\"\u001b[39m], specData[name][\u001b[38;5;124m\"\u001b[39m\u001b[38;5;124mFlux\u001b[39m\u001b[38;5;124m\"\u001b[39m])\n\u001b[1;32m     44\u001b[0m     plt\u001b[38;5;241m.\u001b[39mxscale(\u001b[38;5;124m'\u001b[39m\u001b[38;5;124mlog\u001b[39m\u001b[38;5;124m'\u001b[39m)\n\u001b[0;32m---> 45\u001b[0m     \u001b[43mplt\u001b[49m\u001b[38;5;241;43m.\u001b[39;49m\u001b[43msavefig\u001b[49m\u001b[43m(\u001b[49m\u001b[38;5;124;43mf\u001b[39;49m\u001b[38;5;124;43m\"\u001b[39;49m\u001b[38;5;124;43m../../Working_Directory/Apo_Phot_Utils/\u001b[39;49m\u001b[38;5;132;43;01m{\u001b[39;49;00m\u001b[43moutputFolder\u001b[49m\u001b[38;5;132;43;01m}\u001b[39;49;00m\u001b[38;5;124;43mplots/\u001b[39;49m\u001b[38;5;132;43;01m{\u001b[39;49;00m\u001b[43mname\u001b[49m\u001b[38;5;132;43;01m}\u001b[39;49;00m\u001b[38;5;124;43m.png\u001b[39;49m\u001b[38;5;124;43m\"\u001b[39;49m\u001b[43m)\u001b[49m\n\u001b[1;32m     46\u001b[0m     plt\u001b[38;5;241m.\u001b[39mclose()\n\u001b[1;32m     47\u001b[0m \u001b[38;5;28;01mreturn\u001b[39;00m\n",
      "File \u001b[0;32m~/.pyenv/versions/3.10.4/lib/python3.10/site-packages/matplotlib/pyplot.py:979\u001b[0m, in \u001b[0;36msavefig\u001b[0;34m(*args, **kwargs)\u001b[0m\n\u001b[1;32m    976\u001b[0m \u001b[38;5;129m@_copy_docstring_and_deprecators\u001b[39m(Figure\u001b[38;5;241m.\u001b[39msavefig)\n\u001b[1;32m    977\u001b[0m \u001b[38;5;28;01mdef\u001b[39;00m \u001b[38;5;21msavefig\u001b[39m(\u001b[38;5;241m*\u001b[39margs, \u001b[38;5;241m*\u001b[39m\u001b[38;5;241m*\u001b[39mkwargs):\n\u001b[1;32m    978\u001b[0m     fig \u001b[38;5;241m=\u001b[39m gcf()\n\u001b[0;32m--> 979\u001b[0m     res \u001b[38;5;241m=\u001b[39m \u001b[43mfig\u001b[49m\u001b[38;5;241;43m.\u001b[39;49m\u001b[43msavefig\u001b[49m\u001b[43m(\u001b[49m\u001b[38;5;241;43m*\u001b[39;49m\u001b[43margs\u001b[49m\u001b[43m,\u001b[49m\u001b[43m \u001b[49m\u001b[38;5;241;43m*\u001b[39;49m\u001b[38;5;241;43m*\u001b[39;49m\u001b[43mkwargs\u001b[49m\u001b[43m)\u001b[49m\n\u001b[1;32m    980\u001b[0m     fig\u001b[38;5;241m.\u001b[39mcanvas\u001b[38;5;241m.\u001b[39mdraw_idle()   \u001b[38;5;66;03m# need this if 'transparent=True' to reset colors\u001b[39;00m\n\u001b[1;32m    981\u001b[0m     \u001b[38;5;28;01mreturn\u001b[39;00m res\n",
      "File \u001b[0;32m~/.pyenv/versions/3.10.4/lib/python3.10/site-packages/matplotlib/figure.py:3046\u001b[0m, in \u001b[0;36mFigure.savefig\u001b[0;34m(self, fname, transparent, **kwargs)\u001b[0m\n\u001b[1;32m   3042\u001b[0m     \u001b[38;5;28;01mfor\u001b[39;00m ax \u001b[38;5;129;01min\u001b[39;00m \u001b[38;5;28mself\u001b[39m\u001b[38;5;241m.\u001b[39maxes:\n\u001b[1;32m   3043\u001b[0m         stack\u001b[38;5;241m.\u001b[39menter_context(\n\u001b[1;32m   3044\u001b[0m             ax\u001b[38;5;241m.\u001b[39mpatch\u001b[38;5;241m.\u001b[39m_cm_set(facecolor\u001b[38;5;241m=\u001b[39m\u001b[38;5;124m'\u001b[39m\u001b[38;5;124mnone\u001b[39m\u001b[38;5;124m'\u001b[39m, edgecolor\u001b[38;5;241m=\u001b[39m\u001b[38;5;124m'\u001b[39m\u001b[38;5;124mnone\u001b[39m\u001b[38;5;124m'\u001b[39m))\n\u001b[0;32m-> 3046\u001b[0m \u001b[38;5;28;43mself\u001b[39;49m\u001b[38;5;241;43m.\u001b[39;49m\u001b[43mcanvas\u001b[49m\u001b[38;5;241;43m.\u001b[39;49m\u001b[43mprint_figure\u001b[49m\u001b[43m(\u001b[49m\u001b[43mfname\u001b[49m\u001b[43m,\u001b[49m\u001b[43m \u001b[49m\u001b[38;5;241;43m*\u001b[39;49m\u001b[38;5;241;43m*\u001b[39;49m\u001b[43mkwargs\u001b[49m\u001b[43m)\u001b[49m\n",
      "File \u001b[0;32m~/.pyenv/versions/3.10.4/lib/python3.10/site-packages/matplotlib/backend_bases.py:2319\u001b[0m, in \u001b[0;36mFigureCanvasBase.print_figure\u001b[0;34m(self, filename, dpi, facecolor, edgecolor, orientation, format, bbox_inches, pad_inches, bbox_extra_artists, backend, **kwargs)\u001b[0m\n\u001b[1;32m   2315\u001b[0m \u001b[38;5;28;01mtry\u001b[39;00m:\n\u001b[1;32m   2316\u001b[0m     \u001b[38;5;66;03m# _get_renderer may change the figure dpi (as vector formats\u001b[39;00m\n\u001b[1;32m   2317\u001b[0m     \u001b[38;5;66;03m# force the figure dpi to 72), so we need to set it again here.\u001b[39;00m\n\u001b[1;32m   2318\u001b[0m     \u001b[38;5;28;01mwith\u001b[39;00m cbook\u001b[38;5;241m.\u001b[39m_setattr_cm(\u001b[38;5;28mself\u001b[39m\u001b[38;5;241m.\u001b[39mfigure, dpi\u001b[38;5;241m=\u001b[39mdpi):\n\u001b[0;32m-> 2319\u001b[0m         result \u001b[38;5;241m=\u001b[39m \u001b[43mprint_method\u001b[49m\u001b[43m(\u001b[49m\n\u001b[1;32m   2320\u001b[0m \u001b[43m            \u001b[49m\u001b[43mfilename\u001b[49m\u001b[43m,\u001b[49m\n\u001b[1;32m   2321\u001b[0m \u001b[43m            \u001b[49m\u001b[43mfacecolor\u001b[49m\u001b[38;5;241;43m=\u001b[39;49m\u001b[43mfacecolor\u001b[49m\u001b[43m,\u001b[49m\n\u001b[1;32m   2322\u001b[0m \u001b[43m            \u001b[49m\u001b[43medgecolor\u001b[49m\u001b[38;5;241;43m=\u001b[39;49m\u001b[43medgecolor\u001b[49m\u001b[43m,\u001b[49m\n\u001b[1;32m   2323\u001b[0m \u001b[43m            \u001b[49m\u001b[43morientation\u001b[49m\u001b[38;5;241;43m=\u001b[39;49m\u001b[43morientation\u001b[49m\u001b[43m,\u001b[49m\n\u001b[1;32m   2324\u001b[0m \u001b[43m            \u001b[49m\u001b[43mbbox_inches_restore\u001b[49m\u001b[38;5;241;43m=\u001b[39;49m\u001b[43m_bbox_inches_restore\u001b[49m\u001b[43m,\u001b[49m\n\u001b[1;32m   2325\u001b[0m \u001b[43m            \u001b[49m\u001b[38;5;241;43m*\u001b[39;49m\u001b[38;5;241;43m*\u001b[39;49m\u001b[43mkwargs\u001b[49m\u001b[43m)\u001b[49m\n\u001b[1;32m   2326\u001b[0m \u001b[38;5;28;01mfinally\u001b[39;00m:\n\u001b[1;32m   2327\u001b[0m     \u001b[38;5;28;01mif\u001b[39;00m bbox_inches \u001b[38;5;129;01mand\u001b[39;00m restore_bbox:\n",
      "File \u001b[0;32m~/.pyenv/versions/3.10.4/lib/python3.10/site-packages/matplotlib/backend_bases.py:1648\u001b[0m, in \u001b[0;36m_check_savefig_extra_args.<locals>.wrapper\u001b[0;34m(*args, **kwargs)\u001b[0m\n\u001b[1;32m   1640\u001b[0m     _api\u001b[38;5;241m.\u001b[39mwarn_deprecated(\n\u001b[1;32m   1641\u001b[0m         \u001b[38;5;124m'\u001b[39m\u001b[38;5;124m3.3\u001b[39m\u001b[38;5;124m'\u001b[39m, name\u001b[38;5;241m=\u001b[39mname, removal\u001b[38;5;241m=\u001b[39m\u001b[38;5;124m'\u001b[39m\u001b[38;5;124m3.6\u001b[39m\u001b[38;5;124m'\u001b[39m,\n\u001b[1;32m   1642\u001b[0m         message\u001b[38;5;241m=\u001b[39m\u001b[38;5;124m'\u001b[39m\u001b[38;5;132;01m%(name)s\u001b[39;00m\u001b[38;5;124m() got unexpected keyword argument \u001b[39m\u001b[38;5;124m\"\u001b[39m\u001b[38;5;124m'\u001b[39m\n\u001b[1;32m   1643\u001b[0m                 \u001b[38;5;241m+\u001b[39m arg \u001b[38;5;241m+\u001b[39m \u001b[38;5;124m'\u001b[39m\u001b[38;5;124m\"\u001b[39m\u001b[38;5;124m which is no longer supported as of \u001b[39m\u001b[38;5;124m'\u001b[39m\n\u001b[1;32m   1644\u001b[0m                 \u001b[38;5;124m'\u001b[39m\u001b[38;5;132;01m%(since)s\u001b[39;00m\u001b[38;5;124m and will become an error \u001b[39m\u001b[38;5;124m'\u001b[39m\n\u001b[1;32m   1645\u001b[0m                 \u001b[38;5;124m'\u001b[39m\u001b[38;5;132;01m%(removal)s\u001b[39;00m\u001b[38;5;124m'\u001b[39m)\n\u001b[1;32m   1646\u001b[0m     kwargs\u001b[38;5;241m.\u001b[39mpop(arg)\n\u001b[0;32m-> 1648\u001b[0m \u001b[38;5;28;01mreturn\u001b[39;00m \u001b[43mfunc\u001b[49m\u001b[43m(\u001b[49m\u001b[38;5;241;43m*\u001b[39;49m\u001b[43margs\u001b[49m\u001b[43m,\u001b[49m\u001b[43m \u001b[49m\u001b[38;5;241;43m*\u001b[39;49m\u001b[38;5;241;43m*\u001b[39;49m\u001b[43mkwargs\u001b[49m\u001b[43m)\u001b[49m\n",
      "File \u001b[0;32m~/.pyenv/versions/3.10.4/lib/python3.10/site-packages/matplotlib/_api/deprecation.py:415\u001b[0m, in \u001b[0;36mdelete_parameter.<locals>.wrapper\u001b[0;34m(*inner_args, **inner_kwargs)\u001b[0m\n\u001b[1;32m    405\u001b[0m     deprecation_addendum \u001b[38;5;241m=\u001b[39m (\n\u001b[1;32m    406\u001b[0m         \u001b[38;5;124mf\u001b[39m\u001b[38;5;124m\"\u001b[39m\u001b[38;5;124mIf any parameter follows \u001b[39m\u001b[38;5;132;01m{\u001b[39;00mname\u001b[38;5;132;01m!r}\u001b[39;00m\u001b[38;5;124m, they should be passed as \u001b[39m\u001b[38;5;124m\"\u001b[39m\n\u001b[1;32m    407\u001b[0m         \u001b[38;5;124mf\u001b[39m\u001b[38;5;124m\"\u001b[39m\u001b[38;5;124mkeyword, not positionally.\u001b[39m\u001b[38;5;124m\"\u001b[39m)\n\u001b[1;32m    408\u001b[0m     warn_deprecated(\n\u001b[1;32m    409\u001b[0m         since,\n\u001b[1;32m    410\u001b[0m         name\u001b[38;5;241m=\u001b[39m\u001b[38;5;28mrepr\u001b[39m(name),\n\u001b[0;32m   (...)\u001b[0m\n\u001b[1;32m    413\u001b[0m                  \u001b[38;5;28;01melse\u001b[39;00m deprecation_addendum,\n\u001b[1;32m    414\u001b[0m         \u001b[38;5;241m*\u001b[39m\u001b[38;5;241m*\u001b[39mkwargs)\n\u001b[0;32m--> 415\u001b[0m \u001b[38;5;28;01mreturn\u001b[39;00m \u001b[43mfunc\u001b[49m\u001b[43m(\u001b[49m\u001b[38;5;241;43m*\u001b[39;49m\u001b[43minner_args\u001b[49m\u001b[43m,\u001b[49m\u001b[43m \u001b[49m\u001b[38;5;241;43m*\u001b[39;49m\u001b[38;5;241;43m*\u001b[39;49m\u001b[43minner_kwargs\u001b[49m\u001b[43m)\u001b[49m\n",
      "File \u001b[0;32m~/.pyenv/versions/3.10.4/lib/python3.10/site-packages/matplotlib/backends/backend_agg.py:540\u001b[0m, in \u001b[0;36mFigureCanvasAgg.print_png\u001b[0;34m(self, filename_or_obj, metadata, pil_kwargs, *args)\u001b[0m\n\u001b[1;32m    490\u001b[0m \u001b[38;5;129m@_check_savefig_extra_args\u001b[39m\n\u001b[1;32m    491\u001b[0m \u001b[38;5;129m@_api\u001b[39m\u001b[38;5;241m.\u001b[39mdelete_parameter(\u001b[38;5;124m\"\u001b[39m\u001b[38;5;124m3.5\u001b[39m\u001b[38;5;124m\"\u001b[39m, \u001b[38;5;124m\"\u001b[39m\u001b[38;5;124margs\u001b[39m\u001b[38;5;124m\"\u001b[39m)\n\u001b[1;32m    492\u001b[0m \u001b[38;5;28;01mdef\u001b[39;00m \u001b[38;5;21mprint_png\u001b[39m(\u001b[38;5;28mself\u001b[39m, filename_or_obj, \u001b[38;5;241m*\u001b[39margs,\n\u001b[1;32m    493\u001b[0m               metadata\u001b[38;5;241m=\u001b[39m\u001b[38;5;28;01mNone\u001b[39;00m, pil_kwargs\u001b[38;5;241m=\u001b[39m\u001b[38;5;28;01mNone\u001b[39;00m):\n\u001b[1;32m    494\u001b[0m     \u001b[38;5;124;03m\"\"\"\u001b[39;00m\n\u001b[1;32m    495\u001b[0m \u001b[38;5;124;03m    Write the figure to a PNG file.\u001b[39;00m\n\u001b[1;32m    496\u001b[0m \n\u001b[0;32m   (...)\u001b[0m\n\u001b[1;32m    538\u001b[0m \u001b[38;5;124;03m        *metadata*, including the default 'Software' key.\u001b[39;00m\n\u001b[1;32m    539\u001b[0m \u001b[38;5;124;03m    \"\"\"\u001b[39;00m\n\u001b[0;32m--> 540\u001b[0m     \u001b[43mFigureCanvasAgg\u001b[49m\u001b[38;5;241;43m.\u001b[39;49m\u001b[43mdraw\u001b[49m\u001b[43m(\u001b[49m\u001b[38;5;28;43mself\u001b[39;49m\u001b[43m)\u001b[49m\n\u001b[1;32m    541\u001b[0m     mpl\u001b[38;5;241m.\u001b[39mimage\u001b[38;5;241m.\u001b[39mimsave(\n\u001b[1;32m    542\u001b[0m         filename_or_obj, \u001b[38;5;28mself\u001b[39m\u001b[38;5;241m.\u001b[39mbuffer_rgba(), \u001b[38;5;28mformat\u001b[39m\u001b[38;5;241m=\u001b[39m\u001b[38;5;124m\"\u001b[39m\u001b[38;5;124mpng\u001b[39m\u001b[38;5;124m\"\u001b[39m, origin\u001b[38;5;241m=\u001b[39m\u001b[38;5;124m\"\u001b[39m\u001b[38;5;124mupper\u001b[39m\u001b[38;5;124m\"\u001b[39m,\n\u001b[1;32m    543\u001b[0m         dpi\u001b[38;5;241m=\u001b[39m\u001b[38;5;28mself\u001b[39m\u001b[38;5;241m.\u001b[39mfigure\u001b[38;5;241m.\u001b[39mdpi, metadata\u001b[38;5;241m=\u001b[39mmetadata, pil_kwargs\u001b[38;5;241m=\u001b[39mpil_kwargs)\n",
      "File \u001b[0;32m~/.pyenv/versions/3.10.4/lib/python3.10/site-packages/matplotlib/backends/backend_agg.py:436\u001b[0m, in \u001b[0;36mFigureCanvasAgg.draw\u001b[0;34m(self)\u001b[0m\n\u001b[1;32m    432\u001b[0m \u001b[38;5;66;03m# Acquire a lock on the shared font cache.\u001b[39;00m\n\u001b[1;32m    433\u001b[0m \u001b[38;5;28;01mwith\u001b[39;00m RendererAgg\u001b[38;5;241m.\u001b[39mlock, \\\n\u001b[1;32m    434\u001b[0m      (\u001b[38;5;28mself\u001b[39m\u001b[38;5;241m.\u001b[39mtoolbar\u001b[38;5;241m.\u001b[39m_wait_cursor_for_draw_cm() \u001b[38;5;28;01mif\u001b[39;00m \u001b[38;5;28mself\u001b[39m\u001b[38;5;241m.\u001b[39mtoolbar\n\u001b[1;32m    435\u001b[0m       \u001b[38;5;28;01melse\u001b[39;00m nullcontext()):\n\u001b[0;32m--> 436\u001b[0m     \u001b[38;5;28;43mself\u001b[39;49m\u001b[38;5;241;43m.\u001b[39;49m\u001b[43mfigure\u001b[49m\u001b[38;5;241;43m.\u001b[39;49m\u001b[43mdraw\u001b[49m\u001b[43m(\u001b[49m\u001b[38;5;28;43mself\u001b[39;49m\u001b[38;5;241;43m.\u001b[39;49m\u001b[43mrenderer\u001b[49m\u001b[43m)\u001b[49m\n\u001b[1;32m    437\u001b[0m     \u001b[38;5;66;03m# A GUI class may be need to update a window using this draw, so\u001b[39;00m\n\u001b[1;32m    438\u001b[0m     \u001b[38;5;66;03m# don't forget to call the superclass.\u001b[39;00m\n\u001b[1;32m    439\u001b[0m     \u001b[38;5;28msuper\u001b[39m()\u001b[38;5;241m.\u001b[39mdraw()\n",
      "File \u001b[0;32m~/.pyenv/versions/3.10.4/lib/python3.10/site-packages/matplotlib/artist.py:73\u001b[0m, in \u001b[0;36m_finalize_rasterization.<locals>.draw_wrapper\u001b[0;34m(artist, renderer, *args, **kwargs)\u001b[0m\n\u001b[1;32m     71\u001b[0m \u001b[38;5;129m@wraps\u001b[39m(draw)\n\u001b[1;32m     72\u001b[0m \u001b[38;5;28;01mdef\u001b[39;00m \u001b[38;5;21mdraw_wrapper\u001b[39m(artist, renderer, \u001b[38;5;241m*\u001b[39margs, \u001b[38;5;241m*\u001b[39m\u001b[38;5;241m*\u001b[39mkwargs):\n\u001b[0;32m---> 73\u001b[0m     result \u001b[38;5;241m=\u001b[39m \u001b[43mdraw\u001b[49m\u001b[43m(\u001b[49m\u001b[43martist\u001b[49m\u001b[43m,\u001b[49m\u001b[43m \u001b[49m\u001b[43mrenderer\u001b[49m\u001b[43m,\u001b[49m\u001b[43m \u001b[49m\u001b[38;5;241;43m*\u001b[39;49m\u001b[43margs\u001b[49m\u001b[43m,\u001b[49m\u001b[43m \u001b[49m\u001b[38;5;241;43m*\u001b[39;49m\u001b[38;5;241;43m*\u001b[39;49m\u001b[43mkwargs\u001b[49m\u001b[43m)\u001b[49m\n\u001b[1;32m     74\u001b[0m     \u001b[38;5;28;01mif\u001b[39;00m renderer\u001b[38;5;241m.\u001b[39m_rasterizing:\n\u001b[1;32m     75\u001b[0m         renderer\u001b[38;5;241m.\u001b[39mstop_rasterizing()\n",
      "File \u001b[0;32m~/.pyenv/versions/3.10.4/lib/python3.10/site-packages/matplotlib/artist.py:50\u001b[0m, in \u001b[0;36mallow_rasterization.<locals>.draw_wrapper\u001b[0;34m(artist, renderer)\u001b[0m\n\u001b[1;32m     47\u001b[0m     \u001b[38;5;28;01mif\u001b[39;00m artist\u001b[38;5;241m.\u001b[39mget_agg_filter() \u001b[38;5;129;01mis\u001b[39;00m \u001b[38;5;129;01mnot\u001b[39;00m \u001b[38;5;28;01mNone\u001b[39;00m:\n\u001b[1;32m     48\u001b[0m         renderer\u001b[38;5;241m.\u001b[39mstart_filter()\n\u001b[0;32m---> 50\u001b[0m     \u001b[38;5;28;01mreturn\u001b[39;00m \u001b[43mdraw\u001b[49m\u001b[43m(\u001b[49m\u001b[43martist\u001b[49m\u001b[43m,\u001b[49m\u001b[43m \u001b[49m\u001b[43mrenderer\u001b[49m\u001b[43m)\u001b[49m\n\u001b[1;32m     51\u001b[0m \u001b[38;5;28;01mfinally\u001b[39;00m:\n\u001b[1;32m     52\u001b[0m     \u001b[38;5;28;01mif\u001b[39;00m artist\u001b[38;5;241m.\u001b[39mget_agg_filter() \u001b[38;5;129;01mis\u001b[39;00m \u001b[38;5;129;01mnot\u001b[39;00m \u001b[38;5;28;01mNone\u001b[39;00m:\n",
      "File \u001b[0;32m~/.pyenv/versions/3.10.4/lib/python3.10/site-packages/matplotlib/figure.py:2837\u001b[0m, in \u001b[0;36mFigure.draw\u001b[0;34m(self, renderer)\u001b[0m\n\u001b[1;32m   2834\u001b[0m         \u001b[38;5;66;03m# ValueError can occur when resizing a window.\u001b[39;00m\n\u001b[1;32m   2836\u001b[0m \u001b[38;5;28mself\u001b[39m\u001b[38;5;241m.\u001b[39mpatch\u001b[38;5;241m.\u001b[39mdraw(renderer)\n\u001b[0;32m-> 2837\u001b[0m \u001b[43mmimage\u001b[49m\u001b[38;5;241;43m.\u001b[39;49m\u001b[43m_draw_list_compositing_images\u001b[49m\u001b[43m(\u001b[49m\n\u001b[1;32m   2838\u001b[0m \u001b[43m    \u001b[49m\u001b[43mrenderer\u001b[49m\u001b[43m,\u001b[49m\u001b[43m \u001b[49m\u001b[38;5;28;43mself\u001b[39;49m\u001b[43m,\u001b[49m\u001b[43m \u001b[49m\u001b[43martists\u001b[49m\u001b[43m,\u001b[49m\u001b[43m \u001b[49m\u001b[38;5;28;43mself\u001b[39;49m\u001b[38;5;241;43m.\u001b[39;49m\u001b[43msuppressComposite\u001b[49m\u001b[43m)\u001b[49m\n\u001b[1;32m   2840\u001b[0m \u001b[38;5;28;01mfor\u001b[39;00m sfig \u001b[38;5;129;01min\u001b[39;00m \u001b[38;5;28mself\u001b[39m\u001b[38;5;241m.\u001b[39msubfigs:\n\u001b[1;32m   2841\u001b[0m     sfig\u001b[38;5;241m.\u001b[39mdraw(renderer)\n",
      "File \u001b[0;32m~/.pyenv/versions/3.10.4/lib/python3.10/site-packages/matplotlib/image.py:132\u001b[0m, in \u001b[0;36m_draw_list_compositing_images\u001b[0;34m(renderer, parent, artists, suppress_composite)\u001b[0m\n\u001b[1;32m    130\u001b[0m \u001b[38;5;28;01mif\u001b[39;00m not_composite \u001b[38;5;129;01mor\u001b[39;00m \u001b[38;5;129;01mnot\u001b[39;00m has_images:\n\u001b[1;32m    131\u001b[0m     \u001b[38;5;28;01mfor\u001b[39;00m a \u001b[38;5;129;01min\u001b[39;00m artists:\n\u001b[0;32m--> 132\u001b[0m         \u001b[43ma\u001b[49m\u001b[38;5;241;43m.\u001b[39;49m\u001b[43mdraw\u001b[49m\u001b[43m(\u001b[49m\u001b[43mrenderer\u001b[49m\u001b[43m)\u001b[49m\n\u001b[1;32m    133\u001b[0m \u001b[38;5;28;01melse\u001b[39;00m:\n\u001b[1;32m    134\u001b[0m     \u001b[38;5;66;03m# Composite any adjacent images together\u001b[39;00m\n\u001b[1;32m    135\u001b[0m     image_group \u001b[38;5;241m=\u001b[39m []\n",
      "File \u001b[0;32m~/.pyenv/versions/3.10.4/lib/python3.10/site-packages/matplotlib/artist.py:50\u001b[0m, in \u001b[0;36mallow_rasterization.<locals>.draw_wrapper\u001b[0;34m(artist, renderer)\u001b[0m\n\u001b[1;32m     47\u001b[0m     \u001b[38;5;28;01mif\u001b[39;00m artist\u001b[38;5;241m.\u001b[39mget_agg_filter() \u001b[38;5;129;01mis\u001b[39;00m \u001b[38;5;129;01mnot\u001b[39;00m \u001b[38;5;28;01mNone\u001b[39;00m:\n\u001b[1;32m     48\u001b[0m         renderer\u001b[38;5;241m.\u001b[39mstart_filter()\n\u001b[0;32m---> 50\u001b[0m     \u001b[38;5;28;01mreturn\u001b[39;00m \u001b[43mdraw\u001b[49m\u001b[43m(\u001b[49m\u001b[43martist\u001b[49m\u001b[43m,\u001b[49m\u001b[43m \u001b[49m\u001b[43mrenderer\u001b[49m\u001b[43m)\u001b[49m\n\u001b[1;32m     51\u001b[0m \u001b[38;5;28;01mfinally\u001b[39;00m:\n\u001b[1;32m     52\u001b[0m     \u001b[38;5;28;01mif\u001b[39;00m artist\u001b[38;5;241m.\u001b[39mget_agg_filter() \u001b[38;5;129;01mis\u001b[39;00m \u001b[38;5;129;01mnot\u001b[39;00m \u001b[38;5;28;01mNone\u001b[39;00m:\n",
      "File \u001b[0;32m~/.pyenv/versions/3.10.4/lib/python3.10/site-packages/matplotlib/axes/_base.py:3091\u001b[0m, in \u001b[0;36m_AxesBase.draw\u001b[0;34m(self, renderer)\u001b[0m\n\u001b[1;32m   3088\u001b[0m         a\u001b[38;5;241m.\u001b[39mdraw(renderer)\n\u001b[1;32m   3089\u001b[0m     renderer\u001b[38;5;241m.\u001b[39mstop_rasterizing()\n\u001b[0;32m-> 3091\u001b[0m \u001b[43mmimage\u001b[49m\u001b[38;5;241;43m.\u001b[39;49m\u001b[43m_draw_list_compositing_images\u001b[49m\u001b[43m(\u001b[49m\n\u001b[1;32m   3092\u001b[0m \u001b[43m    \u001b[49m\u001b[43mrenderer\u001b[49m\u001b[43m,\u001b[49m\u001b[43m \u001b[49m\u001b[38;5;28;43mself\u001b[39;49m\u001b[43m,\u001b[49m\u001b[43m \u001b[49m\u001b[43martists\u001b[49m\u001b[43m,\u001b[49m\u001b[43m \u001b[49m\u001b[38;5;28;43mself\u001b[39;49m\u001b[38;5;241;43m.\u001b[39;49m\u001b[43mfigure\u001b[49m\u001b[38;5;241;43m.\u001b[39;49m\u001b[43msuppressComposite\u001b[49m\u001b[43m)\u001b[49m\n\u001b[1;32m   3094\u001b[0m renderer\u001b[38;5;241m.\u001b[39mclose_group(\u001b[38;5;124m'\u001b[39m\u001b[38;5;124maxes\u001b[39m\u001b[38;5;124m'\u001b[39m)\n\u001b[1;32m   3095\u001b[0m \u001b[38;5;28mself\u001b[39m\u001b[38;5;241m.\u001b[39mstale \u001b[38;5;241m=\u001b[39m \u001b[38;5;28;01mFalse\u001b[39;00m\n",
      "File \u001b[0;32m~/.pyenv/versions/3.10.4/lib/python3.10/site-packages/matplotlib/image.py:132\u001b[0m, in \u001b[0;36m_draw_list_compositing_images\u001b[0;34m(renderer, parent, artists, suppress_composite)\u001b[0m\n\u001b[1;32m    130\u001b[0m \u001b[38;5;28;01mif\u001b[39;00m not_composite \u001b[38;5;129;01mor\u001b[39;00m \u001b[38;5;129;01mnot\u001b[39;00m has_images:\n\u001b[1;32m    131\u001b[0m     \u001b[38;5;28;01mfor\u001b[39;00m a \u001b[38;5;129;01min\u001b[39;00m artists:\n\u001b[0;32m--> 132\u001b[0m         \u001b[43ma\u001b[49m\u001b[38;5;241;43m.\u001b[39;49m\u001b[43mdraw\u001b[49m\u001b[43m(\u001b[49m\u001b[43mrenderer\u001b[49m\u001b[43m)\u001b[49m\n\u001b[1;32m    133\u001b[0m \u001b[38;5;28;01melse\u001b[39;00m:\n\u001b[1;32m    134\u001b[0m     \u001b[38;5;66;03m# Composite any adjacent images together\u001b[39;00m\n\u001b[1;32m    135\u001b[0m     image_group \u001b[38;5;241m=\u001b[39m []\n",
      "File \u001b[0;32m~/.pyenv/versions/3.10.4/lib/python3.10/site-packages/matplotlib/artist.py:50\u001b[0m, in \u001b[0;36mallow_rasterization.<locals>.draw_wrapper\u001b[0;34m(artist, renderer)\u001b[0m\n\u001b[1;32m     47\u001b[0m     \u001b[38;5;28;01mif\u001b[39;00m artist\u001b[38;5;241m.\u001b[39mget_agg_filter() \u001b[38;5;129;01mis\u001b[39;00m \u001b[38;5;129;01mnot\u001b[39;00m \u001b[38;5;28;01mNone\u001b[39;00m:\n\u001b[1;32m     48\u001b[0m         renderer\u001b[38;5;241m.\u001b[39mstart_filter()\n\u001b[0;32m---> 50\u001b[0m     \u001b[38;5;28;01mreturn\u001b[39;00m \u001b[43mdraw\u001b[49m\u001b[43m(\u001b[49m\u001b[43martist\u001b[49m\u001b[43m,\u001b[49m\u001b[43m \u001b[49m\u001b[43mrenderer\u001b[49m\u001b[43m)\u001b[49m\n\u001b[1;32m     51\u001b[0m \u001b[38;5;28;01mfinally\u001b[39;00m:\n\u001b[1;32m     52\u001b[0m     \u001b[38;5;28;01mif\u001b[39;00m artist\u001b[38;5;241m.\u001b[39mget_agg_filter() \u001b[38;5;129;01mis\u001b[39;00m \u001b[38;5;129;01mnot\u001b[39;00m \u001b[38;5;28;01mNone\u001b[39;00m:\n",
      "File \u001b[0;32m~/.pyenv/versions/3.10.4/lib/python3.10/site-packages/matplotlib/axis.py:1159\u001b[0m, in \u001b[0;36mAxis.draw\u001b[0;34m(self, renderer, *args, **kwargs)\u001b[0m\n\u001b[1;32m   1156\u001b[0m renderer\u001b[38;5;241m.\u001b[39mopen_group(\u001b[38;5;18m__name__\u001b[39m, gid\u001b[38;5;241m=\u001b[39m\u001b[38;5;28mself\u001b[39m\u001b[38;5;241m.\u001b[39mget_gid())\n\u001b[1;32m   1158\u001b[0m ticks_to_draw \u001b[38;5;241m=\u001b[39m \u001b[38;5;28mself\u001b[39m\u001b[38;5;241m.\u001b[39m_update_ticks()\n\u001b[0;32m-> 1159\u001b[0m ticklabelBoxes, ticklabelBoxes2 \u001b[38;5;241m=\u001b[39m \u001b[38;5;28;43mself\u001b[39;49m\u001b[38;5;241;43m.\u001b[39;49m\u001b[43m_get_tick_bboxes\u001b[49m\u001b[43m(\u001b[49m\u001b[43mticks_to_draw\u001b[49m\u001b[43m,\u001b[49m\n\u001b[1;32m   1160\u001b[0m \u001b[43m                                                        \u001b[49m\u001b[43mrenderer\u001b[49m\u001b[43m)\u001b[49m\n\u001b[1;32m   1162\u001b[0m \u001b[38;5;28;01mfor\u001b[39;00m tick \u001b[38;5;129;01min\u001b[39;00m ticks_to_draw:\n\u001b[1;32m   1163\u001b[0m     tick\u001b[38;5;241m.\u001b[39mdraw(renderer)\n",
      "File \u001b[0;32m~/.pyenv/versions/3.10.4/lib/python3.10/site-packages/matplotlib/axis.py:1085\u001b[0m, in \u001b[0;36mAxis._get_tick_bboxes\u001b[0;34m(self, ticks, renderer)\u001b[0m\n\u001b[1;32m   1083\u001b[0m \u001b[38;5;28;01mdef\u001b[39;00m \u001b[38;5;21m_get_tick_bboxes\u001b[39m(\u001b[38;5;28mself\u001b[39m, ticks, renderer):\n\u001b[1;32m   1084\u001b[0m     \u001b[38;5;124;03m\"\"\"Return lists of bboxes for ticks' label1's and label2's.\"\"\"\u001b[39;00m\n\u001b[0;32m-> 1085\u001b[0m     \u001b[38;5;28;01mreturn\u001b[39;00m ([tick\u001b[38;5;241m.\u001b[39mlabel1\u001b[38;5;241m.\u001b[39mget_window_extent(renderer)\n\u001b[1;32m   1086\u001b[0m              \u001b[38;5;28;01mfor\u001b[39;00m tick \u001b[38;5;129;01min\u001b[39;00m ticks \u001b[38;5;28;01mif\u001b[39;00m tick\u001b[38;5;241m.\u001b[39mlabel1\u001b[38;5;241m.\u001b[39mget_visible()],\n\u001b[1;32m   1087\u001b[0m             [tick\u001b[38;5;241m.\u001b[39mlabel2\u001b[38;5;241m.\u001b[39mget_window_extent(renderer)\n\u001b[1;32m   1088\u001b[0m              \u001b[38;5;28;01mfor\u001b[39;00m tick \u001b[38;5;129;01min\u001b[39;00m ticks \u001b[38;5;28;01mif\u001b[39;00m tick\u001b[38;5;241m.\u001b[39mlabel2\u001b[38;5;241m.\u001b[39mget_visible()])\n",
      "File \u001b[0;32m~/.pyenv/versions/3.10.4/lib/python3.10/site-packages/matplotlib/axis.py:1085\u001b[0m, in \u001b[0;36m<listcomp>\u001b[0;34m(.0)\u001b[0m\n\u001b[1;32m   1083\u001b[0m \u001b[38;5;28;01mdef\u001b[39;00m \u001b[38;5;21m_get_tick_bboxes\u001b[39m(\u001b[38;5;28mself\u001b[39m, ticks, renderer):\n\u001b[1;32m   1084\u001b[0m     \u001b[38;5;124;03m\"\"\"Return lists of bboxes for ticks' label1's and label2's.\"\"\"\u001b[39;00m\n\u001b[0;32m-> 1085\u001b[0m     \u001b[38;5;28;01mreturn\u001b[39;00m ([\u001b[43mtick\u001b[49m\u001b[38;5;241;43m.\u001b[39;49m\u001b[43mlabel1\u001b[49m\u001b[38;5;241;43m.\u001b[39;49m\u001b[43mget_window_extent\u001b[49m\u001b[43m(\u001b[49m\u001b[43mrenderer\u001b[49m\u001b[43m)\u001b[49m\n\u001b[1;32m   1086\u001b[0m              \u001b[38;5;28;01mfor\u001b[39;00m tick \u001b[38;5;129;01min\u001b[39;00m ticks \u001b[38;5;28;01mif\u001b[39;00m tick\u001b[38;5;241m.\u001b[39mlabel1\u001b[38;5;241m.\u001b[39mget_visible()],\n\u001b[1;32m   1087\u001b[0m             [tick\u001b[38;5;241m.\u001b[39mlabel2\u001b[38;5;241m.\u001b[39mget_window_extent(renderer)\n\u001b[1;32m   1088\u001b[0m              \u001b[38;5;28;01mfor\u001b[39;00m tick \u001b[38;5;129;01min\u001b[39;00m ticks \u001b[38;5;28;01mif\u001b[39;00m tick\u001b[38;5;241m.\u001b[39mlabel2\u001b[38;5;241m.\u001b[39mget_visible()])\n",
      "File \u001b[0;32m~/.pyenv/versions/3.10.4/lib/python3.10/site-packages/matplotlib/text.py:910\u001b[0m, in \u001b[0;36mText.get_window_extent\u001b[0;34m(self, renderer, dpi)\u001b[0m\n\u001b[1;32m    907\u001b[0m     \u001b[38;5;28;01mraise\u001b[39;00m \u001b[38;5;167;01mRuntimeError\u001b[39;00m(\u001b[38;5;124m'\u001b[39m\u001b[38;5;124mCannot get window extent w/o renderer\u001b[39m\u001b[38;5;124m'\u001b[39m)\n\u001b[1;32m    909\u001b[0m \u001b[38;5;28;01mwith\u001b[39;00m cbook\u001b[38;5;241m.\u001b[39m_setattr_cm(\u001b[38;5;28mself\u001b[39m\u001b[38;5;241m.\u001b[39mfigure, dpi\u001b[38;5;241m=\u001b[39mdpi):\n\u001b[0;32m--> 910\u001b[0m     bbox, info, descent \u001b[38;5;241m=\u001b[39m \u001b[38;5;28;43mself\u001b[39;49m\u001b[38;5;241;43m.\u001b[39;49m\u001b[43m_get_layout\u001b[49m\u001b[43m(\u001b[49m\u001b[38;5;28;43mself\u001b[39;49m\u001b[38;5;241;43m.\u001b[39;49m\u001b[43m_renderer\u001b[49m\u001b[43m)\u001b[49m\n\u001b[1;32m    911\u001b[0m     x, y \u001b[38;5;241m=\u001b[39m \u001b[38;5;28mself\u001b[39m\u001b[38;5;241m.\u001b[39mget_unitless_position()\n\u001b[1;32m    912\u001b[0m     x, y \u001b[38;5;241m=\u001b[39m \u001b[38;5;28mself\u001b[39m\u001b[38;5;241m.\u001b[39mget_transform()\u001b[38;5;241m.\u001b[39mtransform((x, y))\n",
      "File \u001b[0;32m~/.pyenv/versions/3.10.4/lib/python3.10/site-packages/matplotlib/text.py:317\u001b[0m, in \u001b[0;36mText._get_layout\u001b[0;34m(self, renderer)\u001b[0m\n\u001b[1;32m    315\u001b[0m clean_line, ismath \u001b[38;5;241m=\u001b[39m \u001b[38;5;28mself\u001b[39m\u001b[38;5;241m.\u001b[39m_preprocess_math(line)\n\u001b[1;32m    316\u001b[0m \u001b[38;5;28;01mif\u001b[39;00m clean_line:\n\u001b[0;32m--> 317\u001b[0m     w, h, d \u001b[38;5;241m=\u001b[39m \u001b[43mrenderer\u001b[49m\u001b[38;5;241;43m.\u001b[39;49m\u001b[43mget_text_width_height_descent\u001b[49m\u001b[43m(\u001b[49m\n\u001b[1;32m    318\u001b[0m \u001b[43m        \u001b[49m\u001b[43mclean_line\u001b[49m\u001b[43m,\u001b[49m\u001b[43m \u001b[49m\u001b[38;5;28;43mself\u001b[39;49m\u001b[38;5;241;43m.\u001b[39;49m\u001b[43m_fontproperties\u001b[49m\u001b[43m,\u001b[49m\u001b[43m \u001b[49m\u001b[43mismath\u001b[49m\u001b[38;5;241;43m=\u001b[39;49m\u001b[43mismath\u001b[49m\u001b[43m)\u001b[49m\n\u001b[1;32m    319\u001b[0m \u001b[38;5;28;01melse\u001b[39;00m:\n\u001b[1;32m    320\u001b[0m     w \u001b[38;5;241m=\u001b[39m h \u001b[38;5;241m=\u001b[39m d \u001b[38;5;241m=\u001b[39m \u001b[38;5;241m0\u001b[39m\n",
      "File \u001b[0;32m~/.pyenv/versions/3.10.4/lib/python3.10/site-packages/matplotlib/backends/backend_agg.py:259\u001b[0m, in \u001b[0;36mRendererAgg.get_text_width_height_descent\u001b[0;34m(self, s, prop, ismath)\u001b[0m\n\u001b[1;32m    257\u001b[0m     texmanager \u001b[38;5;241m=\u001b[39m \u001b[38;5;28mself\u001b[39m\u001b[38;5;241m.\u001b[39mget_texmanager()\n\u001b[1;32m    258\u001b[0m     fontsize \u001b[38;5;241m=\u001b[39m prop\u001b[38;5;241m.\u001b[39mget_size_in_points()\n\u001b[0;32m--> 259\u001b[0m     w, h, d \u001b[38;5;241m=\u001b[39m \u001b[43mtexmanager\u001b[49m\u001b[38;5;241;43m.\u001b[39;49m\u001b[43mget_text_width_height_descent\u001b[49m\u001b[43m(\u001b[49m\n\u001b[1;32m    260\u001b[0m \u001b[43m        \u001b[49m\u001b[43ms\u001b[49m\u001b[43m,\u001b[49m\u001b[43m \u001b[49m\u001b[43mfontsize\u001b[49m\u001b[43m,\u001b[49m\u001b[43m \u001b[49m\u001b[43mrenderer\u001b[49m\u001b[38;5;241;43m=\u001b[39;49m\u001b[38;5;28;43mself\u001b[39;49m\u001b[43m)\u001b[49m\n\u001b[1;32m    261\u001b[0m     \u001b[38;5;28;01mreturn\u001b[39;00m w, h, d\n\u001b[1;32m    263\u001b[0m \u001b[38;5;28;01mif\u001b[39;00m ismath:\n",
      "File \u001b[0;32m~/.pyenv/versions/3.10.4/lib/python3.10/site-packages/matplotlib/texmanager.py:337\u001b[0m, in \u001b[0;36mTexManager.get_text_width_height_descent\u001b[0;34m(self, tex, fontsize, renderer)\u001b[0m\n\u001b[1;32m    335\u001b[0m dvifile \u001b[38;5;241m=\u001b[39m \u001b[38;5;28mself\u001b[39m\u001b[38;5;241m.\u001b[39mmake_dvi(tex, fontsize)\n\u001b[1;32m    336\u001b[0m dpi_fraction \u001b[38;5;241m=\u001b[39m renderer\u001b[38;5;241m.\u001b[39mpoints_to_pixels(\u001b[38;5;241m1.\u001b[39m) \u001b[38;5;28;01mif\u001b[39;00m renderer \u001b[38;5;28;01melse\u001b[39;00m \u001b[38;5;241m1\u001b[39m\n\u001b[0;32m--> 337\u001b[0m \u001b[38;5;28;01mwith\u001b[39;00m \u001b[43mdviread\u001b[49m\u001b[38;5;241;43m.\u001b[39;49m\u001b[43mDvi\u001b[49m\u001b[43m(\u001b[49m\u001b[43mdvifile\u001b[49m\u001b[43m,\u001b[49m\u001b[43m \u001b[49m\u001b[38;5;241;43m72\u001b[39;49m\u001b[43m \u001b[49m\u001b[38;5;241;43m*\u001b[39;49m\u001b[43m \u001b[49m\u001b[43mdpi_fraction\u001b[49m\u001b[43m)\u001b[49m \u001b[38;5;28;01mas\u001b[39;00m dvi:\n\u001b[1;32m    338\u001b[0m     page, \u001b[38;5;241m=\u001b[39m dvi\n\u001b[1;32m    339\u001b[0m \u001b[38;5;66;03m# A total height (including the descent) needs to be returned.\u001b[39;00m\n",
      "File \u001b[0;32m~/.pyenv/versions/3.10.4/lib/python3.10/site-packages/matplotlib/dviread.py:204\u001b[0m, in \u001b[0;36mDvi.__init__\u001b[0;34m(self, filename, dpi)\u001b[0m\n\u001b[1;32m    197\u001b[0m \u001b[38;5;124;03m\"\"\"\u001b[39;00m\n\u001b[1;32m    198\u001b[0m \u001b[38;5;124;03mRead the data from the file named *filename* and convert\u001b[39;00m\n\u001b[1;32m    199\u001b[0m \u001b[38;5;124;03mTeX's internal units to units of *dpi* per inch.\u001b[39;00m\n\u001b[1;32m    200\u001b[0m \u001b[38;5;124;03m*dpi* only sets the units and does not limit the resolution.\u001b[39;00m\n\u001b[1;32m    201\u001b[0m \u001b[38;5;124;03mUse None to return TeX's internal units.\u001b[39;00m\n\u001b[1;32m    202\u001b[0m \u001b[38;5;124;03m\"\"\"\u001b[39;00m\n\u001b[1;32m    203\u001b[0m _log\u001b[38;5;241m.\u001b[39mdebug(\u001b[38;5;124m'\u001b[39m\u001b[38;5;124mDvi: \u001b[39m\u001b[38;5;132;01m%s\u001b[39;00m\u001b[38;5;124m'\u001b[39m, filename)\n\u001b[0;32m--> 204\u001b[0m \u001b[38;5;28mself\u001b[39m\u001b[38;5;241m.\u001b[39mfile \u001b[38;5;241m=\u001b[39m \u001b[38;5;28;43mopen\u001b[39;49m\u001b[43m(\u001b[49m\u001b[43mfilename\u001b[49m\u001b[43m,\u001b[49m\u001b[43m \u001b[49m\u001b[38;5;124;43m'\u001b[39;49m\u001b[38;5;124;43mrb\u001b[39;49m\u001b[38;5;124;43m'\u001b[39;49m\u001b[43m)\u001b[49m\n\u001b[1;32m    205\u001b[0m \u001b[38;5;28mself\u001b[39m\u001b[38;5;241m.\u001b[39mdpi \u001b[38;5;241m=\u001b[39m dpi\n\u001b[1;32m    206\u001b[0m \u001b[38;5;28mself\u001b[39m\u001b[38;5;241m.\u001b[39mfonts \u001b[38;5;241m=\u001b[39m {}\n",
      "\u001b[0;31mKeyboardInterrupt\u001b[0m: "
     ]
    },
    {
     "data": {
      "image/png": "[encoded data removed]",
      "text/plain": [
       "<Figure size 432x288 with 1 Axes>"
      ]
     },
     "metadata": {
      "needs_background": "light"
     },
     "output_type": "display_data"
    }
   ],
   "source": [
    "print(\"Importing data...\")\n",
    "\n",
    "# Directories\n",
    "try:\n",
    "    filterFolder\n",
    "    specFolder\n",
    "    outputFolder\n",
    "except NameError:\n",
    "    filterFolder = \"Throughputs/nircam_throughputs/mean_throughputs/\"\n",
    "    specFolder = \"Spectra/HST_Deep/prism_v1.5/\"\n",
    "    outputFolder = \"HST_Deep/prism_v1.5/\"\n",
    "\n",
    "# Spectra\n",
    "try:\n",
    "    specData\n",
    "except NameError:\n",
    "    specDir, specList, specNames = GetSpec()\n",
    "    specData = ImportSpec(specDir, specList, specNames)\n",
    "\n",
    "# Filters\n",
    "try:\n",
    "    filterData\n",
    "except NameError:\n",
    "    filterDir, filterList, filterNames = GetFilter()\n",
    "    filterData = ImportFilter(filterDir, filterList, filterNames)\n",
    "\n",
    "# Redshift catalogue\n",
    "try:\n",
    "    redshiftFile\n",
    "except NameError:\n",
    "    redshiftFolder = GetDirStruct() + \"Redshifts/Deep_HST.csv\"\n",
    "    redshiftID = \"ID\"\n",
    "    redshiftZ = \"Assigned_redshift\"\n",
    "    redshiftFile = tbl.Table.read(redshiftFolder)\n",
    "\n",
    "print(\"Cleaning data...\")\n",
    "\n",
    "for spectrum in tqdm(specData.values(), desc=\"Cleaning spectra\"):\n",
    "    spectrum = RemoveNaNs(spectrum)\n",
    "for filterFile in tqdm(filterData.values(), desc=\"Cleaning filters\"):\n",
    "    filterFile = RemoveNaNs(filterFile)\n",
    "\n",
    "print(\"Plotting images...\")\n",
    "\n",
    "PlotSpec(specData, specList, specNames)\n",
    "\n",
    "print(\"Calculating throughputs...\")\n",
    "\n",
    "LoopSpectra(specData, filterData, redshiftFile)\n",
    "\n",
    "print(\"Done.\")"
   ]
  },
  {
   "cell_type": "code",
   "execution_count": 81,
   "id": "d69e54ef-a3c0-4109-ae5b-925daaaddcf6",
   "metadata": {},
   "outputs": [
    {
     "name": "stdout",
     "output_type": "stream",
     "text": [
      "Importing galaxies...\n"
     ]
    },
    {
     "data": {
      "application/vnd.jupyter.widget-view+json": {
       "model_id": "60672abe2e994ae88656b3d089a5216f",
       "version_major": 2,
       "version_minor": 0
      },
      "text/plain": [
       "Importing photometry:   0%|          | 0/14 [00:00<?, ?it/s]"
      ]
     },
     "metadata": {},
     "output_type": "display_data"
    }
   ],
   "source": [
    "print(\"Importing galaxies...\")\n",
    "\n",
    "# Directories\n",
    "try:\n",
    "    filterFolder\n",
    "    specFolder\n",
    "    outputFolder\n",
    "    photDir\n",
    "except NameError:\n",
    "    filterFolder = \"Throughputs/nircam_throughputs/mean_throughputs/\"\n",
    "    specFolder = \"Spectra/HST_Deep/prism_v1.5/\"\n",
    "    outputFolder = \"HST_Deep/prism_v1.5/\"\n",
    "    photDir = \"../../Working_Directory/Apo_Phot/HST_Deep/\"\n",
    "\n",
    "# Spectra\n",
    "try:\n",
    "    specData\n",
    "except NameError:\n",
    "    specDir, specList, specNames = GetSpec()\n",
    "    specData = ImportSpec(specList, specDir, specNames)\n",
    "\n",
    "# Filters\n",
    "try:\n",
    "    filterData\n",
    "except NameError:\n",
    "    filterDir, filterList, filterNames = GetFilter()\n",
    "    filterData = ImportFilter(filterDir, filterList, filterNames)\n",
    "    \n",
    "# Photometry\n",
    "# try:\n",
    "#     photData\n",
    "# except NameError:\n",
    "photList, photNames = GetPhot()\n",
    "photData = ImportPhot(photList, photNames)\n",
    "photTable = JoinPhot(photData, photNames)"
   ]
  },
  {
   "cell_type": "code",
   "execution_count": 82,
   "id": "11cb3b04-957f-4d46-be3c-5a18bad0c5ef",
   "metadata": {},
   "outputs": [
    {
     "data": {
      "text/html": [
       "<div><i>QTable length=253</i>\n",
       "<table id=\"table5173455088\" class=\"table-striped table-bordered table-condensed\">\n",
       "<thead><tr><th>ID</th><th>F090W Flux</th><th>F090W Error</th><th>F115W Flux</th><th>F115W Error</th><th>F150W Flux</th><th>F150W Error</th><th>F182M Flux</th><th>F182M Error</th><th>F200W Flux</th><th>F200W Error</th><th>F210M Flux</th><th>F210M Error</th><th>F277W Flux</th><th>F277W Error</th><th>F335M Flux</th><th>F335M Error</th><th>F356W Flux</th><th>F356W Error</th><th>F410M Flux</th><th>F410M Error</th><th>F430M Flux</th><th>F430M Error</th><th>F444W Flux</th><th>F444W Error</th><th>F460M Flux</th><th>F460M Error</th><th>F480M Flux</th><th>F480M Error</th></tr></thead>\n",
       "<thead><tr><th></th><th>uJy</th><th>uJy</th><th>uJy</th><th>uJy</th><th>uJy</th><th>uJy</th><th>uJy</th><th>uJy</th><th>uJy</th><th>uJy</th><th>uJy</th><th>uJy</th><th>uJy</th><th>uJy</th><th>uJy</th><th>uJy</th><th>uJy</th><th>uJy</th><th>uJy</th><th>uJy</th><th>uJy</th><th>uJy</th><th>uJy</th><th>uJy</th><th>uJy</th><th>uJy</th><th>uJy</th><th>uJy</th></tr></thead>\n",
       "<thead><tr><th>int64</th><th>float64</th><th>float64</th><th>float64</th><th>float64</th><th>float64</th><th>float64</th><th>float64</th><th>float64</th><th>float64</th><th>float64</th><th>float64</th><th>float64</th><th>float64</th><th>float64</th><th>float64</th><th>float64</th><th>float64</th><th>float64</th><th>float64</th><th>float64</th><th>float64</th><th>float64</th><th>float64</th><th>float64</th><th>float64</th><th>float64</th><th>float64</th><th>float64</th></tr></thead>\n",
       "<tr><td>2332</td><td>0.003152352787088139</td><td>0.0017957765351233237</td><td>0.0057456327572303475</td><td>0.001257317113252856</td><td>0.008420597263194917</td><td>0.0015011993654089274</td><td>0.0</td><td>0.0</td><td>0.013173230277466976</td><td>0.001248221480034125</td><td>0.0</td><td>0.0</td><td>0.011894123478347776</td><td>0.0004573211340373981</td><td>0.008511616386291387</td><td>0.0006032528713009376</td><td>0.011437066769689357</td><td>0.0004312572864855359</td><td>0.012679910693414802</td><td>0.000796994384893799</td><td>0.0</td><td>0.0</td><td>0.009528908277399458</td><td>0.0006543791526634901</td><td>0.0</td><td>0.0</td><td>0.0</td><td>0.0</td></tr>\n",
       "<tr><td>2375</td><td>0.009697443612337573</td><td>0.001294801517356784</td><td>0.016806098211432134</td><td>0.0008975045569903119</td><td>0.020953497781306625</td><td>0.0010822656704993648</td><td>0.0</td><td>0.0</td><td>0.02152639339496018</td><td>0.0008956512109674895</td><td>0.0</td><td>0.0</td><td>0.019961276430127566</td><td>0.0003156167384038272</td><td>0.019228238073688113</td><td>0.0004357754537572977</td><td>0.01890898001653729</td><td>0.0002992742855159896</td><td>0.01724219437452738</td><td>0.0005594524607000461</td><td>0.0</td><td>0.0</td><td>0.019004589363852735</td><td>0.0004681490646533332</td><td>0.0</td><td>0.0</td><td>0.0</td><td>0.0</td></tr>\n",
       "<tr><td>2528</td><td>0.002784590145109872</td><td>0.0009799849042717663</td><td>0.007293493813621581</td><td>0.0006919210255639927</td><td>0.01120334791834654</td><td>0.0008159892471870225</td><td>0.0</td><td>0.0</td><td>0.010678649978038083</td><td>0.0006725662788813682</td><td>0.0</td><td>0.0</td><td>0.010962306969542404</td><td>0.000277535482669634</td><td>0.009200437238444364</td><td>0.0003545381222005805</td><td>0.00882185343997626</td><td>0.0002483015114180146</td><td>0.00803795324450619</td><td>0.0004954284835942887</td><td>0.0</td><td>0.0</td><td>0.008014172346439107</td><td>0.00041943600904055625</td><td>0.0</td><td>0.0</td><td>0.0</td><td>0.0</td></tr>\n",
       "<tr><td>2651</td><td>0.002181144381909145</td><td>0.0012835905219712965</td><td>0.005816713383646497</td><td>0.0008961174165977499</td><td>0.004188858542971953</td><td>0.0010705750680235196</td><td>0.0</td><td>0.0</td><td>0.006784560931228078</td><td>0.0008748287141063095</td><td>0.0</td><td>0.0</td><td>0.008549298757335627</td><td>0.00031798472665447444</td><td>0.0055083175220121145</td><td>0.00041604436495470704</td><td>0.005577542923109023</td><td>0.00029399271221934077</td><td>0.005691993035345984</td><td>0.0005492143921099797</td><td>0.0</td><td>0.0</td><td>0.004843493456093821</td><td>0.0004636289581926643</td><td>0.0</td><td>0.0</td><td>0.0</td><td>0.0</td></tr>\n",
       "<tr><td>2773</td><td>0.00035107380882096824</td><td>0.0009926898997915533</td><td>0.00038416621174653434</td><td>0.000747800615826512</td><td>0.0011681654509768298</td><td>0.0008346799451555534</td><td>0.0</td><td>0.0</td><td>0.0067086217956683555</td><td>0.0008347717783211318</td><td>0.0</td><td>0.0</td><td>0.006052532111410938</td><td>0.0002582724535261908</td><td>0.004343789708938153</td><td>0.0004210926519626203</td><td>0.005880581453459733</td><td>0.00029514201268342015</td><td>0.0046565463371237735</td><td>0.0004578670178963165</td><td>0.0</td><td>0.0</td><td>0.004529685035535451</td><td>0.00038550110575599593</td><td>0.0</td><td>0.0</td><td>0.0</td><td>0.0</td></tr>\n",
       "<tr><td>2923</td><td>0.01522334020144985</td><td>0.0013036438520963667</td><td>0.012369862768375938</td><td>0.0009013210594980885</td><td>0.012309532605656058</td><td>0.0010782642400396305</td><td>-6.897965071655864e-08</td><td>0.0</td><td>0.017128352948318472</td><td>0.0008801237143638893</td><td>-1.1509539363611485e-08</td><td>0.0</td><td>0.014192773165881564</td><td>0.00031878038566999345</td><td>0.008473176670619245</td><td>0.00042233251635097314</td><td>0.008664902283173698</td><td>0.00030181584862125637</td><td>0.006851836712659501</td><td>0.0005532018350844249</td><td>0.0</td><td>0.0</td><td>0.008123794679319918</td><td>0.0004716324451839653</td><td>0.0</td><td>0.0</td><td>0.0</td><td>0.0</td></tr>\n",
       "<tr><td>...</td><td>...</td><td>...</td><td>...</td><td>...</td><td>...</td><td>...</td><td>...</td><td>...</td><td>...</td><td>...</td><td>...</td><td>...</td><td>...</td><td>...</td><td>...</td><td>...</td><td>...</td><td>...</td><td>...</td><td>...</td><td>...</td><td>...</td><td>...</td><td>...</td><td>...</td><td>...</td><td>...</td><td>...</td></tr>\n",
       "<tr><td>10105275</td><td>0.0004924459295901046</td><td>0.0007504782382074576</td><td>-4.3495105524537916e-05</td><td>0.0005731927917242767</td><td>0.0011905267904274211</td><td>0.0006253076156411601</td><td>-0.0012294854405899476</td><td>0.0011017388196664845</td><td>-0.0010868050229149902</td><td>0.0006096440228930978</td><td>0.0014245071077295941</td><td>0.0011938489866875131</td><td>-9.972832686813544e-05</td><td>0.00018487048770039814</td><td>-0.00013194578292290607</td><td>0.000298360397827507</td><td>0.00034820782891493204</td><td>0.0002071546575346663</td><td>-0.00045569011749831123</td><td>0.0003264887191259267</td><td>0.001329307859053589</td><td>0.0011766442209621985</td><td>6.525925242613637e-05</td><td>0.00027686234577587213</td><td>-0.004611704832934986</td><td>0.0016965169094880386</td><td>0.0018825941860659819</td><td>0.001156856266390109</td></tr>\n",
       "<tr><td>10106241</td><td>0.0010648629918622078</td><td>0.0012847611630673846</td><td>0.0014194110690546042</td><td>0.0008839109350136617</td><td>0.005002108552605955</td><td>0.0010480284073059122</td><td>0.0</td><td>0.0</td><td>0.005989581730913651</td><td>0.0008762002592164819</td><td>0.0</td><td>0.0</td><td>0.004886771593657531</td><td>0.00030288416482235754</td><td>0.0044887791357145525</td><td>0.0004174117631094754</td><td>0.005212416146870098</td><td>0.00029293610571310856</td><td>0.004500932531092438</td><td>0.000539905050776461</td><td>0.0</td><td>0.0</td><td>0.002684660866094143</td><td>0.0004577512076609379</td><td>0.0</td><td>0.0</td><td>0.0</td><td>0.0</td></tr>\n",
       "<tr><td>10106242</td><td>-0.0011700841680935751</td><td>0.0009149436779382185</td><td>-3.741127592585585e-05</td><td>0.0006690406283916844</td><td>0.0007051233966605262</td><td>0.000748925158339454</td><td>0.0</td><td>0.0</td><td>3.384180898378119e-05</td><td>0.0007085764965404267</td><td>0.0</td><td>0.0</td><td>0.00011842532694405182</td><td>0.0002190803485498022</td><td>0.0004894289080518653</td><td>0.0002911769638785046</td><td>-0.0001058266073407683</td><td>0.00020067600631153664</td><td>-0.0012355792125675641</td><td>0.00038725519772802306</td><td>0.0</td><td>0.0</td><td>0.00032733661869249357</td><td>0.0003288946454803722</td><td>0.0</td><td>0.0</td><td>0.0</td><td>0.0</td></tr>\n",
       "<tr><td>10106443</td><td>0.0019516692662979276</td><td>0.0010663867733298716</td><td>-0.0008021452329475398</td><td>0.0007920939379786652</td><td>-0.0007318125016572475</td><td>0.0008683908356179906</td><td>-0.0007245673823320539</td><td>0.0017269773218728346</td><td>-0.00038668905151765284</td><td>0.0008474099472140896</td><td>-0.0015363190648340834</td><td>0.0018847620125041714</td><td>-0.002205202006915511</td><td>0.0002523431497513266</td><td>-0.0026285228092708286</td><td>0.0004018059968548435</td><td>-0.0017986450289341927</td><td>0.0002788221599150912</td><td>-0.002585523418137404</td><td>0.00045938689591392556</td><td>-0.0031760469556385883</td><td>0.0017253168427038925</td><td>-0.0023264327928314435</td><td>0.0003830423129727937</td><td>-0.005585731483213754</td><td>0.0022358873821270945</td><td>-0.0019306222287046408</td><td>0.001581451206106728</td></tr>\n",
       "<tr><td>10106467</td><td>0.0003896372890713586</td><td>0.0007423626141214714</td><td>0.0010861683959599506</td><td>0.0005599208052252428</td><td>0.00253296296783935</td><td>0.0006178956442838101</td><td>0.0</td><td>0.0</td><td>0.0020834291159247354</td><td>0.0005973834609879624</td><td>0.0</td><td>0.0</td><td>0.0024880237889474332</td><td>0.00018047496248683664</td><td>0.0026436558247564293</td><td>0.0002888198348415193</td><td>0.0029095013668102854</td><td>0.000203694917119003</td><td>0.0025625968856104403</td><td>0.0003214400233514394</td><td>0.0</td><td>0.0</td><td>0.0031361649312347077</td><td>0.0002686815500774298</td><td>0.0</td><td>0.0</td><td>0.0</td><td>0.0</td></tr>\n",
       "<tr><td>10106944</td><td>0.004633288653893265</td><td>0.0007928653740121223</td><td>0.008173828222167723</td><td>0.000601355037526659</td><td>0.01545275812944659</td><td>0.000684502922996236</td><td>0.0</td><td>0.0</td><td>0.020210000055079246</td><td>0.000664724564203391</td><td>0.0</td><td>0.0</td><td>0.025635673919789607</td><td>0.0002218689916857286</td><td>0.02903784151762021</td><td>0.0003651595985127969</td><td>0.028838615775430666</td><td>0.00025521824781143184</td><td>0.02493889154892699</td><td>0.0003729420344447093</td><td>0.0</td><td>0.0</td><td>0.02335004708230132</td><td>0.00029725200664494</td><td>0.0</td><td>0.0</td><td>0.0</td><td>0.0</td></tr>\n",
       "<tr><td>10106979</td><td>0.0011093616461118438</td><td>0.0009349866696604152</td><td>0.0032757702428937497</td><td>0.0007519188734946965</td><td>0.006299827748192985</td><td>0.0007874283626712427</td><td>0.00761017313669</td><td>0.0008158924408474114</td><td>0.008127773886752341</td><td>0.0008997897995109382</td><td>0.00744037243226735</td><td>0.0008839089262286501</td><td>0.011547331017000964</td><td>0.00024660347041140007</td><td>0.008414231682540886</td><td>0.00044755172635923624</td><td>0.009986107370960317</td><td>0.00031959149671738926</td><td>0.004896741553525923</td><td>0.0004149421150742709</td><td>0.009200775150300263</td><td>0.0008591091924879905</td><td>0.005044301133900822</td><td>0.00034922062563351604</td><td>0.0048132762548595874</td><td>0.001194633578492828</td><td>0.004411144198480729</td><td>0.0008571747897449195</td></tr>\n",
       "</table></div>"
      ],
      "text/plain": [
       "<QTable length=253>\n",
       "   ID          F090W Flux       ...      F480M Error     \n",
       "                  uJy           ...          uJy         \n",
       " int64          float64         ...        float64       \n",
       "-------- ---------------------- ... ---------------------\n",
       "    2332   0.003152352787088139 ...                   0.0\n",
       "    2375   0.009697443612337573 ...                   0.0\n",
       "    2528   0.002784590145109872 ...                   0.0\n",
       "    2651   0.002181144381909145 ...                   0.0\n",
       "    2773 0.00035107380882096824 ...                   0.0\n",
       "    2923    0.01522334020144985 ...                   0.0\n",
       "     ...                    ... ...                   ...\n",
       "10105275  0.0004924459295901046 ...  0.001156856266390109\n",
       "10106241  0.0010648629918622078 ...                   0.0\n",
       "10106242 -0.0011700841680935751 ...                   0.0\n",
       "10106443  0.0019516692662979276 ...  0.001581451206106728\n",
       "10106467  0.0003896372890713586 ...                   0.0\n",
       "10106944   0.004633288653893265 ...                   0.0\n",
       "10106979  0.0011093616461118438 ... 0.0008571747897449195"
      ]
     },
     "execution_count": 82,
     "metadata": {},
     "output_type": "execute_result"
    }
   ],
   "source": [
    "photTable"
   ]
  },
  {
   "cell_type": "code",
   "execution_count": 67,
   "id": "ccd92d5e-fb89-49da-8fb1-a453c50fba72",
   "metadata": {},
   "outputs": [
    {
     "data": {
      "text/html": [
       "<div><i>QTable length=253</i>\n",
       "<table id=\"table5068215712\" class=\"table-striped table-bordered table-condensed\">\n",
       "<thead><tr><th>ID</th><th>Actual Flux</th><th>Flux Error</th></tr></thead>\n",
       "<thead><tr><th></th><th>uJy</th><th>uJy</th></tr></thead>\n",
       "<thead><tr><th>int64</th><th>float64</th><th>float64</th></tr></thead>\n",
       "<tr><td>2332</td><td>0.003152352787088139</td><td>0.0017957765351233237</td></tr>\n",
       "<tr><td>2375</td><td>0.009697443612337573</td><td>0.001294801517356784</td></tr>\n",
       "<tr><td>2528</td><td>0.002784590145109872</td><td>0.0009799849042717663</td></tr>\n",
       "<tr><td>2651</td><td>0.002181144381909145</td><td>0.0012835905219712965</td></tr>\n",
       "<tr><td>2773</td><td>0.00035107380882096824</td><td>0.0009926898997915533</td></tr>\n",
       "<tr><td>2923</td><td>0.01522334020144985</td><td>0.0013036438520963667</td></tr>\n",
       "<tr><td>...</td><td>...</td><td>...</td></tr>\n",
       "<tr><td>10105275</td><td>0.0004924459295901046</td><td>0.0007504782382074576</td></tr>\n",
       "<tr><td>10106241</td><td>0.0010648629918622078</td><td>0.0012847611630673846</td></tr>\n",
       "<tr><td>10106242</td><td>-0.0011700841680935751</td><td>0.0009149436779382185</td></tr>\n",
       "<tr><td>10106443</td><td>0.0019516692662979276</td><td>0.0010663867733298716</td></tr>\n",
       "<tr><td>10106467</td><td>0.0003896372890713586</td><td>0.0007423626141214714</td></tr>\n",
       "<tr><td>10106944</td><td>0.004633288653893265</td><td>0.0007928653740121223</td></tr>\n",
       "<tr><td>10106979</td><td>0.0011093616461118438</td><td>0.0009349866696604152</td></tr>\n",
       "</table></div>"
      ],
      "text/plain": [
       "<QTable length=253>\n",
       "   ID         Actual Flux             Flux Error     \n",
       "                  uJy                    uJy         \n",
       " int64          float64                float64       \n",
       "-------- ---------------------- ---------------------\n",
       "    2332   0.003152352787088139 0.0017957765351233237\n",
       "    2375   0.009697443612337573  0.001294801517356784\n",
       "    2528   0.002784590145109872 0.0009799849042717663\n",
       "    2651   0.002181144381909145 0.0012835905219712965\n",
       "    2773 0.00035107380882096824 0.0009926898997915533\n",
       "    2923    0.01522334020144985 0.0013036438520963667\n",
       "     ...                    ...                   ...\n",
       "10105275  0.0004924459295901046 0.0007504782382074576\n",
       "10106241  0.0010648629918622078 0.0012847611630673846\n",
       "10106242 -0.0011700841680935751 0.0009149436779382185\n",
       "10106443  0.0019516692662979276 0.0010663867733298716\n",
       "10106467  0.0003896372890713586 0.0007423626141214714\n",
       "10106944   0.004633288653893265 0.0007928653740121223\n",
       "10106979  0.0011093616461118438 0.0009349866696604152"
      ]
     },
     "execution_count": 67,
     "metadata": {},
     "output_type": "execute_result"
    }
   ],
   "source": [
    "photData[\"F090W\"]"
   ]
  },
  {
   "cell_type": "code",
   "execution_count": 25,
   "id": "b869525f-af58-44c3-93b0-936ae0fadf9c",
   "metadata": {},
   "outputs": [],
   "source": [
    "testPrefix = \"/Volumes/Storage/Slit-losses/HST/pathlosses_deep_R100/R100_v0/p01/pathlosses_correction_deep_hst_1x1_p01_exp00_idcat_\"\n",
    "testSuffix = \"_v0_point.txt\""
   ]
  },
  {
   "cell_type": "code",
   "execution_count": 51,
   "id": "94bf33aa-309e-465f-a208-c9e184698caa",
   "metadata": {},
   "outputs": [
    {
     "ename": "UFuncTypeError",
     "evalue": "ufunc 'add' did not contain a loop with signature matching types (dtype('<U51'), dtype('<U6')) -> None",
     "output_type": "error",
     "traceback": [
      "\u001b[0;31m---------------------------------------------------------------------------\u001b[0m",
      "\u001b[0;31mUFuncTypeError\u001b[0m                            Traceback (most recent call last)",
      "Input \u001b[0;32mIn [51]\u001b[0m, in \u001b[0;36m<cell line: 7>\u001b[0;34m()\u001b[0m\n\u001b[1;32m      5\u001b[0m lossesIDs \u001b[38;5;241m=\u001b[39m [\u001b[38;5;28mint\u001b[39m(file) \u001b[38;5;28;01mfor\u001b[39;00m file \u001b[38;5;129;01min\u001b[39;00m lossesNames]\n\u001b[1;32m      6\u001b[0m lossesTable \u001b[38;5;241m=\u001b[39m tbl\u001b[38;5;241m.\u001b[39mTable([lossesIDs, lossesNames], names\u001b[38;5;241m=\u001b[39m(\u001b[38;5;124m\"\u001b[39m\u001b[38;5;124mID\u001b[39m\u001b[38;5;124m\"\u001b[39m, \u001b[38;5;124m\"\u001b[39m\u001b[38;5;124mName\u001b[39m\u001b[38;5;124m\"\u001b[39m))\n\u001b[0;32m----> 7\u001b[0m lossesTable\u001b[38;5;241m.\u001b[39madd_column((\u001b[38;5;124;43m\"\u001b[39;49m\u001b[38;5;124;43mpathlosses_correction_deep_hst_1x1_p01_exp00_idcat_\u001b[39;49m\u001b[38;5;124;43m\"\u001b[39;49m\u001b[43m \u001b[49m\u001b[38;5;241;43m+\u001b[39;49m\u001b[43m \u001b[49m\u001b[43mlossesTable\u001b[49m\u001b[43m[\u001b[49m\u001b[38;5;124;43m\"\u001b[39;49m\u001b[38;5;124;43mName\u001b[39;49m\u001b[38;5;124;43m\"\u001b[39;49m\u001b[43m]\u001b[49m \u001b[38;5;241m+\u001b[39m testSuffix), name\u001b[38;5;241m=\u001b[39m(\u001b[38;5;124m\"\u001b[39m\u001b[38;5;124mfileName\u001b[39m\u001b[38;5;124m\"\u001b[39m))\n",
      "\u001b[0;31mUFuncTypeError\u001b[0m: ufunc 'add' did not contain a loop with signature matching types (dtype('<U51'), dtype('<U6')) -> None"
     ]
    }
   ],
   "source": [
    "lossesList = !bash -c \"ls {testPrefix}*{testSuffix}\"\n",
    "lossesList = [file.split('/')[-1] for file in lossesList]\n",
    "lossesList = [file.split('_')[-3] for file in lossesList]\n",
    "lossesNames = [file[5:11] for file in lossesList]\n",
    "lossesIDs = [int(file) for file in lossesNames]\n",
    "lossesTable = tbl.Table([lossesIDs, lossesNames], names=(\"ID\", \"Name\"))\n",
    "lossesTable.add_column((\"pathlosses_correction_deep_hst_1x1_p01_exp00_idcat_\" + lossesTable[\"Name\"] + testSuffix), name=(\"fileName\"))"
   ]
  },
  {
   "cell_type": "code",
   "execution_count": 49,
   "id": "b3287fee-3d7f-453b-aa75-1cc067665a36",
   "metadata": {},
   "outputs": [],
   "source": [
    "lossesTable.write(\"lossesTable.csv\")"
   ]
  },
  {
   "cell_type": "code",
   "execution_count": 24,
   "id": "58d1a51d-bf36-4328-a4d0-9b817f23171b",
   "metadata": {},
   "outputs": [
    {
     "data": {
      "text/plain": [
       "['F090W',\n",
       " 'F115W',\n",
       " 'F150W',\n",
       " 'F182M',\n",
       " 'F200W',\n",
       " 'F210M',\n",
       " 'F277W',\n",
       " 'F335M',\n",
       " 'F356W',\n",
       " 'F410M',\n",
       " 'F430M',\n",
       " 'F444W',\n",
       " 'F460M',\n",
       " 'F480M']"
      ]
     },
     "execution_count": 24,
     "metadata": {},
     "output_type": "execute_result"
    }
   ],
   "source": [
    "photNames"
   ]
  },
  {
   "cell_type": "code",
   "execution_count": null,
   "id": "a9f26090-6a58-4a0f-b299-f93fdcc4dfeb",
   "metadata": {},
   "outputs": [],
   "source": [
    "plt.close(\"all\")\n",
    "\n",
    "# plt.plot(Spectrum[\"Wavelength\"], Spectrum[\"Flux\"])\n",
    "# plt.plot(Filter[\"Wavelength\"], Filter[\"Throughput\"] * 10 **(-13))\n",
    "plt.plot(Filter_grid, Filter_conv * 10 ** (-13), color=\"green\")\n",
    "plt.plot(Filter_grid, Spectrum_flux, color=\"blue\")\n",
    "plt.plot(Filter_grid, Filter_conv * Spectrum_flux, color=\"red\")"
   ]
  },
  {
   "cell_type": "code",
   "execution_count": null,
   "id": "2bfd018d-b194-4bad-97d6-34fe9161f83f",
   "metadata": {},
   "outputs": [],
   "source": []
  }
 ],
 "metadata": {
  "kernelspec": {
   "display_name": "Python 3 (ipykernel)",
   "language": "python",
   "name": "python3"
  },
  "language_info": {
   "codemirror_mode": {
    "name": "ipython",
    "version": 3
   },
   "file_extension": ".py",
   "mimetype": "text/x-python",
   "name": "python",
   "nbconvert_exporter": "python",
   "pygments_lexer": "ipython3",
   "version": "3.10.4"
  }
 },
 "nbformat": 4,
 "nbformat_minor": 5
}
