{
 "cells": [
  {
   "cell_type": "code",
   "execution_count": 1,
   "id": "b041040d-3945-45b5-a057-185a0eb4292c",
   "metadata": {},
   "outputs": [
    {
     "name": "stdout",
     "output_type": "stream",
     "text": [
      "Preparing environment...\n",
      "Done.\n"
     ]
    }
   ],
   "source": [
    "print(\"Preparing environment...\")\n",
    "\n",
    "from astropy import table as tbl\n",
    "from astropy.io import fits\n",
    "from astropy import units as u\n",
    "import matplotlib.pyplot as plt\n",
    "import numpy as np\n",
    "import scipy as sp\n",
    "from scipy import interpolate\n",
    "from scipy import constants as c\n",
    "import platform\n",
    "from tqdm.auto import tqdm\n",
    "\n",
    "# %matplotlib widget\n",
    "\n",
    "print(\"Done.\")"
   ]
  },
  {
   "cell_type": "code",
   "execution_count": 21,
   "id": "a0151c6c-b707-4c1c-93f6-c79fa6261474",
   "metadata": {},
   "outputs": [
    {
     "data": {
      "application/vnd.jupyter.widget-view+json": {
       "model_id": "bc6ef837f1a04084ad44a8819f54d0a1",
       "version_major": 2,
       "version_minor": 0
      },
      "text/plain": [
       "Files:   0%|          | 0/577 [00:00<?, ?it/s]"
      ]
     },
     "metadata": {},
     "output_type": "display_data"
    },
    {
     "data": {
      "application/vnd.jupyter.widget-view+json": {
       "model_id": "e78759b296884490972d51c395a2001e",
       "version_major": 2,
       "version_minor": 0
      },
      "text/plain": [
       "Galaxies:   0%|          | 0/577 [00:00<?, ?it/s]"
      ]
     },
     "metadata": {},
     "output_type": "display_data"
    }
   ],
   "source": [
    "# Function to use appropriate OS directory structure\n",
    "def GetDirStruct():\n",
    "    match platform.system():\n",
    "        case \"Windows\":\n",
    "            dirPrefix = \"D:/\"\n",
    "        case \"Linux\" | \"Ubuntu\":\n",
    "            dirPrefix = \"/mnt/d/\"\n",
    "        case \"macOS\" | \"Darwin\":\n",
    "            dirPrefix = \"/Volumes/Storage/\"\n",
    "        case _:\n",
    "            raise Exception(f\"OS not recognised: \\\"{platform.system()}\\\". Please define a custom switch inside GetDirStruct().\")\n",
    "    return dirPrefix\n",
    "\n",
    "\n",
    "# Function to grab list of spectra in a directory\n",
    "def GetFiles():\n",
    "    dirPrefix = GetDirStruct()\n",
    "    fileDir = dirPrefix + specFolder\n",
    "    fileList = !bash -c \"ls {fileDir}*1D.fits\"\n",
    "    fileList = [file.split('/')[-1] for file in fileList]\n",
    "    return fileList, fileDir\n",
    "\n",
    "\n",
    "# Function to import files to dictionary\n",
    "def ImportFiles(fileList, fileDir):\n",
    "    fileData = {}\n",
    "    for file in tqdm(fileList, desc=\"Files\"):\n",
    "        fileRaw = fits.open(fileDir + file)\n",
    "        fileFlux = fileRaw[1].data\n",
    "        fileWave = fileRaw[9].data\n",
    "        fileData[file.split('_')[0]] = tbl.Table([fileWave, fileFlux], names=(\"Wavelength\", \"Flux\"))\n",
    "        fileRaw.close()\n",
    "    return fileData\n",
    "\n",
    "\n",
    "# Function to plot the spectra\n",
    "def PlotFiles(fileData, fileList):\n",
    "    !bash -c \"mkdir -p ../../Working_Directory/Apo_Phot_Utils/{outputFolder}\"\n",
    "    for file in tqdm(fileList, desc=\"Galaxies\"):\n",
    "        fileName = file.split('_')[0]\n",
    "        plt.plot(fileData[fileName][\"Wavelength\"], fileData[fileName][\"Flux\"])\n",
    "        plt.xscale('log')\n",
    "        plt.savefig(f\"../../Working_Directory/Apo_Phot_Utils/{outputFolder}{fileName}.png\")\n",
    "        plt.close()\n",
    "    return\n",
    "\n",
    "filterFolder = \"Throughputs/nircam_throughputs/mean_throughputs/\"\n",
    "specFolder = \"Spectra/HST_Medium/prism_clear_v1.5/prism_clear/\"\n",
    "outputFolder = \"HST_Medium/prism_clear_v1.5/\"\n",
    "fileList, fileDir = GetFiles()\n",
    "fileData = ImportFiles(fileList, fileDir)\n",
    "PlotFiles(fileData, fileList)"
   ]
  },
  {
   "cell_type": "code",
   "execution_count": 29,
   "id": "bd93cbe8-a069-4aed-bab7-f29853b2717b",
   "metadata": {},
   "outputs": [
    {
     "name": "stdout",
     "output_type": "stream",
     "text": [
      "Importing data...\n",
      "Cleaning filters...\n",
      "Cleaning spectra...\n",
      "Interpolating filters...\n",
      "Done.\n"
     ]
    }
   ],
   "source": [
    "# Function to grab filter curves\n",
    "def GrabFilter():\n",
    "    dirPrefix = GetDirStruct()\n",
    "    filterDir = dirPrefix + filterFolder\n",
    "    filterList = !bash -c \"ls {filterDir}\"\n",
    "    filterList = [file.split('/')[-1] for file in filterList]\n",
    "    filterData = {}\n",
    "    for filterFile in filterList:\n",
    "        filterName = filterFile.split('_')[0]\n",
    "        filterData[filterName] = tbl.Table.read(filterDir + filterFile, format=\"ascii\")\n",
    "        filterData[filterName][\"Microns\"] *= 10 ** (-6)\n",
    "        filterData[filterName].rename_column(\"Microns\", \"Wavelength\")\n",
    "    return filterData\n",
    "\n",
    "# Function to parse tables and set any rows with NaNs to zero, to avoid errors\n",
    "def RemoveNaNs(tableObj):\n",
    "    for col in tableObj.colnames:\n",
    "        for x in range(0, len(tableObj[col]), 1):\n",
    "            if np.isnan(tableObj[col][x]):\n",
    "                print(f\"NaN found! Position {x}, column {col}\")\n",
    "                tableObj[col][x] = 0\n",
    "    return tableObj\n",
    "\n",
    "# Function to interpolate datapoints\n",
    "def InterpFunc(funcXs, funcYs):\n",
    "    funcCube = interpolate.interp1d(funcXs, funcYs, kind='cubic')\n",
    "    return funcCube\n",
    "\n",
    "# Function to find grid overlap for convolutions\n",
    "def FindGrid(funcXs, targetGrid, gridData):\n",
    "    idxSorted = np.argsort(targetGrid)\n",
    "    sortedGrid = np.array(targetGrid[idxSorted])\n",
    "    idxLeft = np.searchsorted(sortedGrid, funcXs[0], side=\"right\")\n",
    "    if targetGrid[idxLeft-1] == funcXs[0]:\n",
    "        idxLeft -= 1\n",
    "    idxRight = np.searchsorted(sortedGrid, funcXs[-1], side=\"left\")\n",
    "    if targetGrid[idxRight] != funcXs[-1]:\n",
    "        idxRight -= 1\n",
    "    funcGrid = sortedGrid[idxLeft:idxRight]\n",
    "    gridOverlap = np.array(gridData[idxSorted])[idxLeft:idxRight]\n",
    "    return funcGrid, gridOverlap\n",
    "\n",
    "# Function to integrate two functions on the same grid\n",
    "def IntegFunc(funcConv, gridOverlap, funcGrid):\n",
    "    funcInteg = np.trapz(funcConv * gridOverlap, x=funcGrid)\n",
    "    return funcInteg\n",
    "\n",
    "# Function to normalise the throughput to the correct zero-point\n",
    "def NormFunc(funcConv, funcGrid, funcInteg):\n",
    "    # norm_ref = 10**(48.6/(-2.5)) # reference zero magnitude\n",
    "    normRef = 1 * u.Jy.to(u.W / ((u.m)**2 * u.Hz)) * 10**(-6) # reference flat-value in f_nu\n",
    "    normGrid = normRef * c.c / funcGrid**2 * funcGrid # not squared, f_lambda in photon_space\n",
    "    normValue = IntegFunc(funcConv, normGrid, funcGrid)\n",
    "    funcNormed = funcInteg / normValue\n",
    "    return normValue, funcNormed\n",
    "\n",
    "# Function to manage overall convolution calculation\n",
    "def ConvolveFunc(funcXs, funcYs, targetGrid, gridData):\n",
    "    # Interpolate datapoints\n",
    "    funcInterp = InterpFunc(funcXs, funcYs)\n",
    "    # Find relevant convolution grid\n",
    "    funcGrid, gridOverlap = FindGrid(funcXs, targetGrid, gridData)\n",
    "    # Convolve onto grid\n",
    "    funcConv = funcInterp(funcGrid)\n",
    "    # Shift to photon space\n",
    "    gridOverlap *= funcGrid\n",
    "    # Perform integration\n",
    "    funcInteg = IntegFunc(funcConv, gridOverlap, funcGrid)\n",
    "    # Normalise the result\n",
    "    normValue, funcNormed = NormFunc(funcConv, funcGrid, funcInteg)\n",
    "    return normValue, funcNormed, funcInteg, funcConv, funcGrid, gridOverlap\n",
    "\n",
    "print(\"Importing data...\")\n",
    "\n",
    "filterData = GrabFilter()\n",
    "\n",
    "print(\"Cleaning filters...\")\n",
    "for filterFile in filterData.values():\n",
    "    filterFile = RemoveNaNs(filterFile)\n",
    "print(\"Cleaning spectra...\")\n",
    "Spectrum = RemoveNaNs(fileData['000416'])\n",
    "\n",
    "print(\"Interpolating filters...\")\n",
    "\n",
    "filterNormValue, filterNormed, filterThrough, filterConv, filterGrid, spectrumFlux = ConvolveFunc(Filter[\"Wavelength\"], Filter[\"Throughput\"], Spectrum[\"Wavelength\"], Spectrum[\"Flux\"])\n",
    "\n",
    "print(\"Done.\")"
   ]
  },
  {
   "cell_type": "code",
   "execution_count": 19,
   "id": "29a7e466-d092-4165-a6a2-859dbc4c1dd1",
   "metadata": {},
   "outputs": [
    {
     "data": {
      "text/plain": [
       "-0.0004695418605066632"
      ]
     },
     "execution_count": 19,
     "metadata": {},
     "output_type": "execute_result"
    }
   ],
   "source": [
    "filterNormed"
   ]
  },
  {
   "cell_type": "code",
   "execution_count": 7,
   "id": "8f2a00a2-a302-4024-879d-a91e64f9955d",
   "metadata": {},
   "outputs": [
    {
     "data": {
      "text/plain": [
       "dict_keys(['000416', '000455', '000490', '000507', '000543', '000618', '001047', '001096', '001146', '001176', '001191', '001304', '001594', '001875', '001926', '001951', '002208', '002266', '002430', '002489', '002895', '003080', '003116', '003135', '003235', '003236', '003259', '003298', '003315', '003344', '003380', '003382', '003418', '003439', '003510', '004028', '004081', '004277', '004507', '004832', '004929', '005052', '005173', '005254', '005278', '005662', '005669', '005672', '005694', '005722', '005724', '005732', '005785', '005815', '005829', '005835', '005940', '005946', '005995', '006022', '006101', '006139', '006151', '006227', '006236', '006277', '006291', '006384', '006398', '006430', '006477', '006496', '006524', '006551', '006591', '006770', '006782', '006800', '006821', '006838', '006844', '006848', '006894', '006935', '006997', '007028', '007041', '007091', '007165', '007236', '007260', '007284', '007360', '007367', '007368', '007395', '007404', '007408', '007449', '007481', '007495', '007508', '007511', '007519', '007544', '008109', '008230', '008282', '008308', '008502', '008624', '008654', '008697', '008767', '008779', '008824', '008826', '008868', '009005', '009034', '009088', '009141', '009164', '009201', '009237', '009266', '009295', '009298', '009308', '009315', '009319', '009325', '009335', '009364', '009365', '009397', '009409', '009442', '009447', '009457', '009547', '009569', '009597', '009598', '009609', '009669', '009684', '009686', '009692', '009696', '009697', '009720', '009728', '009735', '009743', '009781', '009785', '009792', '009818', '009842', '009860', '009867', '009877', '009881', '009883', '009886', '009891', '009925', '009932', '009938', '009942', '009955', '009959', '010825', '010894', '010938', '010948', '010974', '011016', '011095', '011118', '011184', '011186', '011220', '011238', '011266', '011269', '011353', '011354', '011373', '011444', '011491', '011538', '011547', '011612', '011626', '011630', '011910', '011929', '012102', '012122', '012127', '012146', '012170', '012225', '012229', '012242', '012252', '012259', '012281', '012304', '012305', '012314', '012319', '012323', '012324', '012350', '012355', '012370', '012393', '012402', '012427', '012438', '012442', '012443', '012508', '012538', '012564', '012571', '012577', '012582', '012583', '012590', '012611', '012615', '012618', '012619', '012626', '012637', '012644', '012657', '012663', '012678', '012684', '012686', '012698', '012749', '012792', '012837', '012843', '012905', '012928', '012954', '013075', '013079', '013144', '013178', '013199', '013200', '013216', '013229', '013299', '013328', '013329', '013348', '013361', '013369', '013434', '013507', '013534', '013543', '013556', '013605', '013607', '013618', '013620', '013630', '013634', '013638', '013639', '013645', '013646', '013647', '013651', '013851', '013878', '013884', '013887', '013902', '013905', '013908', '013963', '013972', '013977', '014011', '014015', '014036', '014123', '014133', '014137', '014160', '014255', '014260', '014279', '015168', '015210', '015265', '015270', '015273', '015325', '015343', '015345', '015352', '015353', '015357', '015361', '015362', '015377', '015378', '016120', '016167', '016378', '016385', '016391', '016398', '016402', '016413', '016431', '016439', '016441', '016452', '016472', '016477', '017038', '017041', '017057', '017082', '017089', '017109', '017131', '017138', '017159', '017182', '017190', '017214', '017245', '017258', '017272', '017277', '017341', '017348', '017349', '017355', '017369', '017376', '017408', '017504', '017509', '017527', '035570', '035663', '035867', '036019', '036104', '036743', '036806', '036930', '037039', '037170', '037208', '037224', '037266', '037324', '037763', '037960', '038252', '038301', '038405', '038452', '038583', '038672', '038842', '038914', '039228', '039297', '039317', '039354', '039502', '039620', '039679', '039706', '039723', '039740', '039807', '039823', '039855', '039883', '039931', '039932', '039942', '039961', '040012', '040019', '040046', '040111', '040323', '040343', '040450', '040502', '040775', '040847', '040921', '040963', '041031', '041055', '041241', '041247', '041269', '041346', '041372', '041387', '041508', '041516', '041519', '041672', '041675', '041684', '041694', '041724', '041881', '041949', '041998', '042055', '042100', '042162', '042189', '042202', '042366', '042398', '042460', '042464', '042557', '042600', '042692', '042711', '042736', '042782', '042820', '042827', '042892', '042953', '042988', '043205', '043565', '043622', '043741', '043869', '043903', '043933', '043958', '043966', '044068', '044255', '044274', '044362', '044373', '044521', '044572', '044607', '044815', '044832', '044921', '044930', '045007', '045015', '045052', '045083', '045086', '045101', '045111', '045276', '045330', '045352', '045470', '045474', '045486', '045548', '045615', '045637', '045656', '045736', '045737', '045788', '045806', '045831', '045900', '045903', '046026', '046129', '046214', '046215', '046243', '046344', '046359', '046674', '046846', '046959', '046971', '047034', '047038', '047077', '047148', '047206', '047222', '047288', '047323', '047412', '047568', '047615', '047670', '047713', '047806', '047859', '047936', '047972', '048010', '048043', '048049', '048069', '048113', '048155', '048205', '048214', '048270', '048272', '048430', '048436', '048553', '048576', '048602', '048826', '048859', '056853', '057107', '057471', '057491', '057492', '057591', '057603', '058063', '058093', '058260', '058639', '058656', '058658', '058677', '058711', '058842', '058850', '058930', '059068', '059405', '097161', '098712', '104954', '106062', '106696', '106704', '106780', '106795', '107389', '107485', '107500', '107512', '107523', '110733', '110852'])"
      ]
     },
     "execution_count": 7,
     "metadata": {},
     "output_type": "execute_result"
    }
   ],
   "source": [
    "fileData.keys()"
   ]
  },
  {
   "cell_type": "code",
   "execution_count": null,
   "id": "d38ec80e-1172-44a2-822c-c11a61f949ef",
   "metadata": {},
   "outputs": [],
   "source": [
    "46.00287263466458 * 0.000899684595650764 * 0.79917"
   ]
  },
  {
   "cell_type": "code",
   "execution_count": null,
   "id": "2c929494-f9f4-40e6-9fac-1551b5b93143",
   "metadata": {},
   "outputs": [],
   "source": [
    "Filter_normed"
   ]
  },
  {
   "cell_type": "code",
   "execution_count": null,
   "id": "a9f26090-6a58-4a0f-b299-f93fdcc4dfeb",
   "metadata": {},
   "outputs": [],
   "source": [
    "plt.close(\"all\")\n",
    "\n",
    "# plt.plot(Spectrum[\"Wavelength\"], Spectrum[\"Flux\"])\n",
    "# plt.plot(Filter[\"Wavelength\"], Filter[\"Throughput\"] * 10 **(-13))\n",
    "plt.plot(Filter_grid, Filter_conv * 10 **(-13), color='green')\n",
    "plt.plot(Filter_grid, Spectrum_flux, color='blue')\n",
    "plt.plot(Filter_grid, Filter_conv * Spectrum_flux, color='red')"
   ]
  },
  {
   "cell_type": "code",
   "execution_count": null,
   "id": "2bfd018d-b194-4bad-97d6-34fe9161f83f",
   "metadata": {},
   "outputs": [],
   "source": []
  }
 ],
 "metadata": {
  "kernelspec": {
   "display_name": "Python 3 (ipykernel)",
   "language": "python",
   "name": "python3"
  },
  "language_info": {
   "codemirror_mode": {
    "name": "ipython",
    "version": 3
   },
   "file_extension": ".py",
   "mimetype": "text/x-python",
   "name": "python",
   "nbconvert_exporter": "python",
   "pygments_lexer": "ipython3",
   "version": "3.10.4"
  }
 },
 "nbformat": 4,
 "nbformat_minor": 5
}
